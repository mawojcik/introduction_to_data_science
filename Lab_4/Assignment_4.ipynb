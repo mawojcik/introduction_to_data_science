{
 "cells": [
  {
   "cell_type": "markdown",
   "metadata": {},
   "source": [
    "### Today we are going to perform the simple classification of the amazon reviews' sentiment.\n",
    "\n",
    "### Please, download the dataset amazon_baby.csv."
   ]
  },
  {
   "cell_type": "code",
   "execution_count": 304,
   "metadata": {
    "collapsed": false,
    "ExecuteTime": {
     "end_time": "2023-12-15T16:27:38.373334Z",
     "start_time": "2023-12-15T16:27:37.664864Z"
    }
   },
   "outputs": [
    {
     "data": {
      "text/plain": "                                                name  \\\n0                           Planetwise Flannel Wipes   \n1                              Planetwise Wipe Pouch   \n2                Annas Dream Full Quilt with 2 Shams   \n3  Stop Pacifier Sucking without tears with Thumb...   \n4  Stop Pacifier Sucking without tears with Thumb...   \n\n                                              review  rating  \n0  These flannel wipes are OK, but in my opinion ...       3  \n1  it came early and was not disappointed. i love...       5  \n2  Very soft and comfortable and warmer than it l...       5  \n3  This is a product well worth the purchase.  I ...       5  \n4  All of my kids have cried non-stop when I trie...       5  ",
      "text/html": "<div>\n<style scoped>\n    .dataframe tbody tr th:only-of-type {\n        vertical-align: middle;\n    }\n\n    .dataframe tbody tr th {\n        vertical-align: top;\n    }\n\n    .dataframe thead th {\n        text-align: right;\n    }\n</style>\n<table border=\"1\" class=\"dataframe\">\n  <thead>\n    <tr style=\"text-align: right;\">\n      <th></th>\n      <th>name</th>\n      <th>review</th>\n      <th>rating</th>\n    </tr>\n  </thead>\n  <tbody>\n    <tr>\n      <th>0</th>\n      <td>Planetwise Flannel Wipes</td>\n      <td>These flannel wipes are OK, but in my opinion ...</td>\n      <td>3</td>\n    </tr>\n    <tr>\n      <th>1</th>\n      <td>Planetwise Wipe Pouch</td>\n      <td>it came early and was not disappointed. i love...</td>\n      <td>5</td>\n    </tr>\n    <tr>\n      <th>2</th>\n      <td>Annas Dream Full Quilt with 2 Shams</td>\n      <td>Very soft and comfortable and warmer than it l...</td>\n      <td>5</td>\n    </tr>\n    <tr>\n      <th>3</th>\n      <td>Stop Pacifier Sucking without tears with Thumb...</td>\n      <td>This is a product well worth the purchase.  I ...</td>\n      <td>5</td>\n    </tr>\n    <tr>\n      <th>4</th>\n      <td>Stop Pacifier Sucking without tears with Thumb...</td>\n      <td>All of my kids have cried non-stop when I trie...</td>\n      <td>5</td>\n    </tr>\n  </tbody>\n</table>\n</div>"
     },
     "execution_count": 304,
     "metadata": {},
     "output_type": "execute_result"
    }
   ],
   "source": [
    "import pandas as pd\n",
    "import numpy as np\n",
    "import matplotlib.pyplot as plt\n",
    "import string\n",
    "from sklearn.linear_model import LogisticRegression\n",
    "\n",
    "def remove_punctuation(text):\n",
    "    translator = str.maketrans('', '', string.punctuation)\n",
    "    return text.translate(translator)\n",
    "\n",
    "baby_df = pd.read_csv('amazon_baby.csv')\n",
    "baby_df.head()"
   ]
  },
  {
   "cell_type": "markdown",
   "metadata": {},
   "source": [
    "## Exercise 1 (data preparation)\n",
    "a) Remove punctuation from reviews using the given function.   \n",
    "b) Replace all missing (nan) revies with empty \"\" string.  \n",
    "c) Drop all the entries with rating = 3, as they have neutral sentiment.   \n",
    "d) Set all positive ($\\geq$4) ratings to 1 and negative($\\leq$2) to -1."
   ]
  },
  {
   "cell_type": "code",
   "execution_count": 305,
   "metadata": {
    "collapsed": false,
    "ExecuteTime": {
     "end_time": "2023-12-15T16:27:39.018624Z",
     "start_time": "2023-12-15T16:27:38.385637Z"
    }
   },
   "outputs": [
    {
     "name": "stdout",
     "output_type": "stream",
     "text": [
      "False\n",
      "True\n"
     ]
    }
   ],
   "source": [
    "#b)Replace all missing (nan) reviews with empty \"\" string\n",
    "\"\"\"firstly we repalce all missing reviews with empty strings,\n",
    "so we do not have any \"garbage\" data when removing punctuation\"\"\"\n",
    "\n",
    "baby_df[\"review\"] = baby_df[\"review\"].fillna(\"\")\n",
    "\n",
    "# a)Remove punctuation from reviews using the given function\n",
    "baby_df[\"review\"].apply(remove_punctuation)\n",
    "\n",
    "#short test: \n",
    "print(baby_df[\"review\"][4] == 'All of my kids have cried nonstop when I tried to ween them off their pacifier until I found Thumbuddy To Loves Binky Fairy Puppet  It is an easy way to work with your kids to allow them to understand where their pacifier is going and help them part from itThis is a must buy book and a great gift for expecting parents  You will save them soo many headachesThanks for this book  You all rock')\n",
    "print(remove_punctuation(baby_df[\"review\"][4]) == 'All of my kids have cried nonstop when I tried to ween them off their pacifier until I found Thumbuddy To Loves Binky Fairy Puppet  It is an easy way to work with your kids to allow them to understand where their pacifier is going and help them part from itThis is a must buy book and a great gift for expecting parents  You will save them soo many headachesThanks for this book  You all rock')"
   ]
  },
  {
   "cell_type": "code",
   "execution_count": 306,
   "metadata": {
    "collapsed": false,
    "ExecuteTime": {
     "end_time": "2023-12-15T16:27:39.027195Z",
     "start_time": "2023-12-15T16:27:39.015044Z"
    }
   },
   "outputs": [
    {
     "data": {
      "text/plain": "True"
     },
     "execution_count": 306,
     "metadata": {},
     "output_type": "execute_result"
    }
   ],
   "source": [
    "#b)\n",
    "\"\"\"\n",
    "implemented above\n",
    "\"\"\"\n",
    "\n",
    "#short test:\n",
    "baby_df[\"review\"][38] == baby_df[\"review\"][38]"
   ]
  },
  {
   "cell_type": "code",
   "execution_count": 307,
   "metadata": {
    "collapsed": false,
    "ExecuteTime": {
     "end_time": "2023-12-15T16:27:39.079670Z",
     "start_time": "2023-12-15T16:27:39.024235Z"
    }
   },
   "outputs": [
    {
     "data": {
      "text/plain": "0"
     },
     "execution_count": 307,
     "metadata": {},
     "output_type": "execute_result"
    }
   ],
   "source": [
    "#c) Drop all the entries with rating = 3, as they have neutral sentiment\n",
    "baby_df = baby_df.drop(baby_df[baby_df[\"rating\"] == 3].index)\n",
    "\n",
    "#short test:\n",
    "sum(baby_df[\"rating\"] == 3)"
   ]
  },
  {
   "cell_type": "code",
   "execution_count": 308,
   "metadata": {
    "collapsed": false,
    "ExecuteTime": {
     "end_time": "2023-12-15T16:27:39.079950Z",
     "start_time": "2023-12-15T16:27:39.055546Z"
    }
   },
   "outputs": [
    {
     "data": {
      "text/plain": "0"
     },
     "execution_count": 308,
     "metadata": {},
     "output_type": "execute_result"
    }
   ],
   "source": [
    "#d) Set all positive >= 4 ratings to 1 and negative <= 2 to -1\n",
    "\"\"\"\n",
    "Here we map date to either positive or negative\n",
    "This is why we had to drop \"3\". In this case it was neutral\n",
    "\"\"\"\n",
    "\n",
    "baby_df[\"rating\"] = np.where(baby_df[\"rating\"] < 3, -1, 1)\n",
    "#short test:\n",
    "sum(baby_df[\"rating\"]**2 != 1) # no element is different from 1"
   ]
  },
  {
   "cell_type": "markdown",
   "metadata": {},
   "source": [
    "## CountVectorizer\n",
    "In order to analyze strings, we need to assign them numerical values. We will use one of the simplest string representation, which transforms strings into the $n$ dimensional vectors. The number of dimensions will be the size of our dictionary, and then the values of the vector will represent the number of appereances of the given word in the sentence."
   ]
  },
  {
   "cell_type": "code",
   "execution_count": 309,
   "metadata": {
    "collapsed": false,
    "ExecuteTime": {
     "end_time": "2023-12-15T16:27:39.090676Z",
     "start_time": "2023-12-15T16:27:39.084247Z"
    }
   },
   "outputs": [
    {
     "name": "stdout",
     "output_type": "stream",
     "text": [
      "['adore' 'and' 'apples' 'bananas' 'dislike' 'hate' 'like' 'oranges' 'they'\n",
      " 'we']\n",
      "[[0 0 1 0 0 0 1 0 0 1]\n",
      " [0 0 0 0 0 1 0 1 0 1]\n",
      " [1 0 0 1 0 0 0 0 0 0]\n",
      " [0 1 1 0 0 0 2 1 0 1]\n",
      " [0 0 0 1 1 0 0 0 1 0]]\n"
     ]
    }
   ],
   "source": [
    "from sklearn.feature_extraction.text import CountVectorizer\n",
    "\n",
    "vectorizer = CountVectorizer()\n",
    "reviews_train_example = [\"We like apples\",\n",
    "                   \"We hate oranges\",\n",
    "                   \"I adore bananas\",\n",
    "                   \"We like like apples and oranges\",\n",
    "                   \"They dislike bananas\"]\n",
    "\n",
    "X_train_example = vectorizer.fit_transform(reviews_train_example)\n",
    "\n",
    "print(vectorizer.get_feature_names_out())\n",
    "print(X_train_example.todense())\n",
    "\n"
   ]
  },
  {
   "cell_type": "code",
   "execution_count": 310,
   "metadata": {
    "collapsed": false,
    "ExecuteTime": {
     "end_time": "2023-12-15T16:27:39.202001Z",
     "start_time": "2023-12-15T16:27:39.091939Z"
    }
   },
   "outputs": [
    {
     "name": "stdout",
     "output_type": "stream",
     "text": [
      "[[0 0 0 1 0 0 1 0 1 0]\n",
      " [0 1 1 1 0 1 0 1 0 1]\n",
      " [0 0 0 1 0 0 0 0 0 1]]\n"
     ]
    }
   ],
   "source": [
    "reviews_test_example = [\"They like bananas\",\n",
    "                   \"We hate oranges bananas and apples\",\n",
    "                   \"We love bananas\"] #New word!\n",
    "\n",
    "X_test_example = vectorizer.transform(reviews_test_example)\n",
    "\n",
    "print(X_test_example.todense())"
   ]
  },
  {
   "cell_type": "markdown",
   "metadata": {},
   "source": [
    "We should acknowledge few facts. Firstly, CountVectorizer does not take order into account. Secondly, it ignores one-letter words (this can be changed during initialization). Finally, for test values, CountVectorizer ignores words which are not in it's dictionary."
   ]
  },
  {
   "cell_type": "markdown",
   "metadata": {},
   "source": [
    "## Exercise 2 \n",
    "a) Split dataset into training and test sets.     \n",
    "b) Transform reviews into vectors using CountVectorizer. "
   ]
  },
  {
   "cell_type": "code",
   "execution_count": 311,
   "metadata": {
    "collapsed": true,
    "ExecuteTime": {
     "end_time": "2023-12-15T16:27:39.202755Z",
     "start_time": "2023-12-15T16:27:39.103079Z"
    }
   },
   "outputs": [],
   "source": [
    "#a)Split dataset into training and test sets.\n",
    "train_df = baby_df.sample(frac=.8, random_state=42)\n",
    "test_df = baby_df.drop(train_df.index)"
   ]
  },
  {
   "cell_type": "code",
   "execution_count": 312,
   "metadata": {
    "collapsed": true,
    "ExecuteTime": {
     "end_time": "2023-12-15T16:27:42.713973Z",
     "start_time": "2023-12-15T16:27:39.166320Z"
    }
   },
   "outputs": [
    {
     "name": "stdout",
     "output_type": "stream",
     "text": [
      "['acorde' 'acordian' 'acorn' 'acorns' 'acorss' 'acosco' 'acoss'\n",
      " 'acostumbrarla' 'acound' 'acoustic' 'acoustics' 'acquaintance'\n",
      " 'acquaintances' 'acquainted' 'acquainting' 'acquard' 'acquire' 'acquired'\n",
      " 'acquiring' 'acquisition' 'acquisitions' 'acre' 'acreage' 'acres' 'acrid'\n",
      " 'acrobat' 'acrobatic' 'acrobatics' 'acrobats' 'acronym' 'acronyms'\n",
      " 'across' 'acrossed' 'acrossthe' 'acrylic' 'acrylonitrile' 'act' 'actally'\n",
      " 'actaully' 'actaulyl' 'acted' 'actident' 'actied' 'acting' 'action'\n",
      " 'actions' 'activ3' 'activate' 'activated' 'activatei' 'activates'\n",
      " 'activating' 'activation' 'activator' 'active' 'actived' 'actively'\n",
      " 'actives' 'activiation' 'activies' 'activited' 'activites' 'activities'\n",
      " 'activitites' 'activity' 'activitygym' 'actm' 'actoually' 'acts'\n",
      " 'actting' 'actual' 'actuality' 'actualize' 'actuallt' 'actually'\n",
      " 'actuallydon' 'actuallyy' 'actualy' 'actuate' 'actuated' 'actully'\n",
      " 'actuly' 'actvities' 'acual' 'acually' 'acupuncture' 'acura' 'acurate'\n",
      " 'acurately' 'acure' 'acustom' 'acustomed' 'acutal' 'acutally' 'acute'\n",
      " 'ad' 'ada' 'adage' 'adain' 'adam' 'adamant' 'adamantly' 'adament' 'adams'\n",
      " 'adapeter' 'adapor' 'adapt' 'adaptability' 'adaptable' 'adaptableyou'\n",
      " 'adaptaplug' 'adaptation' 'adaptations' 'adapte' 'adapted' 'adapter'\n",
      " 'adapterbritax' 'adapters' 'adaptersit' 'adapterswe' 'adapting'\n",
      " 'adaption' 'adaptive' 'adaptor' 'adaptorfast' 'adaptors' 'adapts'\n",
      " 'adaquate' 'adaquite' 'adavinci' 'adays' 'adc' 'add' 'addapter' 'added'\n",
      " 'addeda' 'addeded' 'addendum' 'addico' 'addict' 'addicted' 'addictedit'\n",
      " 'addicting' 'addiction' 'addictive' 'addictively' 'addicts' 'addiditon'\n",
      " 'addie' 'adding' 'addion' 'addiotional' 'addison' 'additiional'\n",
      " 'additinal' 'additinoal' 'addition' 'additional' 'additionally'\n",
      " 'additionals' 'additionalsafe' 'additionaly' 'additionfunction'\n",
      " 'additions' 'additive' 'additives' 'additonal' 'additonally' 'additude'\n",
      " 'addled' 'addn' 'addon' 'addorable' 'address' 'addresscons' 'addressed'\n",
      " 'addresses' 'addressing' 'adds' 'addt' 'addtion' 'addtional'\n",
      " 'addventurous' 'addvertisment' 'addy' 'adecuado' 'adehsive' 'adelaide'\n",
      " 'adelynn' 'adem' 'ademas' 'aden' 'adenanais' 'adept' 'adeptly' 'adequate'\n",
      " 'adequately' 'adhd' 'adherance' 'adhere' 'adhered' 'adherence' 'adheres'\n",
      " 'adhering' 'adhesion' 'adhesive' 'adhesiveness' 'adhesives' 'adhessive'\n",
      " 'adiamo' 'adidas' 'adieu' 'adin' 'adipates' 'adiri' 'adition' 'aditional'\n",
      " 'adived' 'adj' 'adjacent' 'adjective' 'adjectives' 'adjoining' 'adjsut'\n",
      " 'adjuatable' 'adjunct' 'adjuncts' 'adjusable' 'adjusment' 'adjust'\n",
      " 'adjust6' 'adjustability' 'adjustabilitybaby' 'adjustabilty' 'adjustable'\n",
      " 'adjustable5' 'adjustablehow' 'adjustablele' 'adjustableness'\n",
      " 'adjustablesecure' 'adjustablesince' 'adjustablity' 'adjustble'\n",
      " 'adjustcons' 'adjusted' 'adjustement' 'adjuster' 'adjusters' 'adjustes'\n",
      " 'adjusti' 'adjustibile' 'adjustible' 'adjusting' 'adjustmant'\n",
      " 'adjustment' 'adjustments' 'adjustmentseffortlessly' 'adjustmentthe'\n",
      " 'adjustmetnts' 'adjustmost' 'adjustmy' 'adjustor' 'adjustpower' 'adjusts'\n",
      " 'adjustt' 'adjustthe' 'adjutanle' 'adjutment' 'adler' 'admin'\n",
      " 'administer' 'administered' 'administering' 'administration'\n",
      " 'administrative' 'administrators' 'admirable' 'admirably' 'admiration'\n",
      " 'admire' 'admired' 'admiring' 'admiringly' 'admission' 'admit' 'admits'\n",
      " 'admitt' 'admittance' 'admitted' 'admittedly' 'admitting' 'admonishes'\n",
      " 'admonishment' 'adn' 'ado' 'adolescent' 'adopt' 'adopted' 'adoptee'\n",
      " 'adopting' 'adoption' 'adoptive' 'adopts' 'ador' 'adora' 'adorabe'\n",
      " 'adorable' 'adorablein' 'adorablethe' 'adorablevery' 'adorably' 'adoram'\n",
      " 'adorarable' 'adoration' 'adorbie' 'adorbs' 'adorded' 'adore' 'adoreable'\n",
      " 'adoreablely' 'adored' 'adores' 'adorible' 'adoring' 'adorn' 'adorned'\n",
      " 'adornment' 'adorou' 'adpater' 'adpostal' 'adpt' 'adquirir' 'adrenaline'\n",
      " 'adriana' 'adroable' 'ads' 'adsolutely' 'adsorbant' 'adujstable' 'adult'\n",
      " 'adulthood' 'adultlocks' 'adulto' 'adults' 'adultsmall' 'adustable'\n",
      " 'adustment' 'adv' 'advaced' 'advance' 'advanced' 'advancement'\n",
      " 'advancements' 'advances' 'advancing' 'advandage' 'advant' 'advantage'\n",
      " 'advantagemat' 'advantageous' 'advantages' 'advantageshot' 'advent'\n",
      " 'adventerous' 'adventure' 'adventureand' 'adventurefor' 'adventurer'\n",
      " 'adventures' 'adventuring' 'adventurous' 'adverb' 'adverise' 'adverse'\n",
      " 'adversely' 'adverstised' 'adverstisement' 'advert' 'advertise'\n",
      " 'advertised' 'advertised4' 'advertisedit' 'advertisedsignificant'\n",
      " 'advertisedtemperature' 'advertisement' 'advertisements' 'advertises'\n",
      " 'advertising' 'advertized' 'advertizes' 'advice' 'advices' 'advidce'\n",
      " 'advil' 'advisable' 'advise' 'advised' 'adviser' 'advises' 'advising'\n",
      " 'advisor' 'advisory' 'advocacy' 'advocate' 'advocated' 'advocates'\n",
      " 'advocating' 'ae' 'aerate' 'aerated' 'aerator' 'aereola' 'aerio' 'aero'\n",
      " 'aerobed' 'aerobics' 'aerobile' 'aerodynamic' 'aeroflow' 'aerosol'\n",
      " 'aerospace' 'aestetically' 'aestheteically' 'aesthetic' 'aesthetically'\n",
      " 'aestheticallypleasing' 'aesthetics' 'aestheticsof' 'aevenflo' 'aewsome'\n",
      " 'afaid' 'afantastic' 'afar' 'afd' 'afer' 'aferwards' 'afetr' 'affair'\n",
      " 'affairs' 'affect' 'affected' 'affecting' 'affection' 'affectionate'\n",
      " 'affectionately' 'affective' 'affects' 'affeecting' 'affiad' 'affiliate'\n",
      " 'affiliated' 'affiliates' 'affiliation' 'affinity' 'affirmation'\n",
      " 'affirmed' 'affix' 'affixed' 'affixes' 'affixing' 'affodable' 'afforable'\n",
      " 'afforadable' 'afford' 'affordability' 'affordable' 'affordablecons'\n",
      " 'affordableeasy' 'affordablei' 'affordably' 'affordale' 'afforded'\n",
      " 'affording' 'affords' 'affraid' 'affront' 'afg' 'afghanistan'\n",
      " 'aficionados' 'afield' 'afisher' 'afix' 'afixed' 'aflac' 'afloat' 'afoga'\n",
      " 'afoogo' 'aforementioned' 'afoul' 'afraid' 'afresh' 'afriad' 'africa'\n",
      " 'african' 'afriend' 'afrraid' 'afte' 'after' 'aftera' 'afterall'\n",
      " 'afterbreadingyhe' 'afterbuying' 'aftermarket' 'aftermath' 'afternoon'\n",
      " 'afternoons' 'afteroon' 'afterordering' 'aftershave' 'aftershe'\n",
      " 'aftertaste' 'afterthought' 'afterward' 'afterwards'\n",
      " 'afterwardssubstantial' 'afterwardsw' 'afterwhile' 'afterwoods'\n",
      " 'afterwords' 'afthom' 'afv' 'ag10' 'agaian' 'again' 'again2' 'again3'\n",
      " 'againand' 'againg' 'againrapture' 'agains' 'against' 'againstcons'\n",
      " 'againstthe' 'againt' 'againvery' 'agaist' 'agao' 'agape' 'age' 'aged'\n",
      " 'agei' 'ageing' 'ageless' 'agencies' 'agency' 'agenda' 'agent' 'agents'\n",
      " 'ages' 'agescons' 'ageshugs' 'agesused' 'agethe' 'agewise' 'agey' 'aggie'\n",
      " 'aggitation' 'aggravate' 'aggravated' 'aggravates' 'aggravating'\n",
      " 'aggravation' 'aggregate' 'aggregation' 'aggresive' 'aggression'\n",
      " 'aggressive' 'aggressively' 'aggrevating' 'aggrevation' 'aggrivated'\n",
      " 'aggrivating' 'agian' 'agift' 'agile' 'agility' 'agin' 'aging' 'agion'\n",
      " 'agitate' 'agitated' 'agitates' 'agitating' 'agitation' 'agitator'\n",
      " 'agnew' 'ago' 'agonized' 'agonizing' 'agony' 'agood' 'agptek' 'agraco'\n",
      " 'agradezco' 'agravated' 'agrave' 'agreat' 'agree' 'agreeable' 'agreeably'\n",
      " 'agreed' 'agreee' 'agreeing' 'agreement' 'agrees' 'agrere' 'agressive'\n",
      " 'agrivated' 'ags' 'agua' 'agujero' 'ah' 'aha' 'ahahah' 'ahahahah'\n",
      " 'ahappier' 'ahe' 'ahead' 'aheadof' 'ahem' 'ahen' 'ahh' 'ahha' 'ahhh'\n",
      " 'ahhhed' 'ahhhh' 'ahhhhh' 'ahhhhhh' 'ahhhhhhh' 'ahhhs' 'ahhing' 'ahhs'\n",
      " 'ahi' 'ahip' 'ahipping' 'ahit' 'ahnd' 'ahold' 'aholic' 'ahora'\n",
      " 'ahorramos' 'ahpolstered' 'ahs' 'ahswiwoyo' 'ahuyama' 'ahve' 'ai' 'ai1'\n",
      " 'ai1s' 'ai2' 'ai2s' 'aible' 'aid' 'aidan' 'aide' 'aided' 'aiden' 'aides'\n",
      " 'aiding' 'aidleyco' 'aids' 'ail' 'ailes' 'ailing' 'ailment' 'ailments'\n",
      " 'ails' 'aim' 'aimed' 'aiming' 'aimlessly' 'aims' 'ain' 'ainda' 'aint'\n",
      " 'aio' 'aios' 'aiothirsties' 'aiportextreme' 'air' 'airbag' 'airbags'\n",
      " 'airbed' 'airbeds' 'airboat' 'airborn' 'airborne' 'airbrush' 'airbrushed'\n",
      " 'airconditioning' 'aircraft' 'aire' 'aired' 'airedale' 'aires' 'airflow'\n",
      " 'airfresher' 'airfreshner' 'airhole' 'airier' 'airing' 'airline'\n",
      " 'airlines' 'airlocked' 'airmen' 'airobot' 'airout' 'airplane' 'airplanes'\n",
      " 'airplenaes' 'airpockets' 'airport' 'airportexpress' 'airportextreme'\n",
      " 'airporti' 'airports' 'airportscons' 'airpot' 'airprotect' 'airs'\n",
      " 'airspace' 'airstraps' 'airstream' 'airtight' 'airvent' 'airvents'\n",
      " 'airwave' 'airway' 'airways' 'airy' 'airyness' 'aisi' 'aislamiento'\n",
      " 'aisle' 'aisled' 'aisles' 'aislescould' 'ait' 'aj' 'ajar' 'ajoining'\n",
      " 'ajust' 'ajusta' 'ajustable' 'ajuste' 'ajusters' 'ajustment' 'ajustments'\n",
      " 'ak' 'aka' 'akacabinet' 'ake' 'akiddopotamus' 'akin' 'akita' 'aknow'\n",
      " 'akward' 'akwardly' 'akwardness' 'al' 'al2' 'ala' 'alaa' 'alabama'\n",
      " 'alaina' 'alalska' 'alam' 'alan' 'alana' 'alano' 'alapaha' 'alarm'\n",
      " 'alarmed' 'alarming' 'alarmingly' 'alarmist' 'alarms' 'alas' 'alaska'\n",
      " 'alaskan' 'alaskian' 'alaundry' 'alaways' 'alawys' 'alba' 'albee'\n",
      " 'albeebaby' 'albeit' 'albert' 'alberta' 'albertson' 'albertsons' 'albino'\n",
      " 'album' 'albums' 'albun' 'albuquerque' 'alcanza' 'alchohal' 'alchol'\n",
      " 'alcohol' 'alcoholed' 'alcoholic' 'alcove' 'alder' 'aldi' 'aldis' 'aldo'\n",
      " 'aldow' 'ale' 'aleady' 'aleays' 'aleep' 'alera' 'alergic' 'alergico'\n",
      " 'alero' 'alert' 'alerted' 'alerting' 'alertness' 'alerts' 'ales'\n",
      " 'aleviate' 'aleviated' 'alex' 'alexander' 'alexia' 'alfhabet' 'algae'\n",
      " 'algo' 'algorithm' 'alhtough' 'ali' 'alice' 'alien' 'aliens' 'aligator'\n",
      " 'alighting' 'align' 'aligned' 'alignement' 'aligning' 'alignment'\n",
      " 'aligns' 'alike' 'alil' 'alimentacion' 'alimentar' 'alimentary'\n",
      " 'alimentos' 'alimentum' 'alined' 'aliphatic' 'alison' 'alissa' 'alittel'\n",
      " 'alittle' 'alive' 'alk' 'alka' 'alkaline' 'alkalines' 'alked' 'alking'\n",
      " 'all' 'allaboutclothdiapers' 'allan' 'allarming' 'allday' 'alldislikes'\n",
      " 'alldoes' 'alleaviate' 'alledged' 'alleged' 'allegedly' 'allegiance'\n",
      " 'allegiant' 'allegric' 'alleluia' 'allemande' 'allen' 'allens' 'allergan'\n",
      " 'allergen' 'allergenic' 'allergens' 'allergic' 'allergies' 'allergist'\n",
      " 'allergy' 'alleviate' 'alleviated' 'alleviates' 'alleviating' 'alley'\n",
      " 'alli' 'alliance' 'alligator' 'alligators' 'allison' 'alliteration'\n",
      " 'allived' 'alll' 'alllightweight' 'allll' 'alllll' 'alllllllways'\n",
      " 'allmodern' 'allmomsareperfect' 'allmost' 'allmy' 'allnight' 'allno'\n",
      " 'allo' 'alloew' 'allof' 'allot' 'alloted' 'allotted' 'allouette'\n",
      " 'allover' 'alloverall' 'allow' 'allowable' 'allowance' 'allowances'\n",
      " 'allowed' 'allowin' 'allowing' 'allowopen' 'allows' 'alloy' 'allplaytex'\n",
      " 'allready' 'allright' 'allroad' 'alls' 'allshould' 'allthat' 'allthe'\n",
      " 'alltogether' 'alluded' 'alludes' 'allure' 'alluring' 'allways'\n",
      " 'allwoing' 'allworks' 'allyn' 'alma' 'almay' 'almighty' 'almkst'\n",
      " 'almohada' 'almohaditas' 'almond' 'almonds' 'almos' 'almose' 'almost'\n",
      " 'almost11' 'almosy' 'almosyw' 'alocohol' 'aloe' 'aloha' 'aloi' 'alomost'\n",
      " 'alomst' 'alone' 'alone3' 'alone7' 'alone8' 'alonecons' 'alones'\n",
      " 'alonewhat' 'along' 'alongs' 'alongside' 'alongsidesidekick' 'aloows'\n",
      " 'alopecia' 'alos' 'alot' 'alota' 'alots' 'alotted' 'alotuseful' 'aloud'\n",
      " 'alovingmom' 'alowe' 'alowing' 'alows' 'alpaca' 'alpha' 'alphabet'\n",
      " 'alphabeth' 'alphabetical' 'alphabetically']\n",
      "(57381,)\n",
      "(133402, 57381)\n"
     ]
    },
    {
     "data": {
      "text/plain": "'\\nsize is too big, so we cant do .todense\\nInstead I print small portion of dictionary\\n'"
     },
     "execution_count": 312,
     "metadata": {},
     "output_type": "execute_result"
    }
   ],
   "source": [
    "#b)Transform reviews into vectors using CountVectorizer. \n",
    "from sklearn.feature_extraction.text import CountVectorizer\n",
    "\n",
    "vectorizer = CountVectorizer()\n",
    "X_train_example = vectorizer.fit_transform(train_df.review)\n",
    "# only transform on test\n",
    "\n",
    "print(vectorizer.get_feature_names_out()[3000:4000])\n",
    "# print(X_train_example.todense())\n",
    "print(vectorizer.get_feature_names_out().shape)\n",
    "print(X_train_example.shape) #too big to do todense()\n",
    "\"\"\"\n",
    "size is too big, so we cant do .todense\n",
    "Instead I print small portion of dictionary\n",
    "\"\"\""
   ]
  },
  {
   "cell_type": "markdown",
   "metadata": {},
   "source": [
    "## Exercise 3 \n",
    "a) Train LogisticRegression model on training data (reviews processed with CountVectorizer, ratings as they were).   \n",
    "b) Print 10 most positive and 10 most negative words."
   ]
  },
  {
   "cell_type": "code",
   "execution_count": 313,
   "metadata": {
    "collapsed": true,
    "ExecuteTime": {
     "end_time": "2023-12-15T16:28:05.360168Z",
     "start_time": "2023-12-15T16:27:42.716370Z"
    }
   },
   "outputs": [
    {
     "data": {
      "text/plain": "LogisticRegression(max_iter=1200)",
      "text/html": "<style>#sk-container-id-7 {color: black;}#sk-container-id-7 pre{padding: 0;}#sk-container-id-7 div.sk-toggleable {background-color: white;}#sk-container-id-7 label.sk-toggleable__label {cursor: pointer;display: block;width: 100%;margin-bottom: 0;padding: 0.3em;box-sizing: border-box;text-align: center;}#sk-container-id-7 label.sk-toggleable__label-arrow:before {content: \"▸\";float: left;margin-right: 0.25em;color: #696969;}#sk-container-id-7 label.sk-toggleable__label-arrow:hover:before {color: black;}#sk-container-id-7 div.sk-estimator:hover label.sk-toggleable__label-arrow:before {color: black;}#sk-container-id-7 div.sk-toggleable__content {max-height: 0;max-width: 0;overflow: hidden;text-align: left;background-color: #f0f8ff;}#sk-container-id-7 div.sk-toggleable__content pre {margin: 0.2em;color: black;border-radius: 0.25em;background-color: #f0f8ff;}#sk-container-id-7 input.sk-toggleable__control:checked~div.sk-toggleable__content {max-height: 200px;max-width: 100%;overflow: auto;}#sk-container-id-7 input.sk-toggleable__control:checked~label.sk-toggleable__label-arrow:before {content: \"▾\";}#sk-container-id-7 div.sk-estimator input.sk-toggleable__control:checked~label.sk-toggleable__label {background-color: #d4ebff;}#sk-container-id-7 div.sk-label input.sk-toggleable__control:checked~label.sk-toggleable__label {background-color: #d4ebff;}#sk-container-id-7 input.sk-hidden--visually {border: 0;clip: rect(1px 1px 1px 1px);clip: rect(1px, 1px, 1px, 1px);height: 1px;margin: -1px;overflow: hidden;padding: 0;position: absolute;width: 1px;}#sk-container-id-7 div.sk-estimator {font-family: monospace;background-color: #f0f8ff;border: 1px dotted black;border-radius: 0.25em;box-sizing: border-box;margin-bottom: 0.5em;}#sk-container-id-7 div.sk-estimator:hover {background-color: #d4ebff;}#sk-container-id-7 div.sk-parallel-item::after {content: \"\";width: 100%;border-bottom: 1px solid gray;flex-grow: 1;}#sk-container-id-7 div.sk-label:hover label.sk-toggleable__label {background-color: #d4ebff;}#sk-container-id-7 div.sk-serial::before {content: \"\";position: absolute;border-left: 1px solid gray;box-sizing: border-box;top: 0;bottom: 0;left: 50%;z-index: 0;}#sk-container-id-7 div.sk-serial {display: flex;flex-direction: column;align-items: center;background-color: white;padding-right: 0.2em;padding-left: 0.2em;position: relative;}#sk-container-id-7 div.sk-item {position: relative;z-index: 1;}#sk-container-id-7 div.sk-parallel {display: flex;align-items: stretch;justify-content: center;background-color: white;position: relative;}#sk-container-id-7 div.sk-item::before, #sk-container-id-7 div.sk-parallel-item::before {content: \"\";position: absolute;border-left: 1px solid gray;box-sizing: border-box;top: 0;bottom: 0;left: 50%;z-index: -1;}#sk-container-id-7 div.sk-parallel-item {display: flex;flex-direction: column;z-index: 1;position: relative;background-color: white;}#sk-container-id-7 div.sk-parallel-item:first-child::after {align-self: flex-end;width: 50%;}#sk-container-id-7 div.sk-parallel-item:last-child::after {align-self: flex-start;width: 50%;}#sk-container-id-7 div.sk-parallel-item:only-child::after {width: 0;}#sk-container-id-7 div.sk-dashed-wrapped {border: 1px dashed gray;margin: 0 0.4em 0.5em 0.4em;box-sizing: border-box;padding-bottom: 0.4em;background-color: white;}#sk-container-id-7 div.sk-label label {font-family: monospace;font-weight: bold;display: inline-block;line-height: 1.2em;}#sk-container-id-7 div.sk-label-container {text-align: center;}#sk-container-id-7 div.sk-container {/* jupyter's `normalize.less` sets `[hidden] { display: none; }` but bootstrap.min.css set `[hidden] { display: none !important; }` so we also need the `!important` here to be able to override the default hidden behavior on the sphinx rendered scikit-learn.org. See: https://github.com/scikit-learn/scikit-learn/issues/21755 */display: inline-block !important;position: relative;}#sk-container-id-7 div.sk-text-repr-fallback {display: none;}</style><div id=\"sk-container-id-7\" class=\"sk-top-container\"><div class=\"sk-text-repr-fallback\"><pre>LogisticRegression(max_iter=1200)</pre><b>In a Jupyter environment, please rerun this cell to show the HTML representation or trust the notebook. <br />On GitHub, the HTML representation is unable to render, please try loading this page with nbviewer.org.</b></div><div class=\"sk-container\" hidden><div class=\"sk-item\"><div class=\"sk-estimator sk-toggleable\"><input class=\"sk-toggleable__control sk-hidden--visually\" id=\"sk-estimator-id-7\" type=\"checkbox\" checked><label for=\"sk-estimator-id-7\" class=\"sk-toggleable__label sk-toggleable__label-arrow\">LogisticRegression</label><div class=\"sk-toggleable__content\"><pre>LogisticRegression(max_iter=1200)</pre></div></div></div></div></div>"
     },
     "execution_count": 313,
     "metadata": {},
     "output_type": "execute_result"
    }
   ],
   "source": [
    "#a) Train LogisticRegression model on training data (reviews processed with CountVectorizer, ratings as they were)\n",
    "\"\"\"\n",
    "I had to change max_iter because model was failing do converge\n",
    "\"\"\"\n",
    "model = LogisticRegression(max_iter=1200)\n",
    "model.fit(X_train_example, train_df[\"rating\"])"
   ]
  },
  {
   "cell_type": "code",
   "execution_count": 314,
   "metadata": {
    "collapsed": true,
    "ExecuteTime": {
     "end_time": "2023-12-15T16:28:05.560239Z",
     "start_time": "2023-12-15T16:28:05.410349Z"
    }
   },
   "outputs": [
    {
     "name": "stdout",
     "output_type": "stream",
     "text": [
      "['excellent', 'skeptical', 'pleased', 'saves', 'outstanding', 'highly', 'pleasantly', 'worry', 'amazed', 'rich']\n",
      "['dissapointed', 'worst', 'worthless', 'poorly', 'intelligent', 'unusable', 'disappointing', 'concept', 'falsely', 'poor']\n"
     ]
    }
   ],
   "source": [
    "#b) Print 10 most positive and 10 most negative words\n",
    "sorted_coef, sorted_features = (list(x) for x in zip(*sorted(zip(model.coef_.tolist()[0], vectorizer.get_feature_names_out()))))\n",
    "\n",
    "top_positive = sorted_features[-10:]\n",
    "top_negative = sorted_features[:10]\n",
    "\n",
    "print(top_positive)\n",
    "print(top_negative)\n",
    "#hint: model.coef_, vectorizer.get_feature_names()"
   ]
  },
  {
   "cell_type": "markdown",
   "metadata": {},
   "source": [
    "## Exercise 4 \n",
    "a) Predict the sentiment of test data reviews.   \n",
    "b) Predict the sentiment of test data reviews in terms of probability.   \n",
    "c) Find five most positive and most negative reviews.   \n",
    "d) Calculate the accuracy of predictions."
   ]
  },
  {
   "cell_type": "code",
   "execution_count": 315,
   "metadata": {
    "collapsed": true,
    "ExecuteTime": {
     "end_time": "2023-12-15T16:28:06.466926Z",
     "start_time": "2023-12-15T16:28:05.641398Z"
    }
   },
   "outputs": [
    {
     "name": "stdout",
     "output_type": "stream",
     "text": [
      "[ 1  1  1  1  1  1  1 -1  1  1 -1  1  1  1  1  1  1  1 -1  1]\n"
     ]
    }
   ],
   "source": [
    "#a)\n",
    "# Here I predict sentiment od test data reviews.\n",
    "# As we can observe on first 21 reviews, they can be either positive or negative.\n",
    "X_test_example = vectorizer.transform(test_df.review) # create test data vectorizer\n",
    "\n",
    "sentiments = model.predict(X_test_example)\n",
    "print(sentiments[:20])\n",
    "\n"
   ]
  },
  {
   "cell_type": "code",
   "execution_count": 316,
   "metadata": {
    "collapsed": true,
    "ExecuteTime": {
     "end_time": "2023-12-15T16:28:06.475939Z",
     "start_time": "2023-12-15T16:28:06.468049Z"
    }
   },
   "outputs": [
    {
     "name": "stdout",
     "output_type": "stream",
     "text": [
      "Sentence: They like bananas\n",
      "Probability for negative sentence: 0.00797114819307787\n",
      "Probability for positive sentence: 0.9920288518069221\n",
      "\n",
      "Sentence: We love bananas\n",
      "Probability for negative sentence: 0.05755111956822989\n",
      "Probability for positive sentence: 0.9424488804317701\n"
     ]
    }
   ],
   "source": [
    "#b)\n",
    "# here I have written with what probability a sentiment is given.\n",
    "# it prints the probability for positive or negative result\n",
    "probability_reviews_sentiment = model.predict_proba(X_test_example)\n",
    "\n",
    "print(f\"Sentence: {reviews_test_example[0]}\\n\"\n",
    "      f\"Probability for negative sentence: \"\n",
    "      f\"{probability_reviews_sentiment[0][0]}\\n\"\n",
    "      f\"Probability for positive sentence: \"\n",
    "      f\"{probability_reviews_sentiment[0][1]}\\n\")\n",
    "\n",
    "# As we can see, prediction is very strong, that te given sentence has a positive meaning\n",
    "\n",
    "print(f\"Sentence: {reviews_test_example[2]}\\n\"\n",
    "      f\"Probability for negative sentence: \"\n",
    "      f\"{probability_reviews_sentiment[2][0]}\\n\"\n",
    "      f\"Probability for positive sentence: \"\n",
    "      f\"{probability_reviews_sentiment[2][1]}\")\n",
    "\n",
    "# In second example, with different sentence we can also observe high probability for positive meaning and in fact, this sentence has positive meaning\n",
    "# Predictions are working!\n",
    "\n",
    "#hint: model.predict_proba()"
   ]
  },
  {
   "cell_type": "code",
   "execution_count": 317,
   "metadata": {
    "collapsed": true,
    "ExecuteTime": {
     "end_time": "2023-12-15T16:28:06.556601Z",
     "start_time": "2023-12-15T16:28:06.531660Z"
    }
   },
   "outputs": [
    {
     "name": "stdout",
     "output_type": "stream",
     "text": [
      "[\"These bowls are nice and sturdy, just like I expected them to be.  They are just the right size for my daughter's lunch.  The only issue is that the lids are somewhat hard to get on.  Just takes a little practice, though.  I definitely think we'll get more than our money's worth out of these.\", 'These bottles are excellent bottles for to prevent colic in babies.  The price is to expensive.', 'Its cool, refuses to stay on my faucet though as my facuet starts small and gets bigger... Still Trying to find a way to rig it up to stay on', 'Of course, no accidents since we purchased this.  But the sale was easy, the pad was easy to put on.', 'I think by far this is the best rattle we own. The handle is small enough that a 2 month old starting to learn to grasp can practice on, they can chew on it ( which they will all eventually do), the rattle sound is loud enough to get their attention without annoying the grown ups in the room. It is colorful enough that they can learn to follow it when you dangle it. Over-all just a great product']\n",
      "\n",
      "\n",
      "\n",
      "[\"This blanket is almost more like a playmat, in that it's so fluffy thick that it seems more suited to laying on rather than under---it's beautiful and soft and nice quality.  I like it!\", \"I purchased this to protect my daughter's neck from her car seat straps in the summer when she's wearing sleeveless shirts or dresses and it's perfect!  She's much happier without the straps digging into her skin.  They're super easy to put on and off and cute as can be! I highly recommend this product!\", 'I bought one of these for a \"well-endowed\" friend who was expecting. It was the hit of the baby shower, and now that her daughter is here, my friend reports that both she and the baby are loving the nursing system!', 'Failed to post this review when purchased a couple years ago.  My son is now 4 & still fits in this seat.  He has nearly outgrown it but it still fits him (for now).  I feel that this seat is extremely safe & worth the extra $.  I have recommended this seat to everyone that I know who is either expecting a child or moving their child out of the infant seat.  Although this seat can be used for a newborn, I would recommend the carseat/carrier style for easy baby transport to & from the car.  I put my son in this seat once he outgrew his infant carrier seat.', \"Did I say great?  This was our second monitor.  Our first would make sounds from the unit in the baby's room and on our unit.  I was very annoyed.  This unit is silent in the baby's room and had Zero feedback from our cell phone, cordless phone, and other electrical equipment.  It also amplifies the sound and is very clear.  Our baby has a very soft cry and the volume on this unit could be adjusted enough to wake us up out of the soundest of sleeps.\"]\n"
     ]
    }
   ],
   "source": [
    "#c) Find five most positive and most negative reviews.\n",
    "sorted_sentiment, sorted_reviews = (list(x) for x in zip(*sorted(zip(probability_reviews_sentiment[:,0], baby_df[\"review\"]), reverse=True)))\n",
    "# sorting in descending order - best review is first\n",
    "\n",
    "top_positive_review = sorted_reviews[0:5]\n",
    "top_negative_review = sorted_reviews[-6:-1]\n",
    "\n",
    "print(top_positive_review, end=\"\\n\\n\\n\\n\")\n",
    "print(top_negative_review)\n",
    "\n",
    "# I am having problems with extracting real positive and negative reviews.\n",
    "# The problem could be that people who write negative reviews tend to write them short,\n",
    "# and the model definitely favours long reviews.\n"
   ]
  },
  {
   "cell_type": "code",
   "execution_count": 324,
   "metadata": {
    "collapsed": true,
    "ExecuteTime": {
     "end_time": "2023-12-15T16:32:48.754397Z",
     "start_time": "2023-12-15T16:32:48.671640Z"
    }
   },
   "outputs": [
    {
     "data": {
      "text/plain": "0.9491554997208264"
     },
     "execution_count": 324,
     "metadata": {},
     "output_type": "execute_result"
    }
   ],
   "source": [
    "#d) Calculate the accuracy of predictions.\n",
    "from sklearn.metrics import precision_score\n",
    "\n",
    "y_pred = model.predict(X_test_example)\n",
    "y_true = test_df[\"rating\"]\n",
    "\n",
    "precision_score(y_true,  y_pred)\n",
    "\n",
    "\n",
    "# accuracy of predictions is almost 95 %, it is very good result"
   ]
  },
  {
   "cell_type": "markdown",
   "metadata": {},
   "source": [
    "## Exercise 5\n",
    "In this exercise we will limit the dictionary of CountVectorizer to the set of significant words, defined below.\n",
    "\n",
    "\n",
    "a) Redo exercises 2-5 using limited dictionary.   \n",
    "b) Check the impact of all the words from the dictionary.   \n",
    "c) Compare accuracy of predictions and the time of evaluation."
   ]
  },
  {
   "cell_type": "code",
   "execution_count": 322,
   "metadata": {
    "collapsed": true,
    "ExecuteTime": {
     "end_time": "2023-12-15T16:31:39.182134Z",
     "start_time": "2023-12-15T16:31:39.180120Z"
    }
   },
   "outputs": [],
   "source": [
    "significant_words = ['love','great','easy','old','little','perfect','loves','well','able','car','broke','less','even','waste','disappointed','work','product','money','would','return']"
   ]
  },
  {
   "cell_type": "code",
   "execution_count": null,
   "metadata": {
    "collapsed": true,
    "ExecuteTime": {
     "end_time": "2023-12-15T16:28:06.561094Z",
     "start_time": "2023-12-15T16:28:06.558922Z"
    }
   },
   "outputs": [],
   "source": [
    "#a)\n",
    "vectorizer_subset = CountVectorizer(vocabulary= significant_words)\n",
    "# find X_train_subset; X_test_subset, using vectorizer_subset\n"
   ]
  },
  {
   "cell_type": "code",
   "execution_count": null,
   "metadata": {
    "collapsed": true,
    "ExecuteTime": {
     "start_time": "2023-12-15T16:28:06.560367Z"
    }
   },
   "outputs": [],
   "source": [
    "#b)\n"
   ]
  },
  {
   "cell_type": "code",
   "execution_count": null,
   "metadata": {
    "collapsed": true,
    "ExecuteTime": {
     "end_time": "2023-12-15T16:28:06.596587Z",
     "start_time": "2023-12-15T16:28:06.561254Z"
    }
   },
   "outputs": [],
   "source": [
    "#c)\n",
    "\n",
    "#hint: %time, %timeit"
   ]
  }
 ],
 "metadata": {
  "anaconda-cloud": {},
  "kernelspec": {
   "name": "python3",
   "language": "python",
   "display_name": "Python 3 (ipykernel)"
  },
  "language_info": {
   "codemirror_mode": {
    "name": "ipython",
    "version": 2
   },
   "file_extension": ".py",
   "mimetype": "text/x-python",
   "name": "python",
   "nbconvert_exporter": "python",
   "pygments_lexer": "ipython2",
   "version": "2.7.12"
  }
 },
 "nbformat": 4,
 "nbformat_minor": 4
}
