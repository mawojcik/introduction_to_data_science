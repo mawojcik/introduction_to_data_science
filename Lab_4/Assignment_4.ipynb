{
 "cells": [
  {
   "cell_type": "markdown",
   "metadata": {},
   "source": [
    "### Today we are going to perform the simple classification of the amazon reviews' sentiment.\n",
    "\n",
    "### Please, download the dataset amazon_baby.csv."
   ]
  },
  {
   "cell_type": "code",
   "execution_count": 2,
   "metadata": {
    "collapsed": false,
    "ExecuteTime": {
     "end_time": "2023-12-05T13:23:25.401717Z",
     "start_time": "2023-12-05T13:23:16.077832Z"
    }
   },
   "outputs": [
    {
     "data": {
      "text/plain": "                                                name  \\\n0                           Planetwise Flannel Wipes   \n1                              Planetwise Wipe Pouch   \n2                Annas Dream Full Quilt with 2 Shams   \n3  Stop Pacifier Sucking without tears with Thumb...   \n4  Stop Pacifier Sucking without tears with Thumb...   \n\n                                              review  rating  \n0  These flannel wipes are OK, but in my opinion ...       3  \n1  it came early and was not disappointed. i love...       5  \n2  Very soft and comfortable and warmer than it l...       5  \n3  This is a product well worth the purchase.  I ...       5  \n4  All of my kids have cried non-stop when I trie...       5  ",
      "text/html": "<div>\n<style scoped>\n    .dataframe tbody tr th:only-of-type {\n        vertical-align: middle;\n    }\n\n    .dataframe tbody tr th {\n        vertical-align: top;\n    }\n\n    .dataframe thead th {\n        text-align: right;\n    }\n</style>\n<table border=\"1\" class=\"dataframe\">\n  <thead>\n    <tr style=\"text-align: right;\">\n      <th></th>\n      <th>name</th>\n      <th>review</th>\n      <th>rating</th>\n    </tr>\n  </thead>\n  <tbody>\n    <tr>\n      <th>0</th>\n      <td>Planetwise Flannel Wipes</td>\n      <td>These flannel wipes are OK, but in my opinion ...</td>\n      <td>3</td>\n    </tr>\n    <tr>\n      <th>1</th>\n      <td>Planetwise Wipe Pouch</td>\n      <td>it came early and was not disappointed. i love...</td>\n      <td>5</td>\n    </tr>\n    <tr>\n      <th>2</th>\n      <td>Annas Dream Full Quilt with 2 Shams</td>\n      <td>Very soft and comfortable and warmer than it l...</td>\n      <td>5</td>\n    </tr>\n    <tr>\n      <th>3</th>\n      <td>Stop Pacifier Sucking without tears with Thumb...</td>\n      <td>This is a product well worth the purchase.  I ...</td>\n      <td>5</td>\n    </tr>\n    <tr>\n      <th>4</th>\n      <td>Stop Pacifier Sucking without tears with Thumb...</td>\n      <td>All of my kids have cried non-stop when I trie...</td>\n      <td>5</td>\n    </tr>\n  </tbody>\n</table>\n</div>"
     },
     "execution_count": 2,
     "metadata": {},
     "output_type": "execute_result"
    }
   ],
   "source": [
    "import pandas as pd\n",
    "import numpy as np\n",
    "import matplotlib.pyplot as plt\n",
    "import string\n",
    "from sklearn.linear_model import LogisticRegression\n",
    "\n",
    "def remove_punctuation(text):\n",
    "    translator = str.maketrans('', '', string.punctuation)\n",
    "    return text.translate(translator)\n",
    "\n",
    "baby_df = pd.read_csv('amazon_baby.csv')\n",
    "baby_df.head()"
   ]
  },
  {
   "cell_type": "markdown",
   "metadata": {},
   "source": [
    "## Exercise 1 (data preparation)\n",
    "a) Remove punctuation from reviews using the given function.   \n",
    "b) Replace all missing (nan) revies with empty \"\" string.  \n",
    "c) Drop all the entries with rating = 3, as they have neutral sentiment.   \n",
    "d) Set all positive ($\\geq$4) ratings to 1 and negative($\\leq$2) to -1."
   ]
  },
  {
   "cell_type": "code",
   "execution_count": 3,
   "metadata": {
    "collapsed": false,
    "ExecuteTime": {
     "end_time": "2023-12-05T13:23:29.205472Z",
     "start_time": "2023-12-05T13:23:25.420510Z"
    }
   },
   "outputs": [
    {
     "name": "stdout",
     "output_type": "stream",
     "text": [
      "False\n",
      "True\n"
     ]
    }
   ],
   "source": [
    "#b)Replace all missing (nan) reviews with empty \"\" string\n",
    "\"\"\"firstly we repalce all missing reviews with empty strings,\n",
    "so we do not have any \"garbage\" data when removing punctuation\"\"\"\n",
    "\n",
    "baby_df[\"review\"] = baby_df[\"review\"].fillna(\"\")\n",
    "\n",
    "# a)Remove punctuation from reviews using the given function\n",
    "baby_df[\"review\"].apply(remove_punctuation)\n",
    "\n",
    "#short test: \n",
    "print(baby_df[\"review\"][4] == 'All of my kids have cried nonstop when I tried to ween them off their pacifier until I found Thumbuddy To Loves Binky Fairy Puppet  It is an easy way to work with your kids to allow them to understand where their pacifier is going and help them part from itThis is a must buy book and a great gift for expecting parents  You will save them soo many headachesThanks for this book  You all rock')\n",
    "print(remove_punctuation(baby_df[\"review\"][4]) == 'All of my kids have cried nonstop when I tried to ween them off their pacifier until I found Thumbuddy To Loves Binky Fairy Puppet  It is an easy way to work with your kids to allow them to understand where their pacifier is going and help them part from itThis is a must buy book and a great gift for expecting parents  You will save them soo many headachesThanks for this book  You all rock')"
   ]
  },
  {
   "cell_type": "code",
   "execution_count": 4,
   "metadata": {
    "collapsed": false,
    "ExecuteTime": {
     "end_time": "2023-12-05T13:23:29.302142Z",
     "start_time": "2023-12-05T13:23:29.198660Z"
    }
   },
   "outputs": [
    {
     "data": {
      "text/plain": "True"
     },
     "execution_count": 4,
     "metadata": {},
     "output_type": "execute_result"
    }
   ],
   "source": [
    "#b)\n",
    "\"\"\"\n",
    "implemented above\n",
    "\"\"\"\n",
    "\n",
    "#short test:\n",
    "baby_df[\"review\"][38] == baby_df[\"review\"][38]"
   ]
  },
  {
   "cell_type": "code",
   "execution_count": 5,
   "metadata": {
    "collapsed": false,
    "ExecuteTime": {
     "end_time": "2023-12-05T13:23:29.513473Z",
     "start_time": "2023-12-05T13:23:29.212632Z"
    }
   },
   "outputs": [
    {
     "data": {
      "text/plain": "0"
     },
     "execution_count": 5,
     "metadata": {},
     "output_type": "execute_result"
    }
   ],
   "source": [
    "#c) Drop all the entries with rating = 3, as they have neutral sentiment\n",
    "baby_df = baby_df.drop(baby_df[baby_df[\"rating\"] == 3].index)\n",
    "\n",
    "#short test:\n",
    "sum(baby_df[\"rating\"] == 3)"
   ]
  },
  {
   "cell_type": "code",
   "execution_count": 6,
   "metadata": {
    "collapsed": false,
    "ExecuteTime": {
     "end_time": "2023-12-05T13:23:29.536674Z",
     "start_time": "2023-12-05T13:23:29.344600Z"
    }
   },
   "outputs": [
    {
     "data": {
      "text/plain": "0"
     },
     "execution_count": 6,
     "metadata": {},
     "output_type": "execute_result"
    }
   ],
   "source": [
    "#d) Set all positive >= 4 ratings to 1 and negative <= 2 to -1\n",
    "\"\"\"\n",
    "Here we map date to either positive or negative\n",
    "This is why we had to drop \"3\". In this case it was neutral\n",
    "\"\"\"\n",
    "\n",
    "baby_df[\"rating\"] = np.where(baby_df[\"rating\"] < 3, -1, 1)\n",
    "#short test:\n",
    "sum(baby_df[\"rating\"]**2 != 1) # no element is different from 1"
   ]
  },
  {
   "cell_type": "markdown",
   "metadata": {},
   "source": [
    "## CountVectorizer\n",
    "In order to analyze strings, we need to assign them numerical values. We will use one of the simplest string representation, which transforms strings into the $n$ dimensional vectors. The number of dimensions will be the size of our dictionary, and then the values of the vector will represent the number of appereances of the given word in the sentence."
   ]
  },
  {
   "cell_type": "code",
   "execution_count": 7,
   "metadata": {
    "collapsed": false,
    "ExecuteTime": {
     "end_time": "2023-12-05T13:23:29.538733Z",
     "start_time": "2023-12-05T13:23:29.365389Z"
    }
   },
   "outputs": [
    {
     "name": "stdout",
     "output_type": "stream",
     "text": [
      "['adore' 'and' 'apples' 'bananas' 'dislike' 'hate' 'like' 'oranges' 'they'\n",
      " 'we']\n",
      "[[0 0 1 0 0 0 1 0 0 1]\n",
      " [0 0 0 0 0 1 0 1 0 1]\n",
      " [1 0 0 1 0 0 0 0 0 0]\n",
      " [0 1 1 0 0 0 2 1 0 1]\n",
      " [0 0 0 1 1 0 0 0 1 0]]\n"
     ]
    }
   ],
   "source": [
    "from sklearn.feature_extraction.text import CountVectorizer\n",
    "\n",
    "vectorizer = CountVectorizer()\n",
    "reviews_train_example = [\"We like apples\",\n",
    "                   \"We hate oranges\",\n",
    "                   \"I adore bananas\",\n",
    "                   \"We like like apples and oranges\",\n",
    "                   \"They dislike bananas\"]\n",
    "\n",
    "X_train_example = vectorizer.fit_transform(reviews_train_example)\n",
    "\n",
    "print(vectorizer.get_feature_names_out())\n",
    "print(X_train_example.todense())\n",
    "\n"
   ]
  },
  {
   "cell_type": "code",
   "execution_count": 8,
   "metadata": {
    "collapsed": false,
    "ExecuteTime": {
     "end_time": "2023-12-05T13:23:29.541255Z",
     "start_time": "2023-12-05T13:23:29.417288Z"
    }
   },
   "outputs": [
    {
     "name": "stdout",
     "output_type": "stream",
     "text": [
      "[[0 0 0 1 0 0 1 0 1 0]\n",
      " [0 1 1 1 0 1 0 1 0 1]\n",
      " [0 0 0 1 0 0 0 0 0 1]]\n"
     ]
    }
   ],
   "source": [
    "reviews_test_example = [\"They like bananas\",\n",
    "                   \"We hate oranges bananas and apples\",\n",
    "                   \"We love bananas\"] #New word!\n",
    "\n",
    "X_test_example = vectorizer.transform(reviews_test_example)\n",
    "\n",
    "print(X_test_example.todense())"
   ]
  },
  {
   "cell_type": "markdown",
   "metadata": {},
   "source": [
    "We should acknowledge few facts. Firstly, CountVectorizer does not take order into account. Secondly, it ignores one-letter words (this can be changed during initialization). Finally, for test values, CountVectorizer ignores words which are not in it's dictionary."
   ]
  },
  {
   "cell_type": "markdown",
   "metadata": {},
   "source": [
    "## Exercise 2 \n",
    "a) Split dataset into training and test sets.     \n",
    "b) Transform reviews into vectors using CountVectorizer. "
   ]
  },
  {
   "cell_type": "code",
   "execution_count": 9,
   "metadata": {
    "collapsed": true,
    "ExecuteTime": {
     "end_time": "2023-12-05T13:23:29.596828Z",
     "start_time": "2023-12-05T13:23:29.448488Z"
    }
   },
   "outputs": [],
   "source": [
    "#a)Split dataset into training and test sets.\n",
    "train_df = baby_df.sample(frac=.8, random_state=1)\n",
    "test_df = baby_df.drop(train_df.index)"
   ]
  },
  {
   "cell_type": "code",
   "execution_count": 10,
   "metadata": {
    "collapsed": true,
    "ExecuteTime": {
     "end_time": "2023-12-05T13:23:54.805450Z",
     "start_time": "2023-12-05T13:23:29.525840Z"
    }
   },
   "outputs": [
    {
     "name": "stdout",
     "output_type": "stream",
     "text": [
      "['5month' '5months' '5mos' '5mth' '5mths' '5nor' '5ounce' '5oz' '5ozs'\n",
      " '5pk' '5pm' '5point' '5pros' '5pt' '5s' '5star' '5stars' '5t' '5th'\n",
      " '5ths' '5times' '5v' '5vdc' '5weeks' '5wk' '5wo' '5x' '5x11' '5x5' '5x6'\n",
      " '5x7' '5x7x2' '5x8' '5x9' '5y' '5year' '5years' '5yo' '5yr' '5yrs' '60'\n",
      " '600' '600d' '600ft' '600mm' '602' '60258' '607' '60db' '60ft' '60in'\n",
      " '60lbs' '60m' '60mins' '60ml' '60mph' '60s' '60th' '60x49x9' '60z' '61'\n",
      " '611' '61514' '61516' '615am' '6161948' '62' '622401a' '6237'\n",
      " '6237medwards' '625' '625mhz2412mhz2415' '625mhz2430mhz2433'\n",
      " '625mhz2448mhz2451' '625mhz2466mhz2469' '626' '62f' '62lb' '63' '630'\n",
      " '6346515description' '638' '64' '640x480' '646' '65' '650' '65039'\n",
      " '650and' '65279' '65281' '65289' '65292' '65306' '65311' '6552' '6586'\n",
      " '65cs' '65db' '65dlx' '65f' '65lb' '65lbs' '65pound' '66' '66lbs' '67'\n",
      " '68' '68f' '69' '692' '693' '699' '6a' '6am' '6c' '6f' '6ft' '6ft1'\n",
      " '6ft1in' '6hr' '6hrs' '6i' '6ib' '6in' '6inch' '6ish' '6kg' '6lb' '6lb12'\n",
      " '6lbs' '6lbs4' '6m' '6mfor' '6mn' '6mnths' '6mo' '6mon' '6month'\n",
      " '6months' '6mos' '6mosit' '6moths' '6mouth' '6mth' '6mths' '6o' '6oz'\n",
      " '6ozs' '6pk' '6pks' '6pm' '6r' '6t' '6th' '6the' '6v' '6week' '6weeks'\n",
      " '6wk' '6wks' '6x' '6x1' '6x10' '6x4' '6x8' '6y' '6years' '6yo' '6yoness'\n",
      " '6yr' '6yrs' '70' '700' '70007' '700ft' '700sq' '700sq2' '704' '7056'\n",
      " '70cs' '70f' '70ish' '70lb' '70lbs' '70ml' '70mph' '70of' '70s' '70th'\n",
      " '70this' '71' '711' '71175' '711drugstore' '714' '71cm' '71f' '72' '720p'\n",
      " '729' '72cm' '72f' '73' '730' '737' '73yr' '74' '740' '745' '747' '74f'\n",
      " '74of' '75' '750' '750ml' '75cm' '75f' '75ish' '75lbs' '75mhz2423'\n",
      " '75mhz2440' '75mhz2458' '75th' '76' '77' '77028' '774' '78' '780' '78th'\n",
      " '79' '7917' '795' '7am' '7bls' '7bottom' '7consecutive' '7days' '7foot'\n",
      " '7ft' '7in' '7inches' '7ish' '7j55' '7kg' '7lb' '7lb13oz' '7lbs'\n",
      " '7lbs2oz' '7lbscons' '7m' '7mo' '7month' '7months' '7mos' '7mth' '7mths'\n",
      " '7onz' '7oz' '7pm' '7pound' '7pounds' '7th' '7then' '7w' '7week' '7weeks'\n",
      " '7wk' '7wks' '7x' '7x12' '7x7' '7years' '7yo' '7yr' '7yrs' '80' '800'\n",
      " '8007214' '800ft' '800lbs' '800ma' '800mm' '801' '802' '80ct' '80f'\n",
      " '80lb' '80lbs' '80ml' '80poundscomes' '80s' '80sl' '80th' '80x80' '81'\n",
      " '81031' '814' '8178bc' '819' '82' '82001' '8203' '8211' '8212' '8216'\n",
      " '8217' '82196' '8220' '8221' '8226' '8230' '8232' '8233' '825l' '826'\n",
      " '83' '830' '8307' '831' '839' '84' '845' '8482' '8483' '8493' '8496'\n",
      " '8497' '8498' '84inch' '84th' '85' '850' '8540' '8549' '859' '85lb'\n",
      " '85lbs' '85sict' '85th' '86' '860' '866' '8673' '8674' '868' '8697this'\n",
      " '86th' '87' '87061' '875' '877' '878931007159item' '87th' '88' '886'\n",
      " '888' '8888888888' '88lbs' '89' '890' '899' '89cm' '89f' '89th' '8am'\n",
      " '8c' '8considering' '8d' '8days' '8f' '8ft' '8ghz' '8hr' '8in' '8l' '8lb'\n",
      " '8lb9oz' '8lbs' '8m' '8mbps' '8mm' '8mns' '8mo' '8month' '8months' '8mos'\n",
      " '8mth' '8mths' '8odit' '8os' '8ounce' '8ounces' '8oz' '8pm' '8s' '8th'\n",
      " '8v' '8week' '8weeks' '8wks' '8x' '8x10' '8x11' '8x8' '8x9' '8yo' '8yr'\n",
      " '8yrs' '90' '900' '9000gh' '9001' '9002' '90069' '900ft' '900mhtz'\n",
      " '900mhz' '900w' '90564' '90degrees' '90lb' '90lbs' '90minutes' '90s'\n",
      " '90secs' '90th' '90without' '91' '910' '91011' '910ylw' '911' '911s'\n",
      " '914' '91f' '92' '924' '9242' '92yr' '93' '9306' '932l' '933' '933mhz'\n",
      " '93rd' '93yr' '94' '944' '95' '950' '9555' '95lb' '95lbs' '95th' '96'\n",
      " '9600' '9604' '9608' '9617' '9618' '9619' '9654' '9658' '969' '97' '9733'\n",
      " '975' '9766' '9786' '97cents' '97th' '98' '980' '9825' '9829' '9835'\n",
      " '9850' '98th' '99' '992' '9999' '99carter' '99cent' '99graco' '99koala'\n",
      " '99overall' '99th' '9am' '9d04ye' '9ers' '9f' '9ft' '9ghz' '9lb' '9lbs'\n",
      " '9m' '9mns' '9mnth' '9mo' '9mon' '9month' '9months' '9monthsand' '9mos'\n",
      " '9mth' '9mths' '9no' '9on' '9ounce' '9oz' '9pc' '9pm' '9th' '9thirsties'\n",
      " '9v' '9volt' '9weeks' '9where' '9x9' '9xl6zi' '9yo' '9yr' '9yrs' '__'\n",
      " '_____' '______' '_______' '________'\n",
      " '___________________________________________________________________________________________________________________update'\n",
      " '_________________________________________________________________________________________________________________update'\n",
      " '__________________________________________________________________________________________i'\n",
      " '_____________________________________________________________i'\n",
      " '______________________________________________this'\n",
      " '_________________________________________update' '_____________update'\n",
      " '__________update' '_all' '_bottom' '_dried_' '_easiest_' '_fast'\n",
      " '_lost_' '_rd_i' '_rd_p' '_rd_r' '_rd_s' '_rd_t' '_really_' '_s_'\n",
      " '_wanted_' 'a1' 'a10' 'a19' 'a2' 'a2r' 'a3' 'a30' 'a4' 'a6' 'a88' 'aa'\n",
      " 'aaa' 'aaaa' 'aaaaahhh' 'aaaaall' 'aaaaarrrrggghhhh' 'aaaahhh' 'aaaallll'\n",
      " 'aaaand' 'aaaggees' 'aaah' 'aaahs' 'aaand' 'aaargh' 'aaas'\n",
      " 'aaasdfdfdfdfdfdfdfdfdfdfdfdfdfdfddd' 'aacute' 'aaddition' 'aahem'\n",
      " 'aahhhhh' 'aahhhhhh' 'aalma' 'aamzon' 'aand' 'aap' 'aardvark' 'aargh'\n",
      " 'aas' 'ab' 'ababy' 'aback' 'abandon' 'abandoned' 'abandoning' 'abar'\n",
      " 'abasic' 'abassinet' 'abated' 'abattoir' 'abbington' 'abbrasive'\n",
      " 'abbreviated' 'abby' 'abc' 'abcd' 'abck' 'abcs' 'abd' 'abdc' 'abdomen'\n",
      " 'abdoment' 'abdomin' 'abdominal' 'abdominalmuscles' 'abdominalplasty'\n",
      " 'abduct' 'abducted' 'abduction' 'abe' 'abed' 'abena' 'abf' 'abg' 'abhor'\n",
      " 'abhore' 'abhorent' 'abide' 'abig' 'abilities' 'ability' 'abilitys'\n",
      " 'abilty' 'abit' 'ablactation' 'ablandar' 'able' 'ableto' 'ablility'\n",
      " 'ablilty' 'ablity' 'ablosutely' 'ablt' 'ablum' 'ably' 'abnormal'\n",
      " 'abnormalities' 'abnormality' 'abnormally' 'abnoxious' 'aboard'\n",
      " 'abolutely' 'abolutly' 'abomination' 'abooster' 'aboout' 'aborading'\n",
      " 'aborb' 'aborbency' 'aborhant' 'aboslutely' 'abosolute' 'abosolutely'\n",
      " 'abosolutly' 'abosorbant' 'abosrbant' 'abosutely' 'abottle' 'abotu'\n",
      " 'abou' 'abound' 'abour' 'about' 'about150ish' 'about5' 'about69'\n",
      " 'aboutely' 'aboutnit' 'abouts' 'aboutwhat' 'abouut' 'above' 'abovethe'\n",
      " 'abput' 'abrade' 'abraded' 'abrades' 'abralea' 'abrasion' 'abrasions'\n",
      " 'abrasive' 'abreast' 'abritax' 'abroad' 'abrubtly' 'abrupt' 'abruptly'\n",
      " 'abs' 'absalutly' 'absence' 'absent' 'absentminded' 'absentmindedly'\n",
      " 'abslolutely' 'absloutely' 'absloutley' 'absobant' 'absobs' 'absoletely'\n",
      " 'absoloutely' 'absoloutly' 'absoluely' 'absoluetly' 'absolute'\n",
      " 'absoluted' 'absolutelly' 'absolutelty' 'absolutely' 'absolutelyloves'\n",
      " 'absolutey' 'absolutially' 'absolutlely' 'absolutley' 'absolutly'\n",
      " 'absorb' 'absorbable' 'absorbance' 'absorbancy' 'absorbant' 'absorbation'\n",
      " 'absorbed' 'absorbency' 'absorbency2' 'absorbencywhat' 'absorbent'\n",
      " 'absorbents' 'absorber' 'absorbers' 'absorbes' 'absorbing' 'absorbs'\n",
      " 'absorbtion' 'absordant' 'absorption' 'absorptive' 'absortion'\n",
      " 'absorvent' 'absorves' 'absouletly' 'absoulotley' 'absoulte' 'absoultely'\n",
      " 'absoultly' 'absoulty' 'absoulutely' 'absoulutly' 'absoutely' 'abstract'\n",
      " 'absurd' 'absurdly' 'abt' 'abthe' 'abubble' 'abuela' 'abuilt' 'abumbo'\n",
      " 'abundance' 'abundancy' 'abundant' 'abundantly' 'abuse' 'abuse2' 'abused'\n",
      " 'abuses' 'abusing' 'abusive' 'abut' 'abutt' 'abuzz' 'aby' 'abymore'\n",
      " 'abysmal' 'abysmally' 'abyss' 'ac' 'acabado' 'acabados' 'acabamento'\n",
      " 'academic' 'academy' 'acadia' 'acarters' 'acc' 'accaptibal' 'acccessible'\n",
      " 'acccessories' 'acccomodate' 'accecories' 'accedent' 'accedentally'\n",
      " 'accelerate' 'accelerating' 'acceleration' 'accent' 'accented'\n",
      " 'accenting' 'accents' 'accentuate' 'accentuated' 'accentuating'\n",
      " 'accepatable' 'accept' 'acceptable' 'acceptably' 'acceptance' 'accepted'\n",
      " 'accepting' 'accepts' 'acces' 'accesability' 'accesable' 'accesible'\n",
      " 'accesories' 'accesorios' 'accesorized' 'accesory' 'access' 'access3'\n",
      " 'accessability' 'accessable' 'accesscons' 'accessed' 'accessibility'\n",
      " 'accessibity' 'accessible' 'accessing' 'accessoble' 'accessorie'\n",
      " 'accessories' 'accessoriesthe' 'accessorised' 'accessorize'\n",
      " 'accessorized' 'accessorizing' 'accessory' 'accicidents' 'accident'\n",
      " 'accidental' 'accidentally' 'accidentaly' 'accidented' 'accidentially'\n",
      " 'accidently' 'accidents' 'accinations' 'acclaimed' 'acclimate'\n",
      " 'acclimated' 'accolades' 'accomadat' 'accomadate' 'accomadates'\n",
      " 'accomadating' 'accomanied' 'accomdate' 'accomidate' 'accomidates'\n",
      " 'accommadate' 'accommodate' 'accommodated' 'accommodates' 'accommodating'\n",
      " 'accommodation' 'accommodations' 'accomodate' 'accomodated' 'accomodates'\n",
      " 'accomodating' 'accomodator' 'accompanied' 'accompanies' 'accompaniment'\n",
      " 'accompany' 'accompanying' 'accompanys' 'accomplish' 'accomplished'\n",
      " 'accomplishes' 'accomplishing' 'accomplishment' 'accomplishments'\n",
      " 'accord' 'accordance' 'accordian' 'accordians' 'according' 'accordingly'\n",
      " 'accordion' 'accordions' 'accostum' 'account' 'accountability'\n",
      " 'accountable' 'accountant' 'accounted' 'accountedit' 'accounting'\n",
      " 'accounts' 'accountthis' 'accoutrement' 'accoutrements' 'accpt'\n",
      " 'accredit' 'accredited' 'accros' 'accross' 'accrual' 'acct' 'acctually'\n",
      " 'accumilating' 'accummulate' 'accumulate' 'accumulated' 'accumulates'\n",
      " 'accumulating' 'accumulation' 'accura' 'accuracte' 'accuracy' 'accurate'\n",
      " 'accuratecons' 'accurately' 'accuratescreen' 'accusatory' 'accused'\n",
      " 'accuses' 'accustom' 'accustomed' 'accutane' 'accy' 'ace' 'acella'\n",
      " 'acent' 'acepto' 'acertain' 'acertained' 'acess' 'acessories' 'acetone'\n",
      " 'ache' 'acheaper' 'ached' 'acheive' 'acheiving' 'aches' 'achey' 'achicco'\n",
      " 'achievable' 'achieve' 'achieved' 'achievement' 'achievements' 'achiever'\n",
      " 'achieves' 'achieving' 'achilles' 'achiness' 'aching' 'achondroplasia'\n",
      " 'achor' 'achors' 'achy' 'acid' 'acidently' 'acidic' 'acids' 'acidy'\n",
      " 'acitivities' 'ack' 'acknowledge' 'acknowledged' 'acknowledgement'\n",
      " 'acknowledges' 'acknowledging' 'acknowleged' 'ackward' 'acme' 'acne'\n",
      " 'acolgate' 'acommodate' 'acomodan' 'acomplishment' 'acoord' 'acorde'\n",
      " 'acordian' 'acorn' 'acorns' 'acoss' 'acostumbrarla']\n",
      "(57386,)\n",
      "(133402, 57386)\n"
     ]
    },
    {
     "data": {
      "text/plain": "'\\nsize it too big, so we cant do .todense\\nInstead I print small portion of dictionary\\n'"
     },
     "execution_count": 10,
     "metadata": {},
     "output_type": "execute_result"
    }
   ],
   "source": [
    "#b)Transform reviews into vectors using CountVectorizer. \n",
    "from sklearn.feature_extraction.text import CountVectorizer\n",
    "\n",
    "vectorizer = CountVectorizer()\n",
    "X_train_example = vectorizer.fit_transform(train_df.review)\n",
    "\n",
    "# only transform on test\n",
    "\n",
    "print(vectorizer.get_feature_names_out()[2000:3000])\n",
    "# print(X_train_example.todense())\n",
    "print(vectorizer.get_feature_names_out().shape)\n",
    "print(X_train_example.shape) #too big to do todense()\n",
    "\"\"\"\n",
    "size it too big, so we cant do .todense\n",
    "Instead I print small portion of dictionary\n",
    "\"\"\""
   ]
  },
  {
   "cell_type": "markdown",
   "metadata": {},
   "source": [
    "## Exercise 3 \n",
    "a) Train LogisticRegression model on training data (reviews processed with CountVectorizer, ratings as they were).   \n",
    "b) Print 10 most positive and 10 most negative words."
   ]
  },
  {
   "cell_type": "code",
   "execution_count": 12,
   "metadata": {
    "collapsed": true,
    "ExecuteTime": {
     "end_time": "2023-12-05T13:27:40.984422Z",
     "start_time": "2023-12-05T13:25:51.967357Z"
    }
   },
   "outputs": [
    {
     "data": {
      "text/plain": "LogisticRegression(max_iter=1200)",
      "text/html": "<style>#sk-container-id-1 {color: black;}#sk-container-id-1 pre{padding: 0;}#sk-container-id-1 div.sk-toggleable {background-color: white;}#sk-container-id-1 label.sk-toggleable__label {cursor: pointer;display: block;width: 100%;margin-bottom: 0;padding: 0.3em;box-sizing: border-box;text-align: center;}#sk-container-id-1 label.sk-toggleable__label-arrow:before {content: \"▸\";float: left;margin-right: 0.25em;color: #696969;}#sk-container-id-1 label.sk-toggleable__label-arrow:hover:before {color: black;}#sk-container-id-1 div.sk-estimator:hover label.sk-toggleable__label-arrow:before {color: black;}#sk-container-id-1 div.sk-toggleable__content {max-height: 0;max-width: 0;overflow: hidden;text-align: left;background-color: #f0f8ff;}#sk-container-id-1 div.sk-toggleable__content pre {margin: 0.2em;color: black;border-radius: 0.25em;background-color: #f0f8ff;}#sk-container-id-1 input.sk-toggleable__control:checked~div.sk-toggleable__content {max-height: 200px;max-width: 100%;overflow: auto;}#sk-container-id-1 input.sk-toggleable__control:checked~label.sk-toggleable__label-arrow:before {content: \"▾\";}#sk-container-id-1 div.sk-estimator input.sk-toggleable__control:checked~label.sk-toggleable__label {background-color: #d4ebff;}#sk-container-id-1 div.sk-label input.sk-toggleable__control:checked~label.sk-toggleable__label {background-color: #d4ebff;}#sk-container-id-1 input.sk-hidden--visually {border: 0;clip: rect(1px 1px 1px 1px);clip: rect(1px, 1px, 1px, 1px);height: 1px;margin: -1px;overflow: hidden;padding: 0;position: absolute;width: 1px;}#sk-container-id-1 div.sk-estimator {font-family: monospace;background-color: #f0f8ff;border: 1px dotted black;border-radius: 0.25em;box-sizing: border-box;margin-bottom: 0.5em;}#sk-container-id-1 div.sk-estimator:hover {background-color: #d4ebff;}#sk-container-id-1 div.sk-parallel-item::after {content: \"\";width: 100%;border-bottom: 1px solid gray;flex-grow: 1;}#sk-container-id-1 div.sk-label:hover label.sk-toggleable__label {background-color: #d4ebff;}#sk-container-id-1 div.sk-serial::before {content: \"\";position: absolute;border-left: 1px solid gray;box-sizing: border-box;top: 0;bottom: 0;left: 50%;z-index: 0;}#sk-container-id-1 div.sk-serial {display: flex;flex-direction: column;align-items: center;background-color: white;padding-right: 0.2em;padding-left: 0.2em;position: relative;}#sk-container-id-1 div.sk-item {position: relative;z-index: 1;}#sk-container-id-1 div.sk-parallel {display: flex;align-items: stretch;justify-content: center;background-color: white;position: relative;}#sk-container-id-1 div.sk-item::before, #sk-container-id-1 div.sk-parallel-item::before {content: \"\";position: absolute;border-left: 1px solid gray;box-sizing: border-box;top: 0;bottom: 0;left: 50%;z-index: -1;}#sk-container-id-1 div.sk-parallel-item {display: flex;flex-direction: column;z-index: 1;position: relative;background-color: white;}#sk-container-id-1 div.sk-parallel-item:first-child::after {align-self: flex-end;width: 50%;}#sk-container-id-1 div.sk-parallel-item:last-child::after {align-self: flex-start;width: 50%;}#sk-container-id-1 div.sk-parallel-item:only-child::after {width: 0;}#sk-container-id-1 div.sk-dashed-wrapped {border: 1px dashed gray;margin: 0 0.4em 0.5em 0.4em;box-sizing: border-box;padding-bottom: 0.4em;background-color: white;}#sk-container-id-1 div.sk-label label {font-family: monospace;font-weight: bold;display: inline-block;line-height: 1.2em;}#sk-container-id-1 div.sk-label-container {text-align: center;}#sk-container-id-1 div.sk-container {/* jupyter's `normalize.less` sets `[hidden] { display: none; }` but bootstrap.min.css set `[hidden] { display: none !important; }` so we also need the `!important` here to be able to override the default hidden behavior on the sphinx rendered scikit-learn.org. See: https://github.com/scikit-learn/scikit-learn/issues/21755 */display: inline-block !important;position: relative;}#sk-container-id-1 div.sk-text-repr-fallback {display: none;}</style><div id=\"sk-container-id-1\" class=\"sk-top-container\"><div class=\"sk-text-repr-fallback\"><pre>LogisticRegression(max_iter=1200)</pre><b>In a Jupyter environment, please rerun this cell to show the HTML representation or trust the notebook. <br />On GitHub, the HTML representation is unable to render, please try loading this page with nbviewer.org.</b></div><div class=\"sk-container\" hidden><div class=\"sk-item\"><div class=\"sk-estimator sk-toggleable\"><input class=\"sk-toggleable__control sk-hidden--visually\" id=\"sk-estimator-id-1\" type=\"checkbox\" checked><label for=\"sk-estimator-id-1\" class=\"sk-toggleable__label sk-toggleable__label-arrow\">LogisticRegression</label><div class=\"sk-toggleable__content\"><pre>LogisticRegression(max_iter=1200)</pre></div></div></div></div></div>"
     },
     "execution_count": 12,
     "metadata": {},
     "output_type": "execute_result"
    }
   ],
   "source": [
    "#a) Train LogisticRegression model on training data (reviews processed with CountVectorizer, ratings as they were)\n",
    "\"\"\"\n",
    "I had to change max_iter because model was failing do converge\n",
    "\"\"\"\n",
    "model = LogisticRegression(max_iter=1200)\n",
    "model.fit(X_train_example, train_df[\"rating\"])\n"
   ]
  },
  {
   "cell_type": "code",
   "execution_count": 18,
   "metadata": {
    "collapsed": true,
    "ExecuteTime": {
     "end_time": "2023-12-05T13:53:24.083867Z",
     "start_time": "2023-12-05T13:53:23.744436Z"
    }
   },
   "outputs": [
    {
     "name": "stdout",
     "output_type": "stream",
     "text": [
      "['wonderfully', 'minor', 'saves', 'vminnovations', 'thankful', 'amazing', 'lifesaver', 'amazed', 'pleasantly', 'rich']\n",
      "['dissapointed', 'disappointing', 'worst', 'unusable', 'poorly', 'worthless', 'useless', 'returning', 'theory', 'disappointed']\n"
     ]
    }
   ],
   "source": [
    "#b) Print 10 most positive and 10 most negative words\n",
    "sorted_coef, sorted_features = (list(x) for x in zip(*sorted(zip(model.coef_.tolist()[0], vectorizer.get_feature_names_out()))))\n",
    "\n",
    "top_positive = sorted_features[-10:]\n",
    "top_negative = sorted_features[:10]\n",
    "\n",
    "print(top_positive)\n",
    "print(top_negative)\n",
    "#hint: model.coef_, vectorizer.get_feature_names()"
   ]
  },
  {
   "cell_type": "markdown",
   "metadata": {},
   "source": [
    "## Exercise 4 \n",
    "a) Predict the sentiment of test data reviews.   \n",
    "b) Predict the sentiment of test data reviews in terms of probability.   \n",
    "c) Find five most positive and most negative reviews.   \n",
    "d) Calculate the accuracy of predictions."
   ]
  },
  {
   "cell_type": "code",
   "execution_count": null,
   "metadata": {
    "collapsed": true,
    "ExecuteTime": {
     "end_time": "2023-12-05T13:25:35.949247Z",
     "start_time": "2023-12-05T13:25:35.917618Z"
    }
   },
   "outputs": [],
   "source": [
    "#a)\n"
   ]
  },
  {
   "cell_type": "code",
   "execution_count": null,
   "metadata": {
    "collapsed": true,
    "ExecuteTime": {
     "start_time": "2023-12-05T13:25:35.927240Z"
    }
   },
   "outputs": [],
   "source": [
    "#b)\n",
    "\n",
    "#hint: model.predict_proba()"
   ]
  },
  {
   "cell_type": "code",
   "execution_count": null,
   "metadata": {
    "collapsed": true,
    "ExecuteTime": {
     "start_time": "2023-12-05T13:25:35.935517Z"
    }
   },
   "outputs": [],
   "source": [
    "#c) \n",
    "\n",
    "#hint: use the results of b)"
   ]
  },
  {
   "cell_type": "code",
   "execution_count": null,
   "metadata": {
    "collapsed": true,
    "ExecuteTime": {
     "start_time": "2023-12-05T13:25:35.945400Z"
    }
   },
   "outputs": [],
   "source": [
    "#d) \n"
   ]
  },
  {
   "cell_type": "markdown",
   "metadata": {},
   "source": [
    "## Exercise 5\n",
    "In this exercise we will limit the dictionary of CountVectorizer to the set of significant words, defined below.\n",
    "\n",
    "\n",
    "a) Redo exercises 2-5 using limited dictionary.   \n",
    "b) Check the impact of all the words from the dictionary.   \n",
    "c) Compare accuracy of predictions and the time of evaluation."
   ]
  },
  {
   "cell_type": "code",
   "execution_count": null,
   "metadata": {
    "collapsed": true,
    "ExecuteTime": {
     "end_time": "2023-12-05T13:25:36.001112Z",
     "start_time": "2023-12-05T13:25:35.957951Z"
    }
   },
   "outputs": [],
   "source": [
    "significant_words = ['love','great','easy','old','little','perfect','loves','well','able','car','broke','less','even','waste','disappointed','work','product','money','would','return']"
   ]
  },
  {
   "cell_type": "code",
   "execution_count": null,
   "metadata": {
    "collapsed": true,
    "ExecuteTime": {
     "start_time": "2023-12-05T13:25:35.961960Z"
    }
   },
   "outputs": [],
   "source": [
    "#a)\n"
   ]
  },
  {
   "cell_type": "code",
   "execution_count": null,
   "metadata": {
    "collapsed": true,
    "ExecuteTime": {
     "start_time": "2023-12-05T13:25:35.969830Z"
    }
   },
   "outputs": [],
   "source": [
    "#b)\n"
   ]
  },
  {
   "cell_type": "code",
   "execution_count": null,
   "metadata": {
    "collapsed": true,
    "ExecuteTime": {
     "start_time": "2023-12-05T13:25:35.976470Z"
    }
   },
   "outputs": [],
   "source": [
    "#c)\n",
    "\n",
    "#hint: %time, %timeit"
   ]
  }
 ],
 "metadata": {
  "anaconda-cloud": {},
  "kernelspec": {
   "name": "python3",
   "language": "python",
   "display_name": "Python 3 (ipykernel)"
  },
  "language_info": {
   "codemirror_mode": {
    "name": "ipython",
    "version": 2
   },
   "file_extension": ".py",
   "mimetype": "text/x-python",
   "name": "python",
   "nbconvert_exporter": "python",
   "pygments_lexer": "ipython2",
   "version": "2.7.12"
  }
 },
 "nbformat": 4,
 "nbformat_minor": 4
}
