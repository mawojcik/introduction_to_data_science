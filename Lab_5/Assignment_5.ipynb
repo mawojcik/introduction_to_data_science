{
 "cells": [
  {
   "cell_type": "markdown",
   "metadata": {},
   "source": [
    "When exploring a large set of documents -- such as Wikipedia, news articles, StackOverflow, etc. -- it can be useful to get a list of related material. To find relevant documents you typically\n",
    "* Decide on a notion of similarity\n",
    "* Find the documents that are most similar \n",
    "\n",
    "In the assignment you will\n",
    "* Gain intuition for different notions of similarity and practice finding similar documents. \n",
    "* Explore the tradeoffs with representing documents using raw word counts and TF-IDF\n",
    "* Explore the behavior of different distance metrics by looking at the Wikipedia pages most similar to President Obama’s page."
   ]
  },
  {
   "cell_type": "code",
   "execution_count": 38,
   "metadata": {
    "collapsed": false,
    "ExecuteTime": {
     "end_time": "2024-01-15T13:54:19.287853Z",
     "start_time": "2024-01-15T13:54:19.051049Z"
    }
   },
   "outputs": [],
   "source": [
    "import matplotlib.pyplot as plt\n",
    "import numpy as np\n",
    "import pandas as pd\n",
    "%matplotlib inline"
   ]
  },
  {
   "cell_type": "markdown",
   "metadata": {},
   "source": [
    "## Load Wikipedia dataset"
   ]
  },
  {
   "cell_type": "markdown",
   "metadata": {},
   "source": [
    "We will be using the dataset of abridged Wikipedia pages. Each element of the dataset consists of a link to the wikipedia article, the name of the person, and the text of the article (in lowercase).  "
   ]
  },
  {
   "cell_type": "code",
   "execution_count": 39,
   "metadata": {
    "collapsed": false,
    "ExecuteTime": {
     "end_time": "2024-01-15T13:54:20.107336Z",
     "start_time": "2024-01-15T13:54:19.061735Z"
    }
   },
   "outputs": [
    {
     "data": {
      "text/plain": "                                                 URI                 name  \\\n0        <http://dbpedia.org/resource/Digby_Morrell>        Digby Morrell   \n1       <http://dbpedia.org/resource/Alfred_J._Lewy>       Alfred J. Lewy   \n2        <http://dbpedia.org/resource/Harpdog_Brown>        Harpdog Brown   \n3  <http://dbpedia.org/resource/Franz_Rottensteiner>  Franz Rottensteiner   \n4               <http://dbpedia.org/resource/G-Enka>               G-Enka   \n\n                                                text  \n0  digby morrell born 10 october 1979 is a former...  \n1  alfred j lewy aka sandy lewy graduated from un...  \n2  harpdog brown is a singer and harmonica player...  \n3  franz rottensteiner born in waidmannsfeld lowe...  \n4  henry krvits born 30 december 1974 in tallinn ...  ",
      "text/html": "<div>\n<style scoped>\n    .dataframe tbody tr th:only-of-type {\n        vertical-align: middle;\n    }\n\n    .dataframe tbody tr th {\n        vertical-align: top;\n    }\n\n    .dataframe thead th {\n        text-align: right;\n    }\n</style>\n<table border=\"1\" class=\"dataframe\">\n  <thead>\n    <tr style=\"text-align: right;\">\n      <th></th>\n      <th>URI</th>\n      <th>name</th>\n      <th>text</th>\n    </tr>\n  </thead>\n  <tbody>\n    <tr>\n      <th>0</th>\n      <td>&lt;http://dbpedia.org/resource/Digby_Morrell&gt;</td>\n      <td>Digby Morrell</td>\n      <td>digby morrell born 10 october 1979 is a former...</td>\n    </tr>\n    <tr>\n      <th>1</th>\n      <td>&lt;http://dbpedia.org/resource/Alfred_J._Lewy&gt;</td>\n      <td>Alfred J. Lewy</td>\n      <td>alfred j lewy aka sandy lewy graduated from un...</td>\n    </tr>\n    <tr>\n      <th>2</th>\n      <td>&lt;http://dbpedia.org/resource/Harpdog_Brown&gt;</td>\n      <td>Harpdog Brown</td>\n      <td>harpdog brown is a singer and harmonica player...</td>\n    </tr>\n    <tr>\n      <th>3</th>\n      <td>&lt;http://dbpedia.org/resource/Franz_Rottensteiner&gt;</td>\n      <td>Franz Rottensteiner</td>\n      <td>franz rottensteiner born in waidmannsfeld lowe...</td>\n    </tr>\n    <tr>\n      <th>4</th>\n      <td>&lt;http://dbpedia.org/resource/G-Enka&gt;</td>\n      <td>G-Enka</td>\n      <td>henry krvits born 30 december 1974 in tallinn ...</td>\n    </tr>\n  </tbody>\n</table>\n</div>"
     },
     "execution_count": 39,
     "metadata": {},
     "output_type": "execute_result"
    }
   ],
   "source": [
    "wiki = pd.read_csv('people_wiki.csv')\n",
    "wiki.head()"
   ]
  },
  {
   "cell_type": "markdown",
   "metadata": {},
   "source": [
    "If you want to check whether the text on the webpage agrees with the one here, you can display it with the following code:"
   ]
  },
  {
   "cell_type": "code",
   "execution_count": 40,
   "metadata": {
    "collapsed": true,
    "ExecuteTime": {
     "end_time": "2024-01-15T13:54:20.107716Z",
     "start_time": "2024-01-15T13:54:20.090641Z"
    }
   },
   "outputs": [],
   "source": [
    "# from IPython.display import HTML\n",
    "# print(wiki['text'][0])\n",
    "# HTML(url=wiki['URI'][0])"
   ]
  },
  {
   "cell_type": "markdown",
   "metadata": {},
   "source": [
    "## Ex. 1: Extract word count vectors"
   ]
  },
  {
   "cell_type": "markdown",
   "metadata": {},
   "source": [
    "As we have seen in Assignment 4, we can extract word count vectors using `CountVectorizer` function.\n",
    "- make sure you include words of unit length by using the parameter: `token_pattern=r\"(?u)\\b\\w+\\b\"`\n",
    "- do not use any stopwords\n",
    "- take 10000 most frequent words in the corpus\n",
    "- explicitly take all the words independent of in how many documents they occur\n",
    "- obtain the matrix of word counts"
   ]
  },
  {
   "cell_type": "code",
   "execution_count": 41,
   "metadata": {
    "collapsed": true,
    "ExecuteTime": {
     "end_time": "2024-01-15T13:54:35.333497Z",
     "start_time": "2024-01-15T13:54:20.161562Z"
    }
   },
   "outputs": [
    {
     "name": "stdout",
     "output_type": "stream",
     "text": [
      "  (0, 3)\t1\n",
      "  (0, 117)\t1\n",
      "  (0, 161)\t1\n",
      "  (0, 168)\t1\n",
      "  (0, 172)\t1\n",
      "  (0, 176)\t1\n",
      "  (0, 185)\t1\n",
      "  (0, 190)\t1\n",
      "  (0, 195)\t1\n",
      "  (0, 200)\t1\n",
      "  (0, 205)\t1\n",
      "  (0, 216)\t1\n",
      "  (0, 226)\t1\n",
      "  (0, 229)\t1\n",
      "  (0, 234)\t1\n",
      "  (0, 265)\t1\n",
      "  (0, 372)\t4\n",
      "  (0, 454)\t1\n",
      "  (0, 544)\t1\n",
      "  (0, 556)\t2\n",
      "  (0, 557)\t1\n",
      "  (0, 664)\t1\n",
      "  (0, 670)\t1\n",
      "  (0, 722)\t4\n",
      "  (0, 903)\t2\n",
      "  :\t:\n",
      "  (59070, 8555)\t1\n",
      "  (59070, 8625)\t1\n",
      "  (59070, 8628)\t1\n",
      "  (59070, 8629)\t2\n",
      "  (59070, 8642)\t1\n",
      "  (59070, 8656)\t1\n",
      "  (59070, 8666)\t1\n",
      "  (59070, 8823)\t1\n",
      "  (59070, 8963)\t1\n",
      "  (59070, 8978)\t1\n",
      "  (59070, 9038)\t1\n",
      "  (59070, 9060)\t2\n",
      "  (59070, 9063)\t14\n",
      "  (59070, 9111)\t1\n",
      "  (59070, 9120)\t2\n",
      "  (59070, 9142)\t1\n",
      "  (59070, 9162)\t6\n",
      "  (59070, 9441)\t2\n",
      "  (59070, 9449)\t1\n",
      "  (59070, 9579)\t2\n",
      "  (59070, 9704)\t8\n",
      "  (59070, 9751)\t1\n",
      "  (59070, 9774)\t3\n",
      "  (59070, 9788)\t1\n",
      "  (59070, 9860)\t1\n"
     ]
    }
   ],
   "source": [
    "from sklearn.feature_extraction.text import CountVectorizer\n",
    "\n",
    "vectorizer = CountVectorizer(\n",
    "    token_pattern=r\"(?u)\\b\\w+\\b\",\n",
    "    max_features=10000\n",
    ")\n",
    "vectorizer.fit_transform(wiki[\"text\"])\n",
    "WCmatrix = vectorizer.transform(wiki[\"text\"])\n",
    "print(WCmatrix)"
   ]
  },
  {
   "cell_type": "markdown",
   "metadata": {},
   "source": [
    "\n",
    "## Ex. 2: Find nearest neighbors"
   ]
  },
  {
   "cell_type": "markdown",
   "metadata": {},
   "source": [
    "**a)** Start by finding the nearest neighbors of the Barack Obama page using the above word count matrix to represent the articles and **Euclidean** distance to measure distance.\n",
    "Save the distances in `wiki['BO-eucl']` and look at the top 10 nearest neighbors."
   ]
  },
  {
   "cell_type": "code",
   "execution_count": 42,
   "metadata": {
    "collapsed": true,
    "ExecuteTime": {
     "end_time": "2024-01-15T13:54:35.418023Z",
     "start_time": "2024-01-15T13:54:35.339186Z"
    }
   },
   "outputs": [],
   "source": [
    "# One can use the following:\n",
    "    # from sklearn.neighbors import NearestNeighbors\n",
    "    # nbrs = NearestNeighbors(n_neighbors=3, algorithm='brute',metric='euclidean').fit(X.toarray())\n",
    "    # distances, indices = nbrs.kneighbors(X.toarray())\n",
    "# but here let's use:\n",
    "from sklearn.metrics import pairwise_distances\n",
    "\n",
    "dist = pairwise_distances(WCmatrix, WCmatrix[wiki[\"name\"] == 'Barack Obama'], metric='euclidean', n_jobs=-1)\n",
    "# Your code goes here\n"
   ]
  },
  {
   "cell_type": "code",
   "execution_count": 43,
   "metadata": {
    "collapsed": false,
    "ExecuteTime": {
     "end_time": "2024-01-15T13:54:35.453890Z",
     "start_time": "2024-01-15T13:54:35.418576Z"
    }
   },
   "outputs": [
    {
     "data": {
      "text/plain": "                                                 URI                 name  \\\n0        <http://dbpedia.org/resource/Digby_Morrell>        Digby Morrell   \n1       <http://dbpedia.org/resource/Alfred_J._Lewy>       Alfred J. Lewy   \n2        <http://dbpedia.org/resource/Harpdog_Brown>        Harpdog Brown   \n3  <http://dbpedia.org/resource/Franz_Rottensteiner>  Franz Rottensteiner   \n4               <http://dbpedia.org/resource/G-Enka>               G-Enka   \n5        <http://dbpedia.org/resource/Sam_Henderson>        Sam Henderson   \n6        <http://dbpedia.org/resource/Aaron_LaCrate>        Aaron LaCrate   \n7      <http://dbpedia.org/resource/Trevor_Ferguson>      Trevor Ferguson   \n8         <http://dbpedia.org/resource/Grant_Nelson>         Grant Nelson   \n9         <http://dbpedia.org/resource/Cathy_Caruth>         Cathy Caruth   \n\n                                                text    BO-eucl  \n0  digby morrell born 10 october 1979 is a former...  46.292548  \n1  alfred j lewy aka sandy lewy graduated from un...  59.531504  \n2  harpdog brown is a singer and harmonica player...  54.644304  \n3  franz rottensteiner born in waidmannsfeld lowe...  43.760713  \n4  henry krvits born 30 december 1974 in tallinn ...  57.844619  \n5  sam henderson born october 18 1969 is an ameri...  51.739733  \n6  aaron lacrate is an american music producer re...  51.332251  \n7  trevor ferguson aka john farrow born 11 novemb...  44.294469  \n8  grant nelson born 27 april 1971 in london also...  55.380502  \n9  cathy caruth born 1955 is frank h t rhodes pro...  55.090834  ",
      "text/html": "<div>\n<style scoped>\n    .dataframe tbody tr th:only-of-type {\n        vertical-align: middle;\n    }\n\n    .dataframe tbody tr th {\n        vertical-align: top;\n    }\n\n    .dataframe thead th {\n        text-align: right;\n    }\n</style>\n<table border=\"1\" class=\"dataframe\">\n  <thead>\n    <tr style=\"text-align: right;\">\n      <th></th>\n      <th>URI</th>\n      <th>name</th>\n      <th>text</th>\n      <th>BO-eucl</th>\n    </tr>\n  </thead>\n  <tbody>\n    <tr>\n      <th>0</th>\n      <td>&lt;http://dbpedia.org/resource/Digby_Morrell&gt;</td>\n      <td>Digby Morrell</td>\n      <td>digby morrell born 10 october 1979 is a former...</td>\n      <td>46.292548</td>\n    </tr>\n    <tr>\n      <th>1</th>\n      <td>&lt;http://dbpedia.org/resource/Alfred_J._Lewy&gt;</td>\n      <td>Alfred J. Lewy</td>\n      <td>alfred j lewy aka sandy lewy graduated from un...</td>\n      <td>59.531504</td>\n    </tr>\n    <tr>\n      <th>2</th>\n      <td>&lt;http://dbpedia.org/resource/Harpdog_Brown&gt;</td>\n      <td>Harpdog Brown</td>\n      <td>harpdog brown is a singer and harmonica player...</td>\n      <td>54.644304</td>\n    </tr>\n    <tr>\n      <th>3</th>\n      <td>&lt;http://dbpedia.org/resource/Franz_Rottensteiner&gt;</td>\n      <td>Franz Rottensteiner</td>\n      <td>franz rottensteiner born in waidmannsfeld lowe...</td>\n      <td>43.760713</td>\n    </tr>\n    <tr>\n      <th>4</th>\n      <td>&lt;http://dbpedia.org/resource/G-Enka&gt;</td>\n      <td>G-Enka</td>\n      <td>henry krvits born 30 december 1974 in tallinn ...</td>\n      <td>57.844619</td>\n    </tr>\n    <tr>\n      <th>5</th>\n      <td>&lt;http://dbpedia.org/resource/Sam_Henderson&gt;</td>\n      <td>Sam Henderson</td>\n      <td>sam henderson born october 18 1969 is an ameri...</td>\n      <td>51.739733</td>\n    </tr>\n    <tr>\n      <th>6</th>\n      <td>&lt;http://dbpedia.org/resource/Aaron_LaCrate&gt;</td>\n      <td>Aaron LaCrate</td>\n      <td>aaron lacrate is an american music producer re...</td>\n      <td>51.332251</td>\n    </tr>\n    <tr>\n      <th>7</th>\n      <td>&lt;http://dbpedia.org/resource/Trevor_Ferguson&gt;</td>\n      <td>Trevor Ferguson</td>\n      <td>trevor ferguson aka john farrow born 11 novemb...</td>\n      <td>44.294469</td>\n    </tr>\n    <tr>\n      <th>8</th>\n      <td>&lt;http://dbpedia.org/resource/Grant_Nelson&gt;</td>\n      <td>Grant Nelson</td>\n      <td>grant nelson born 27 april 1971 in london also...</td>\n      <td>55.380502</td>\n    </tr>\n    <tr>\n      <th>9</th>\n      <td>&lt;http://dbpedia.org/resource/Cathy_Caruth&gt;</td>\n      <td>Cathy Caruth</td>\n      <td>cathy caruth born 1955 is frank h t rhodes pro...</td>\n      <td>55.090834</td>\n    </tr>\n  </tbody>\n</table>\n</div>"
     },
     "execution_count": 43,
     "metadata": {},
     "output_type": "execute_result"
    }
   ],
   "source": [
    "#saving the distances in wiki[\"BO-eucl\"] and printing top 10 nearest neighbours\n",
    "\n",
    "wiki[\"BO-eucl\"] = dist\n",
    "wiki.sort_values(by='BO-eucl')\n",
    "wiki.head(n=10)"
   ]
  },
  {
   "cell_type": "markdown",
   "metadata": {},
   "source": [
    "**b)** Measure the pairwise distance between the Wikipedia pages of Barack Obama, George W. Bush, and Joe Biden. Which of the three pairs has the smallest distance?"
   ]
  },
  {
   "cell_type": "code",
   "execution_count": 44,
   "metadata": {
    "collapsed": false,
    "ExecuteTime": {
     "end_time": "2024-01-15T13:54:35.457805Z",
     "start_time": "2024-01-15T13:54:35.448656Z"
    }
   },
   "outputs": [
    {
     "name": "stdout",
     "output_type": "stream",
     "text": [
      "Bush-Biden: 30.919249667480614\n",
      "Bush-Obama: 33.645207682521445\n",
      "Obama-Biden: 31.336879231984796\n"
     ]
    }
   ],
   "source": [
    "george_bush_row = wiki[wiki[\"name\"] == \"George W. Bush\"].index[0]\n",
    "joe_biden_row = wiki[wiki[\"name\"] == \"Joe Biden\"].index[0]\n",
    "barack_obama_row = wiki[wiki[\"name\"] == \"Barack Obama\"].index[0]\n",
    "\n",
    "def find_distance(index1: int, index2: int) -> int:\n",
    "    return pairwise_distances(WCmatrix[index1].toarray(), WCmatrix[index2].toarray())[0, 0]\n",
    "\n",
    "print(f'Bush-Biden: {find_distance(george_bush_row, joe_biden_row)}')\n",
    "print(f'Bush-Obama: {find_distance(george_bush_row, barack_obama_row)}')\n",
    "print(f'Obama-Biden: {find_distance(barack_obama_row, joe_biden_row)}')\n"
   ]
  },
  {
   "cell_type": "markdown",
   "metadata": {},
   "source": [
    "All of the 10 people from **a)** are politicians, but about half of them have rather tenuous connections with Obama, other than the fact that they are politicians, e.g.,\n",
    "\n",
    "* Francisco Barrio is a Mexican politician, and a former governor of Chihuahua.\n",
    "* Walter Mondale and Don Bonker are Democrats who made their career in late 1970s.\n",
    "\n",
    "Nearest neighbors with raw word counts got some things right, showing all politicians in the query result, but missed finer and important details."
   ]
  },
  {
   "cell_type": "markdown",
   "metadata": {},
   "source": [
    "**c)** Let's find out why Francisco Barrio was considered a close neighbor of Obama.\n",
    "To do this, look at the most frequently used words in each of Barack Obama and Francisco Barrio's pages."
   ]
  },
  {
   "cell_type": "code",
   "execution_count": 45,
   "metadata": {
    "collapsed": true,
    "ExecuteTime": {
     "end_time": "2024-01-15T13:54:35.474184Z",
     "start_time": "2024-01-15T13:54:35.456669Z"
    }
   },
   "outputs": [],
   "source": [
    "def top_words(name):\n",
    "    row = wiki[wiki[\"name\"] == name].index[0]\n",
    "    word_count = WCmatrix[row].toarray()[0]\n",
    "    df = pd.DataFrame(data={'count': word_count}, index=vectorizer.get_feature_names_out())\n",
    "    df = df[df['count'] != 0]\n",
    "    return df.sort_values(by='count',ascending=False)"
   ]
  },
  {
   "cell_type": "code",
   "execution_count": 46,
   "metadata": {
    "collapsed": false,
    "ExecuteTime": {
     "end_time": "2024-01-15T13:54:35.494983Z",
     "start_time": "2024-01-15T13:54:35.458488Z"
    }
   },
   "outputs": [
    {
     "data": {
      "text/plain": "          count\nthe          40\nin           30\nand          21\nof           18\nto           14\n...         ...\nhawaii        1\nhillary       1\nhold          1\nhonolulu      1\nyears         1\n\n[245 rows x 1 columns]",
      "text/html": "<div>\n<style scoped>\n    .dataframe tbody tr th:only-of-type {\n        vertical-align: middle;\n    }\n\n    .dataframe tbody tr th {\n        vertical-align: top;\n    }\n\n    .dataframe thead th {\n        text-align: right;\n    }\n</style>\n<table border=\"1\" class=\"dataframe\">\n  <thead>\n    <tr style=\"text-align: right;\">\n      <th></th>\n      <th>count</th>\n    </tr>\n  </thead>\n  <tbody>\n    <tr>\n      <th>the</th>\n      <td>40</td>\n    </tr>\n    <tr>\n      <th>in</th>\n      <td>30</td>\n    </tr>\n    <tr>\n      <th>and</th>\n      <td>21</td>\n    </tr>\n    <tr>\n      <th>of</th>\n      <td>18</td>\n    </tr>\n    <tr>\n      <th>to</th>\n      <td>14</td>\n    </tr>\n    <tr>\n      <th>...</th>\n      <td>...</td>\n    </tr>\n    <tr>\n      <th>hawaii</th>\n      <td>1</td>\n    </tr>\n    <tr>\n      <th>hillary</th>\n      <td>1</td>\n    </tr>\n    <tr>\n      <th>hold</th>\n      <td>1</td>\n    </tr>\n    <tr>\n      <th>honolulu</th>\n      <td>1</td>\n    </tr>\n    <tr>\n      <th>years</th>\n      <td>1</td>\n    </tr>\n  </tbody>\n</table>\n<p>245 rows × 1 columns</p>\n</div>"
     },
     "execution_count": 46,
     "metadata": {},
     "output_type": "execute_result"
    }
   ],
   "source": [
    "obama_words = top_words('Barack Obama')\n",
    "obama_words"
   ]
  },
  {
   "cell_type": "code",
   "execution_count": 47,
   "metadata": {
    "collapsed": false,
    "ExecuteTime": {
     "end_time": "2024-01-15T13:54:35.548976Z",
     "start_time": "2024-01-15T13:54:35.479721Z"
    }
   },
   "outputs": [
    {
     "data": {
      "text/plain": "            count\nthe            36\nof             24\nand            18\nin             17\nhe             10\n...           ...\ngovernance      1\ngovernors       1\nhas             1\nheaded          1\njoining         1\n\n[195 rows x 1 columns]",
      "text/html": "<div>\n<style scoped>\n    .dataframe tbody tr th:only-of-type {\n        vertical-align: middle;\n    }\n\n    .dataframe tbody tr th {\n        vertical-align: top;\n    }\n\n    .dataframe thead th {\n        text-align: right;\n    }\n</style>\n<table border=\"1\" class=\"dataframe\">\n  <thead>\n    <tr style=\"text-align: right;\">\n      <th></th>\n      <th>count</th>\n    </tr>\n  </thead>\n  <tbody>\n    <tr>\n      <th>the</th>\n      <td>36</td>\n    </tr>\n    <tr>\n      <th>of</th>\n      <td>24</td>\n    </tr>\n    <tr>\n      <th>and</th>\n      <td>18</td>\n    </tr>\n    <tr>\n      <th>in</th>\n      <td>17</td>\n    </tr>\n    <tr>\n      <th>he</th>\n      <td>10</td>\n    </tr>\n    <tr>\n      <th>...</th>\n      <td>...</td>\n    </tr>\n    <tr>\n      <th>governance</th>\n      <td>1</td>\n    </tr>\n    <tr>\n      <th>governors</th>\n      <td>1</td>\n    </tr>\n    <tr>\n      <th>has</th>\n      <td>1</td>\n    </tr>\n    <tr>\n      <th>headed</th>\n      <td>1</td>\n    </tr>\n    <tr>\n      <th>joining</th>\n      <td>1</td>\n    </tr>\n  </tbody>\n</table>\n<p>195 rows × 1 columns</p>\n</div>"
     },
     "execution_count": 47,
     "metadata": {},
     "output_type": "execute_result"
    }
   ],
   "source": [
    "barrio_words = top_words('Francisco Barrio')\n",
    "barrio_words"
   ]
  },
  {
   "cell_type": "markdown",
   "metadata": {},
   "source": [
    "**d)** Extract the list of most frequent **common** words that appear in both Obama's and Barrio's documents and display the five words that appear most often in Barrio's article.\n",
    "\n",
    "Use a dataframe operation known as **join**. The **join** operation is very useful when it comes to playing around with data: it lets you combine the content of two tables using a shared column (in this case, the index column of words). See [the documentation](https://pandas.pydata.org/pandas-docs/stable/reference/api/pandas.DataFrame.join.html) for more details."
   ]
  },
  {
   "cell_type": "code",
   "execution_count": 48,
   "metadata": {
    "collapsed": false,
    "ExecuteTime": {
     "end_time": "2024-01-15T13:54:35.549299Z",
     "start_time": "2024-01-15T13:54:35.488412Z"
    }
   },
   "outputs": [],
   "source": [
    "# Modify the code to avoid error.\n",
    "\n",
    "common_words = obama_words.join(barrio_words, how='inner', lsuffix='_Obama', rsuffix='_Barrio').dropna()\n"
   ]
  },
  {
   "cell_type": "markdown",
   "metadata": {},
   "source": [
    "Collect all words that appear both in Barack Obama and George W. Bush pages.  Out of those words, find the 10 words that show up most often in Obama's page. "
   ]
  },
  {
   "cell_type": "code",
   "execution_count": 49,
   "metadata": {
    "collapsed": false,
    "ExecuteTime": {
     "end_time": "2024-01-15T13:54:35.588809Z",
     "start_time": "2024-01-15T13:54:35.498440Z"
    }
   },
   "outputs": [
    {
     "data": {
      "text/plain": "     count_Obama  count_Bush\nthe           40          39\nin            30          22\nand           21          14\nof            18          14\nto            14          11\nhis           11           6\nact            8           3\nhe             7           8\na              7           6\nas             6           6",
      "text/html": "<div>\n<style scoped>\n    .dataframe tbody tr th:only-of-type {\n        vertical-align: middle;\n    }\n\n    .dataframe tbody tr th {\n        vertical-align: top;\n    }\n\n    .dataframe thead th {\n        text-align: right;\n    }\n</style>\n<table border=\"1\" class=\"dataframe\">\n  <thead>\n    <tr style=\"text-align: right;\">\n      <th></th>\n      <th>count_Obama</th>\n      <th>count_Bush</th>\n    </tr>\n  </thead>\n  <tbody>\n    <tr>\n      <th>the</th>\n      <td>40</td>\n      <td>39</td>\n    </tr>\n    <tr>\n      <th>in</th>\n      <td>30</td>\n      <td>22</td>\n    </tr>\n    <tr>\n      <th>and</th>\n      <td>21</td>\n      <td>14</td>\n    </tr>\n    <tr>\n      <th>of</th>\n      <td>18</td>\n      <td>14</td>\n    </tr>\n    <tr>\n      <th>to</th>\n      <td>14</td>\n      <td>11</td>\n    </tr>\n    <tr>\n      <th>his</th>\n      <td>11</td>\n      <td>6</td>\n    </tr>\n    <tr>\n      <th>act</th>\n      <td>8</td>\n      <td>3</td>\n    </tr>\n    <tr>\n      <th>he</th>\n      <td>7</td>\n      <td>8</td>\n    </tr>\n    <tr>\n      <th>a</th>\n      <td>7</td>\n      <td>6</td>\n    </tr>\n    <tr>\n      <th>as</th>\n      <td>6</td>\n      <td>6</td>\n    </tr>\n  </tbody>\n</table>\n</div>"
     },
     "execution_count": 49,
     "metadata": {},
     "output_type": "execute_result"
    }
   ],
   "source": [
    "bush_words = top_words('George W. Bush')\n",
    "# Modify the code to avoid error.\n",
    "obama_words.join(bush_words, lsuffix='_Obama', rsuffix='_Bush', how='inner').head(10)"
   ]
  },
  {
   "cell_type": "markdown",
   "metadata": {},
   "source": [
    "**Note.** Even though common words are swamping out important subtle differences, commonalities in rarer political words still matter on the margin. This is why politicians are being listed in the query result instead of musicians, for example. In the next subsection, we will introduce a different metric that will place greater emphasis on those rarer words."
   ]
  },
  {
   "cell_type": "markdown",
   "metadata": {},
   "source": [
    "**e)** Among the words that appear in both Barack Obama and Francisco Barrio, take the 15 that appear most frequently in Obama. How many of the articles in the Wikipedia dataset contain all of those 15 words? Which are they?"
   ]
  },
  {
   "cell_type": "code",
   "execution_count": 50,
   "metadata": {
    "collapsed": false,
    "ExecuteTime": {
     "end_time": "2024-01-15T13:54:35.809834Z",
     "start_time": "2024-01-15T13:54:35.711973Z"
    }
   },
   "outputs": [
    {
     "name": "stdout",
     "output_type": "stream",
     "text": [
      "Number of articles that contain all of those 15 words: 30\n"
     ]
    }
   ],
   "source": [
    "# It might be helpful to use:\n",
    "word_to_ind={v: i for i, v in enumerate(vectorizer.get_feature_names_out())} # a dictionary with words as keys and indices as values\n",
    "\n",
    "# Your code goes here\n",
    "most_frequent_obama_words = common_words.sort_values(by='count_Obama', ascending=False).head(15).index\n",
    "most_frequent_obama_words_indexes = [word_to_ind[word] for word in most_frequent_obama_words]\n",
    "# articles.sum()\n",
    "articles_index = [x for x, y in enumerate(np.all(WCmatrix[:, most_frequent_obama_words_indexes].todense()>0, axis=1).tolist()) if y[0] == True]\n",
    "\n",
    "articles = wiki.loc[articles_index]\n",
    "print(f'Number of articles that contain all of those 15 words: {articles.shape[0]}')"
   ]
  },
  {
   "cell_type": "code",
   "execution_count": 51,
   "metadata": {
    "collapsed": false,
    "ExecuteTime": {
     "end_time": "2024-01-15T13:54:35.810181Z",
     "start_time": "2024-01-15T13:54:35.744063Z"
    }
   },
   "outputs": [
    {
     "data": {
      "text/plain": "1177                            Donald Fowler\n1413                            Chris Redfern\n3400                            James Bilbray\n4004                              Paul Kagame\n4874                            Bernard Kenny\n6617                               Paul Sarlo\n11316                Gy%C3%B6rgy Sur%C3%A1nyi\n12371                         Morley Winograd\n12743                 David Ibarra Mu%C3%B1oz\n13229                        Francisco Barrio\n16095    Charles Taylor (Liberian politician)\n24417                           Jesse Ventura\n24478                               Joe Biden\n28447                          George W. Bush\n29505                        Arturo Vallarino\n33744                        John O. Agwunobi\n35541                            Jimmy Carter\n35817                            Barack Obama\n36452                            Bill Clinton\n38081                          John Garamendi\n39489                          Helmut Anheier\n40229                            Edward Rowny\n42934      Henry Sanders (Alabama politician)\n48253                 Saber Hossain Chowdhury\n50868                           Russell Trood\n52229                     Robert Lewis Morgan\n53102                             Ewart Brown\n54765                 Chuck Wolfe (executive)\n55495                      Lokman Singh Karki\n56172                               Hu Jintao\nName: name, dtype: object"
     },
     "execution_count": 51,
     "metadata": {},
     "output_type": "execute_result"
    }
   ],
   "source": [
    "# articles that contain all of those 15 words\n",
    "articles['name']"
   ]
  },
  {
   "cell_type": "markdown",
   "metadata": {},
   "source": [
    "## Ex. 3: TF-IDF to the rescue"
   ]
  },
  {
   "cell_type": "markdown",
   "metadata": {},
   "source": [
    "Much of the perceived commonalities between Obama and Barrio were due to occurrences of extremely frequent words, such as \"the\", \"and\", and \"his\". So nearest neighbors is recommending plausible results sometimes for the wrong reasons.\n",
    "\n",
    "To retrieve articles that are more relevant, we should focus more on rare words that don't happen in every article. **TF-IDF** (term frequency–inverse document frequency) is a feature representation that penalizes words that are too common."
   ]
  },
  {
   "cell_type": "markdown",
   "metadata": {},
   "source": [
    "**a)** Repeat the search for the 10 nearest neighbors of Barack Obama with Euclidean distance of TF-IDF. This time do not limit to only 10000 most frequent words, but take all of them."
   ]
  },
  {
   "cell_type": "code",
   "execution_count": 52,
   "metadata": {
    "collapsed": true,
    "ExecuteTime": {
     "end_time": "2024-01-15T13:54:50.634010Z",
     "start_time": "2024-01-15T13:54:35.835380Z"
    }
   },
   "outputs": [],
   "source": [
    "# We could use:\n",
    "    # from sklearn.feature_extraction.text import TfidfVectorizer\n",
    "# but since we already know how to compute CountVectorizer, let's use:\n",
    "from sklearn.feature_extraction.text import TfidfTransformer\n",
    "second_vectorizer = CountVectorizer(token_pattern=r\"(?u)\\b\\w+\\b\")\n",
    "second_vectorizer.fit_transform(wiki['text'])\n",
    "\n",
    "WCmatrix=second_vectorizer.transform(wiki['text'])\n",
    "\n",
    "tfidf=TfidfTransformer(smooth_idf=False, norm=None)\n",
    "TFIDFmatrix = tfidf.fit_transform(WCmatrix)"
   ]
  },
  {
   "cell_type": "code",
   "execution_count": 53,
   "metadata": {
    "collapsed": false,
    "ExecuteTime": {
     "end_time": "2024-01-15T13:54:50.716274Z",
     "start_time": "2024-01-15T13:54:50.634973Z"
    }
   },
   "outputs": [
    {
     "data": {
      "text/plain": "                          name  BO-eucl-TF-IDF\n35817             Barack Obama        0.000000\n38376           Samantha Power      139.364493\n46811            Jeff Sessions      139.757740\n7914             Phil Schiliro      139.812175\n38714  Eric Stern (politician)      140.450064\n6507              Bob Menendez      141.661111\n44681   Jesse Lee (politician)      142.342440\n6796               Eric Holder      142.490179\n38495             Barney Frank      142.581337\n56008            Nathan Cullen      142.751073",
      "text/html": "<div>\n<style scoped>\n    .dataframe tbody tr th:only-of-type {\n        vertical-align: middle;\n    }\n\n    .dataframe tbody tr th {\n        vertical-align: top;\n    }\n\n    .dataframe thead th {\n        text-align: right;\n    }\n</style>\n<table border=\"1\" class=\"dataframe\">\n  <thead>\n    <tr style=\"text-align: right;\">\n      <th></th>\n      <th>name</th>\n      <th>BO-eucl-TF-IDF</th>\n    </tr>\n  </thead>\n  <tbody>\n    <tr>\n      <th>35817</th>\n      <td>Barack Obama</td>\n      <td>0.000000</td>\n    </tr>\n    <tr>\n      <th>38376</th>\n      <td>Samantha Power</td>\n      <td>139.364493</td>\n    </tr>\n    <tr>\n      <th>46811</th>\n      <td>Jeff Sessions</td>\n      <td>139.757740</td>\n    </tr>\n    <tr>\n      <th>7914</th>\n      <td>Phil Schiliro</td>\n      <td>139.812175</td>\n    </tr>\n    <tr>\n      <th>38714</th>\n      <td>Eric Stern (politician)</td>\n      <td>140.450064</td>\n    </tr>\n    <tr>\n      <th>6507</th>\n      <td>Bob Menendez</td>\n      <td>141.661111</td>\n    </tr>\n    <tr>\n      <th>44681</th>\n      <td>Jesse Lee (politician)</td>\n      <td>142.342440</td>\n    </tr>\n    <tr>\n      <th>6796</th>\n      <td>Eric Holder</td>\n      <td>142.490179</td>\n    </tr>\n    <tr>\n      <th>38495</th>\n      <td>Barney Frank</td>\n      <td>142.581337</td>\n    </tr>\n    <tr>\n      <th>56008</th>\n      <td>Nathan Cullen</td>\n      <td>142.751073</td>\n    </tr>\n  </tbody>\n</table>\n</div>"
     },
     "execution_count": 53,
     "metadata": {},
     "output_type": "execute_result"
    }
   ],
   "source": [
    "# now recompute the distances as before but for TF-IDF\n",
    "\n",
    "dist = pairwise_distances(TFIDFmatrix, Y=TFIDFmatrix[wiki.loc[wiki['name'] == 'Barack Obama'].index[0]])\n",
    "# add the distances as a column in the wiki dataframe\n",
    "wiki['BO-eucl-TF-IDF'] = dist\n",
    "wiki.sort_values('BO-eucl-TF-IDF').head(n=10)[['name', 'BO-eucl-TF-IDF']]"
   ]
  },
  {
   "cell_type": "markdown",
   "metadata": {},
   "source": [
    "Let's determine whether this list makes sense.\n",
    "* With a notable exception of Nathan Cullen, the other 8 are all American politicians who are contemporaries of Barack Obama.\n",
    "* Phil Schiliro, Jesse Lee, Samantha Power, Eric Stern, Eric Holder worked for Obama.\n",
    "\n",
    "Clearly, the results are more plausible with the use of TF-IDF. Let's take a look at the word vector for Obama and Schilirio's pages. Notice that TF-IDF representation assigns a weight to each word. This weight captures relative importance of that word in the document."
   ]
  },
  {
   "cell_type": "markdown",
   "metadata": {},
   "source": [
    "**b)** Sort the words in Obama's article by their TF-IDF weights; do the same for Schiliro's article as well.\n",
    "Using the **join** operation we learned earlier, compute the common words shared by Obama's and Schiliro's articles.\n",
    "Sort the common words by their TF-IDF weights in Obama's document."
   ]
  },
  {
   "cell_type": "code",
   "execution_count": 54,
   "metadata": {
    "collapsed": true,
    "ExecuteTime": {
     "end_time": "2024-01-15T13:54:50.718339Z",
     "start_time": "2024-01-15T13:54:50.716199Z"
    }
   },
   "outputs": [],
   "source": [
    "def top_words_tf_idf(name):\n",
    "    \"\"\"\n",
    "    Get a table of the largest tf-idf words in the given person's wikipedia page.\n",
    "    \"\"\"\n",
    "    vector = TFIDFmatrix[wiki.index[wiki[\"name\"] == name]]\n",
    "    words_weights = vector.sum(axis=0).tolist()[0]\n",
    "\n",
    "    df = pd.DataFrame({'tf-idf': words_weights}, index=second_vectorizer.get_feature_names_out())\n",
    "    df = df[df['tf-idf'] != 0]\n",
    "\n",
    "    return df.sort_values(by='tf-idf',ascending=False)"
   ]
  },
  {
   "cell_type": "code",
   "execution_count": 55,
   "metadata": {
    "collapsed": false,
    "ExecuteTime": {
     "end_time": "2024-01-15T13:54:51.843129Z",
     "start_time": "2024-01-15T13:54:50.717993Z"
    }
   },
   "outputs": [
    {
     "data": {
      "text/plain": "              tf-idf_Obama  tf-idf_Schiliro\nobama            52.295653        11.621256\nthe              40.004063        10.001016\nin               30.028962         5.004827\nand              21.015648         6.004471\nlaw              20.722936        10.361468\nof               18.074811         9.037406\ndemocratic       16.410689         8.205344\nto               14.657229         7.328615\nhis              13.888726         1.262611\nsenate           13.164288         4.388096\npresident        11.226869        14.033587\npresidential      9.386955         4.693478\nhe                8.493580        13.347054\nstates            8.473201         2.824400\n2011              8.107041         5.404694\npolicy            8.095386         4.047693\n2004              8.071033         2.690344\nunited            7.703766         2.567922\n2009              7.693309         2.564436\noffice            7.248173         3.624086",
      "text/html": "<div>\n<style scoped>\n    .dataframe tbody tr th:only-of-type {\n        vertical-align: middle;\n    }\n\n    .dataframe tbody tr th {\n        vertical-align: top;\n    }\n\n    .dataframe thead th {\n        text-align: right;\n    }\n</style>\n<table border=\"1\" class=\"dataframe\">\n  <thead>\n    <tr style=\"text-align: right;\">\n      <th></th>\n      <th>tf-idf_Obama</th>\n      <th>tf-idf_Schiliro</th>\n    </tr>\n  </thead>\n  <tbody>\n    <tr>\n      <th>obama</th>\n      <td>52.295653</td>\n      <td>11.621256</td>\n    </tr>\n    <tr>\n      <th>the</th>\n      <td>40.004063</td>\n      <td>10.001016</td>\n    </tr>\n    <tr>\n      <th>in</th>\n      <td>30.028962</td>\n      <td>5.004827</td>\n    </tr>\n    <tr>\n      <th>and</th>\n      <td>21.015648</td>\n      <td>6.004471</td>\n    </tr>\n    <tr>\n      <th>law</th>\n      <td>20.722936</td>\n      <td>10.361468</td>\n    </tr>\n    <tr>\n      <th>of</th>\n      <td>18.074811</td>\n      <td>9.037406</td>\n    </tr>\n    <tr>\n      <th>democratic</th>\n      <td>16.410689</td>\n      <td>8.205344</td>\n    </tr>\n    <tr>\n      <th>to</th>\n      <td>14.657229</td>\n      <td>7.328615</td>\n    </tr>\n    <tr>\n      <th>his</th>\n      <td>13.888726</td>\n      <td>1.262611</td>\n    </tr>\n    <tr>\n      <th>senate</th>\n      <td>13.164288</td>\n      <td>4.388096</td>\n    </tr>\n    <tr>\n      <th>president</th>\n      <td>11.226869</td>\n      <td>14.033587</td>\n    </tr>\n    <tr>\n      <th>presidential</th>\n      <td>9.386955</td>\n      <td>4.693478</td>\n    </tr>\n    <tr>\n      <th>he</th>\n      <td>8.493580</td>\n      <td>13.347054</td>\n    </tr>\n    <tr>\n      <th>states</th>\n      <td>8.473201</td>\n      <td>2.824400</td>\n    </tr>\n    <tr>\n      <th>2011</th>\n      <td>8.107041</td>\n      <td>5.404694</td>\n    </tr>\n    <tr>\n      <th>policy</th>\n      <td>8.095386</td>\n      <td>4.047693</td>\n    </tr>\n    <tr>\n      <th>2004</th>\n      <td>8.071033</td>\n      <td>2.690344</td>\n    </tr>\n    <tr>\n      <th>united</th>\n      <td>7.703766</td>\n      <td>2.567922</td>\n    </tr>\n    <tr>\n      <th>2009</th>\n      <td>7.693309</td>\n      <td>2.564436</td>\n    </tr>\n    <tr>\n      <th>office</th>\n      <td>7.248173</td>\n      <td>3.624086</td>\n    </tr>\n  </tbody>\n</table>\n</div>"
     },
     "execution_count": 55,
     "metadata": {},
     "output_type": "execute_result"
    }
   ],
   "source": [
    "obama_tf_idf = top_words_tf_idf('Barack Obama')\n",
    "schiliro_tf_idf = top_words_tf_idf('Phil Schiliro')\n",
    "common_words = obama_tf_idf.join(schiliro_tf_idf, lsuffix='_Obama', rsuffix='_Schiliro', how='inner').head(20)\n",
    "common_words"
   ]
  },
  {
   "cell_type": "markdown",
   "metadata": {},
   "source": [
    "**c)** Among the words that appear in both Barack Obama and Phil Schiliro, take the 15 that have largest weights in Obama. How many of the articles in the Wikipedia dataset contain all of those 15 words? Which are they?"
   ]
  },
  {
   "cell_type": "code",
   "execution_count": 56,
   "metadata": {
    "collapsed": false,
    "ExecuteTime": {
     "end_time": "2024-01-15T13:54:52.615310Z",
     "start_time": "2024-01-15T13:54:52.123729Z"
    }
   },
   "outputs": [
    {
     "data": {
      "text/plain": "3"
     },
     "execution_count": 56,
     "metadata": {},
     "output_type": "execute_result"
    }
   ],
   "source": [
    "# It might be helpful to use:\n",
    "word_to_ind={v: i for i, v in enumerate(second_vectorizer.get_feature_names_out())} # a dictionary with words as keys and indices as values\n",
    "\n",
    "top_15_obama = list(common_words.sort_values(by='tf-idf_Obama', ascending=False).head(15).index)\n",
    "top_words_indexes = [word_to_ind[word] for word in top_15_obama]\n",
    "\n",
    "articles_index = [x for x, y in enumerate(np.all(TFIDFmatrix[:, top_words_indexes].todense()>0, axis=1).tolist()) if y[0] == True]\n",
    "\n",
    "articles = wiki.loc[articles_index]\n",
    "articles.shape[0]\n"
   ]
  },
  {
   "cell_type": "code",
   "execution_count": 57,
   "metadata": {
    "collapsed": false,
    "ExecuteTime": {
     "end_time": "2024-01-15T13:54:52.615654Z",
     "start_time": "2024-01-15T13:54:52.602695Z"
    }
   },
   "outputs": [
    {
     "data": {
      "text/plain": "7914     Phil Schiliro\n24478        Joe Biden\n35817     Barack Obama\nName: name, dtype: object"
     },
     "execution_count": 57,
     "metadata": {},
     "output_type": "execute_result"
    }
   ],
   "source": [
    "articles['name']"
   ]
  },
  {
   "cell_type": "markdown",
   "metadata": {},
   "source": [
    "Notice the huge difference in this calculation using TF-IDF scores instead  of raw word counts. We've eliminated noise arising from extremely common words."
   ]
  },
  {
   "cell_type": "markdown",
   "metadata": {},
   "source": [
    "## Ex. 4: Choosing metrics"
   ]
  },
  {
   "cell_type": "markdown",
   "metadata": {},
   "source": [
    "**a)** Compute the Euclidean distance between TF-IDF features of Obama and Biden."
   ]
  },
  {
   "cell_type": "code",
   "execution_count": 58,
   "metadata": {
    "collapsed": false,
    "ExecuteTime": {
     "end_time": "2024-01-15T13:54:52.622391Z",
     "start_time": "2024-01-15T13:54:52.617398Z"
    }
   },
   "outputs": [
    {
     "name": "stdout",
     "output_type": "stream",
     "text": [
      "148.7784541307789\n"
     ]
    },
    {
     "name": "stderr",
     "output_type": "stream",
     "text": [
      "/var/folders/kk/sxg6zhbs2t7gwnsh7xr9ygq00000gn/T/ipykernel_14839/2981392155.py:4: DeprecationWarning: Conversion of an array with ndim > 0 to a scalar is deprecated, and will error in future. Ensure you extract a single element from your array before performing this operation. (Deprecated NumPy 1.25.)\n",
      "  print(float(dist))\n"
     ]
    }
   ],
   "source": [
    "biden_index = wiki.loc[wiki['name'] == 'Joe Biden'].index[0]\n",
    "obama_index = wiki.loc[wiki['name'] == 'Barack Obama'].index[0]\n",
    "dist = pairwise_distances(TFIDFmatrix[biden_index], Y=TFIDFmatrix[obama_index])\n",
    "print(float(dist))"
   ]
  },
  {
   "cell_type": "markdown",
   "metadata": {},
   "source": [
    "The distance is larger than the distances we found for the 10 nearest neighbors, which we repeat here for readability:"
   ]
  },
  {
   "cell_type": "code",
   "execution_count": 59,
   "metadata": {
    "collapsed": false,
    "ExecuteTime": {
     "end_time": "2024-01-15T13:54:52.703660Z",
     "start_time": "2024-01-15T13:54:52.622767Z"
    }
   },
   "outputs": [
    {
     "data": {
      "text/plain": "                          name  BO-eucl-TF-IDF\n35817             Barack Obama        0.000000\n38376           Samantha Power      139.364493\n46811            Jeff Sessions      139.757740\n7914             Phil Schiliro      139.812175\n38714  Eric Stern (politician)      140.450064\n6507              Bob Menendez      141.661111\n44681   Jesse Lee (politician)      142.342440\n6796               Eric Holder      142.490179\n38495             Barney Frank      142.581337\n56008            Nathan Cullen      142.751073",
      "text/html": "<div>\n<style scoped>\n    .dataframe tbody tr th:only-of-type {\n        vertical-align: middle;\n    }\n\n    .dataframe tbody tr th {\n        vertical-align: top;\n    }\n\n    .dataframe thead th {\n        text-align: right;\n    }\n</style>\n<table border=\"1\" class=\"dataframe\">\n  <thead>\n    <tr style=\"text-align: right;\">\n      <th></th>\n      <th>name</th>\n      <th>BO-eucl-TF-IDF</th>\n    </tr>\n  </thead>\n  <tbody>\n    <tr>\n      <th>35817</th>\n      <td>Barack Obama</td>\n      <td>0.000000</td>\n    </tr>\n    <tr>\n      <th>38376</th>\n      <td>Samantha Power</td>\n      <td>139.364493</td>\n    </tr>\n    <tr>\n      <th>46811</th>\n      <td>Jeff Sessions</td>\n      <td>139.757740</td>\n    </tr>\n    <tr>\n      <th>7914</th>\n      <td>Phil Schiliro</td>\n      <td>139.812175</td>\n    </tr>\n    <tr>\n      <th>38714</th>\n      <td>Eric Stern (politician)</td>\n      <td>140.450064</td>\n    </tr>\n    <tr>\n      <th>6507</th>\n      <td>Bob Menendez</td>\n      <td>141.661111</td>\n    </tr>\n    <tr>\n      <th>44681</th>\n      <td>Jesse Lee (politician)</td>\n      <td>142.342440</td>\n    </tr>\n    <tr>\n      <th>6796</th>\n      <td>Eric Holder</td>\n      <td>142.490179</td>\n    </tr>\n    <tr>\n      <th>38495</th>\n      <td>Barney Frank</td>\n      <td>142.581337</td>\n    </tr>\n    <tr>\n      <th>56008</th>\n      <td>Nathan Cullen</td>\n      <td>142.751073</td>\n    </tr>\n  </tbody>\n</table>\n</div>"
     },
     "execution_count": 59,
     "metadata": {},
     "output_type": "execute_result"
    }
   ],
   "source": [
    "wiki.sort_values(by='BO-eucl-TF-IDF',ascending=True)[['name','BO-eucl-TF-IDF']][0:10]"
   ]
  },
  {
   "cell_type": "markdown",
   "metadata": {},
   "source": [
    "But one may wonder, is Biden's article that different from Obama's, more so than, say, Schiliro's? It turns out that, when we compute nearest neighbors using the Euclidean distances, we unwittingly favor short articles over long ones."
   ]
  },
  {
   "cell_type": "markdown",
   "metadata": {},
   "source": [
    "**b)** Let us compute the length of each Wikipedia document, and examine the document lengths for the 100 nearest neighbors to Obama's page. To compute text length use the same splitting rules you used in `vectorizer`."
   ]
  },
  {
   "cell_type": "code",
   "execution_count": 60,
   "metadata": {
    "collapsed": false,
    "ExecuteTime": {
     "end_time": "2024-01-15T13:54:55.540267Z",
     "start_time": "2024-01-15T13:54:52.642686Z"
    }
   },
   "outputs": [],
   "source": [
    "tokenizer = second_vectorizer.build_tokenizer()\n",
    "\n",
    "def compute_length(row):\n",
    "    return len(tokenizer(row['text']))\n",
    "\n",
    "wiki['length'] = wiki.apply(lambda row: compute_length(row), axis=1)"
   ]
  },
  {
   "cell_type": "code",
   "execution_count": 61,
   "metadata": {
    "collapsed": false,
    "ExecuteTime": {
     "end_time": "2024-01-15T13:54:55.556818Z",
     "start_time": "2024-01-15T13:54:55.540587Z"
    }
   },
   "outputs": [
    {
     "data": {
      "text/plain": "                          name  length  BO-eucl-TF-IDF\n35817             Barack Obama     540        0.000000\n38376           Samantha Power     310      139.364493\n46811            Jeff Sessions     230      139.757740\n7914             Phil Schiliro     208      139.812175\n38714  Eric Stern (politician)     255      140.450064\n...                        ...     ...             ...\n12834      Mark Waller (judge)     211      146.796202\n11303          Steven Weinberg     227      146.815087\n8277          John M. Facciola     207      146.823495\n11996        Thomas H. Jackson     216      146.836489\n50366  Patrick Lipton Robinson     201      146.849274\n\n[100 rows x 3 columns]",
      "text/html": "<div>\n<style scoped>\n    .dataframe tbody tr th:only-of-type {\n        vertical-align: middle;\n    }\n\n    .dataframe tbody tr th {\n        vertical-align: top;\n    }\n\n    .dataframe thead th {\n        text-align: right;\n    }\n</style>\n<table border=\"1\" class=\"dataframe\">\n  <thead>\n    <tr style=\"text-align: right;\">\n      <th></th>\n      <th>name</th>\n      <th>length</th>\n      <th>BO-eucl-TF-IDF</th>\n    </tr>\n  </thead>\n  <tbody>\n    <tr>\n      <th>35817</th>\n      <td>Barack Obama</td>\n      <td>540</td>\n      <td>0.000000</td>\n    </tr>\n    <tr>\n      <th>38376</th>\n      <td>Samantha Power</td>\n      <td>310</td>\n      <td>139.364493</td>\n    </tr>\n    <tr>\n      <th>46811</th>\n      <td>Jeff Sessions</td>\n      <td>230</td>\n      <td>139.757740</td>\n    </tr>\n    <tr>\n      <th>7914</th>\n      <td>Phil Schiliro</td>\n      <td>208</td>\n      <td>139.812175</td>\n    </tr>\n    <tr>\n      <th>38714</th>\n      <td>Eric Stern (politician)</td>\n      <td>255</td>\n      <td>140.450064</td>\n    </tr>\n    <tr>\n      <th>...</th>\n      <td>...</td>\n      <td>...</td>\n      <td>...</td>\n    </tr>\n    <tr>\n      <th>12834</th>\n      <td>Mark Waller (judge)</td>\n      <td>211</td>\n      <td>146.796202</td>\n    </tr>\n    <tr>\n      <th>11303</th>\n      <td>Steven Weinberg</td>\n      <td>227</td>\n      <td>146.815087</td>\n    </tr>\n    <tr>\n      <th>8277</th>\n      <td>John M. Facciola</td>\n      <td>207</td>\n      <td>146.823495</td>\n    </tr>\n    <tr>\n      <th>11996</th>\n      <td>Thomas H. Jackson</td>\n      <td>216</td>\n      <td>146.836489</td>\n    </tr>\n    <tr>\n      <th>50366</th>\n      <td>Patrick Lipton Robinson</td>\n      <td>201</td>\n      <td>146.849274</td>\n    </tr>\n  </tbody>\n</table>\n<p>100 rows × 3 columns</p>\n</div>"
     },
     "execution_count": 61,
     "metadata": {},
     "output_type": "execute_result"
    }
   ],
   "source": [
    "nearest_neighbors_euclidean = wiki.sort_values(by='BO-eucl-TF-IDF', ascending=True).head(n=100)[['name', 'length', 'BO-eucl-TF-IDF']]\n",
    "nearest_neighbors_euclidean"
   ]
  },
  {
   "cell_type": "markdown",
   "metadata": {},
   "source": [
    "**c)** To see how these document lengths compare to the lengths of other documents in the corpus, make a histogram of the document lengths of Obama's 100 nearest neighbors and compare to a histogram of document lengths for all documents."
   ]
  },
  {
   "cell_type": "code",
   "execution_count": 62,
   "metadata": {
    "collapsed": false,
    "ExecuteTime": {
     "end_time": "2024-01-15T13:54:55.790590Z",
     "start_time": "2024-01-15T13:54:55.564740Z"
    }
   },
   "outputs": [
    {
     "name": "stderr",
     "output_type": "stream",
     "text": [
      "/var/folders/kk/sxg6zhbs2t7gwnsh7xr9ygq00000gn/T/ipykernel_14839/2682065772.py:6: FutureWarning: Calling int on a single element Series is deprecated and will raise a TypeError in the future. Use int(ser.iloc[0]) instead\n",
      "  BIDEN_LEN = int(wiki[wiki['name'] == 'Joe Biden']['length'])\n",
      "/var/folders/kk/sxg6zhbs2t7gwnsh7xr9ygq00000gn/T/ipykernel_14839/2682065772.py:7: FutureWarning: Calling int on a single element Series is deprecated and will raise a TypeError in the future. Use int(ser.iloc[0]) instead\n",
      "  OBAMA_LEN = int(wiki[wiki['name'] == 'Barack Obama']['length'])\n"
     ]
    },
    {
     "data": {
      "text/plain": "<Figure size 1050x450 with 1 Axes>",
      "image/png": "[encoded data removed]"
     },
     "metadata": {},
     "output_type": "display_data"
    }
   ],
   "source": [
    "plt.figure(figsize=(10.5,4.5))\n",
    "plt.hist(wiki['length'], color='black', density=True, bins=100, label='Entire Wikipedia')\n",
    "plt.hist(nearest_neighbors_euclidean['length'], color='red', density=True, bins=50, label='100 NNs of Obama (Euclidean)'\n",
    "         , fc=(1, 0, 0, 0.9))\n",
    "\n",
    "BIDEN_LEN = int(wiki[wiki['name'] == 'Joe Biden']['length'])\n",
    "OBAMA_LEN = int(wiki[wiki['name'] == 'Barack Obama']['length'])\n",
    "\n",
    "plt.axvline(BIDEN_LEN, color='green', label='Length of Joe Biden', linestyle='--')\n",
    "plt.axvline(OBAMA_LEN, color='black', label='Length of Barack Obama', linestyle='--')\n",
    "\n",
    "plt.ylim([0, 0.04])\n",
    "plt.yticks(ticks=[0.0, 0.01, 0.02, 0.03, 0.04], labels=[0.0, 0.01, 0.02, 0.03, 0.04])\n",
    "plt.xlim([0, 1000])\n",
    "plt.title('Distribution of document length')\n",
    "plt.xlabel('# of words')\n",
    "plt.ylabel('Percentage')\n",
    "plt.legend()\n",
    "plt.tight_layout()"
   ]
  },
  {
   "cell_type": "markdown",
   "metadata": {},
   "source": [
    "Relative to the rest of Wikipedia, nearest neighbors of Obama are overwhemingly short, most of them being shorter than 300 words. The bias towards short articles is not appropriate in this application as there is really no reason to  favor short articles over long articles (they are all Wikipedia articles, after all). Many of the Wikipedia articles are 300 words or more, and both Obama and Biden are over 300 words long.\n",
    "\n",
    "**Note**: For the interest of computation time, the dataset given here contains _excerpts_ of the articles rather than full text. For instance, the actual Wikipedia article about Obama is around 25000 words. Do not be surprised by the low numbers shown in the histogram."
   ]
  },
  {
   "cell_type": "markdown",
   "metadata": {},
   "source": [
    "**Note:** Both word-count features and TF-IDF are proportional to word frequencies. While TF-IDF penalizes very common words, longer articles tend to have longer TF-IDF vectors simply because they have more words in them."
   ]
  },
  {
   "cell_type": "markdown",
   "metadata": {},
   "source": [
    "To remove this bias, we turn to **cosine distances**:\n",
    "$$\n",
    "d(\\mathbf{x},\\mathbf{y}) = 1 - \\frac{\\mathbf{x}^T\\mathbf{y}}{\\|\\mathbf{x}\\| \\|\\mathbf{y}\\|}\n",
    "$$\n",
    "Cosine distances let us compare word distributions of two articles of varying lengths."
   ]
  },
  {
   "cell_type": "markdown",
   "metadata": {},
   "source": [
    "**d)** Train a new nearest neighbor model, this time with cosine distances.  Then repeat the search for Obama's 100 nearest neighbors and make a plot to better visualize the effect of having used cosine distance in place of Euclidean on our TF-IDF vectors."
   ]
  },
  {
   "cell_type": "code",
   "execution_count": 63,
   "metadata": {
    "collapsed": false,
    "ExecuteTime": {
     "end_time": "2024-01-15T13:54:55.931696Z",
     "start_time": "2024-01-15T13:54:55.791975Z"
    }
   },
   "outputs": [
    {
     "data": {
      "text/plain": "                                  name  length  BO-cos-TF-IDF\n35817                     Barack Obama     540       0.000000\n24478                        Joe Biden     414       0.572725\n57108           Hillary Rodham Clinton     580       0.616149\n38376                   Samantha Power     310       0.625797\n38714          Eric Stern (politician)     255       0.651475\n...                                ...     ...            ...\n2045             Allan Ryan (attorney)     291       0.731376\n47085                     Ray Thornton     326       0.731908\n16392  P%C3%A9ter Kov%C3%A1cs (lawyer)     365       0.732172\n55495               Lokman Singh Karki    2486       0.732608\n22304                 Chung Dong-young     886       0.732785\n\n[100 rows x 3 columns]",
      "text/html": "<div>\n<style scoped>\n    .dataframe tbody tr th:only-of-type {\n        vertical-align: middle;\n    }\n\n    .dataframe tbody tr th {\n        vertical-align: top;\n    }\n\n    .dataframe thead th {\n        text-align: right;\n    }\n</style>\n<table border=\"1\" class=\"dataframe\">\n  <thead>\n    <tr style=\"text-align: right;\">\n      <th></th>\n      <th>name</th>\n      <th>length</th>\n      <th>BO-cos-TF-IDF</th>\n    </tr>\n  </thead>\n  <tbody>\n    <tr>\n      <th>35817</th>\n      <td>Barack Obama</td>\n      <td>540</td>\n      <td>0.000000</td>\n    </tr>\n    <tr>\n      <th>24478</th>\n      <td>Joe Biden</td>\n      <td>414</td>\n      <td>0.572725</td>\n    </tr>\n    <tr>\n      <th>57108</th>\n      <td>Hillary Rodham Clinton</td>\n      <td>580</td>\n      <td>0.616149</td>\n    </tr>\n    <tr>\n      <th>38376</th>\n      <td>Samantha Power</td>\n      <td>310</td>\n      <td>0.625797</td>\n    </tr>\n    <tr>\n      <th>38714</th>\n      <td>Eric Stern (politician)</td>\n      <td>255</td>\n      <td>0.651475</td>\n    </tr>\n    <tr>\n      <th>...</th>\n      <td>...</td>\n      <td>...</td>\n      <td>...</td>\n    </tr>\n    <tr>\n      <th>2045</th>\n      <td>Allan Ryan (attorney)</td>\n      <td>291</td>\n      <td>0.731376</td>\n    </tr>\n    <tr>\n      <th>47085</th>\n      <td>Ray Thornton</td>\n      <td>326</td>\n      <td>0.731908</td>\n    </tr>\n    <tr>\n      <th>16392</th>\n      <td>P%C3%A9ter Kov%C3%A1cs (lawyer)</td>\n      <td>365</td>\n      <td>0.732172</td>\n    </tr>\n    <tr>\n      <th>55495</th>\n      <td>Lokman Singh Karki</td>\n      <td>2486</td>\n      <td>0.732608</td>\n    </tr>\n    <tr>\n      <th>22304</th>\n      <td>Chung Dong-young</td>\n      <td>886</td>\n      <td>0.732785</td>\n    </tr>\n  </tbody>\n</table>\n<p>100 rows × 3 columns</p>\n</div>"
     },
     "execution_count": 63,
     "metadata": {},
     "output_type": "execute_result"
    }
   ],
   "source": [
    "dist = pairwise_distances(TFIDFmatrix, Y=TFIDFmatrix[obama_index], metric='cosine')\n",
    "wiki['BO-cos-TF-IDF'] = dist\n",
    "nearest_neighbors_cosine = wiki[['name', 'length', 'BO-cos-TF-IDF']].sort_values(by='BO-cos-TF-IDF', ascending=True).head(n=100)\n",
    "\n",
    "nearest_neighbors_cosine"
   ]
  },
  {
   "cell_type": "markdown",
   "metadata": {},
   "source": [
    "From a glance at the above table, things look better.  For example, we now see Joe Biden as Barack Obama's nearest neighbor!  We also see Hillary Clinton on the list.  This list looks even more plausible as nearest neighbors of Barack Obama."
   ]
  },
  {
   "cell_type": "code",
   "execution_count": 64,
   "metadata": {
    "collapsed": false,
    "ExecuteTime": {
     "end_time": "2024-01-15T13:54:56.209752Z",
     "start_time": "2024-01-15T13:54:55.936843Z"
    }
   },
   "outputs": [
    {
     "name": "stderr",
     "output_type": "stream",
     "text": [
      "/var/folders/kk/sxg6zhbs2t7gwnsh7xr9ygq00000gn/T/ipykernel_14839/3166589994.py:8: FutureWarning: Calling int on a single element Series is deprecated and will raise a TypeError in the future. Use int(ser.iloc[0]) instead\n",
      "  BIDEN_LEN = int(wiki[wiki['name'] == 'Joe Biden']['length'])\n",
      "/var/folders/kk/sxg6zhbs2t7gwnsh7xr9ygq00000gn/T/ipykernel_14839/3166589994.py:9: FutureWarning: Calling int on a single element Series is deprecated and will raise a TypeError in the future. Use int(ser.iloc[0]) instead\n",
      "  OBAMA_LEN = int(wiki[wiki['name'] == 'Barack Obama']['length'])\n"
     ]
    },
    {
     "data": {
      "text/plain": "<Figure size 1050x450 with 1 Axes>",
      "image/png": "[encoded data removed]"
     },
     "metadata": {},
     "output_type": "display_data"
    }
   ],
   "source": [
    "plt.figure(figsize=(10.5,4.5))\n",
    "\n",
    "plt.hist(wiki['length'], color='black', density=True, bins=100, label='Entire Wikipedia')\n",
    "plt.hist(nearest_neighbors_euclidean['length'], color='red', density=True, bins=50, label='100 NNs of Obama (Euclidean)'\n",
    "         , fc=(1, 0, 0, 0.9))\n",
    "plt.hist(nearest_neighbors_cosine['length'], density=True, bins=50, label='100 NNs of Obama (cosine)', fc=(0, 0, 1, 0.7))\n",
    "\n",
    "BIDEN_LEN = int(wiki[wiki['name'] == 'Joe Biden']['length'])\n",
    "OBAMA_LEN = int(wiki[wiki['name'] == 'Barack Obama']['length'])\n",
    "\n",
    "plt.axvline(BIDEN_LEN, color='green', label='Length of Joe Biden', linestyle='--')\n",
    "plt.axvline(OBAMA_LEN, color='black', label='Length of Barack Obama', linestyle='--')\n",
    "\n",
    "# Your code goes here\n",
    "plt.ylim([0, 0.04])\n",
    "plt.yticks(ticks=[0.0, 0.01, 0.02, 0.03, 0.04], labels=[0.0, 0.01, 0.02, 0.03, 0.04])\n",
    "plt.xlim([0, 1000])\n",
    "plt.title('Distribution of document length')\n",
    "plt.xlabel('# of words')\n",
    "plt.ylabel('Percentage')\n",
    "plt.legend()\n",
    "plt.tight_layout()"
   ]
  },
  {
   "cell_type": "markdown",
   "metadata": {},
   "source": [
    "Indeed, the 100 nearest neighbors using cosine distance provide a sampling across the range of document lengths, rather than just short articles like Euclidean distance provided."
   ]
  },
  {
   "cell_type": "markdown",
   "metadata": {},
   "source": [
    "**Moral of the story**: In deciding the features and distance measures, check if they produce results that make sense for your particular application."
   ]
  },
  {
   "cell_type": "markdown",
   "metadata": {},
   "source": [
    "## Ex. 5: Problem with cosine distances: tweets vs. long articles"
   ]
  },
  {
   "cell_type": "markdown",
   "metadata": {},
   "source": [
    "Happily ever after? Not so fast. Cosine distances ignore all document lengths, which may be great in certain situations but not in others. For instance, consider the following (admittedly contrived) example."
   ]
  },
  {
   "cell_type": "markdown",
   "metadata": {},
   "source": [
    "```\n",
    "+--------------------------------------------------------+\n",
    "|                                             +--------+ |\n",
    "|  One that shall not be named                | Follow | |\n",
    "|  @username                                  +--------+ |\n",
    "|                                                        |\n",
    "|  Democratic governments control law in response to     |\n",
    "|  popular act.                                          |\n",
    "|                                                        |\n",
    "|  8:05 AM - 16 May 2016                                 |\n",
    "|                                                        |\n",
    "|  Reply   Retweet (1,332)   Like (300)                  |\n",
    "|                                                        |\n",
    "+--------------------------------------------------------+\n",
    "```"
   ]
  },
  {
   "cell_type": "markdown",
   "metadata": {},
   "source": [
    "**a)** Transform the tweet into TF-IDF features, using the fit to the Wikipedia dataset. (That is, let's treat this tweet as an article in our Wikipedia dataset and see what happens.) How similar is this tweet to Barack Obama's Wikipedia article? "
   ]
  },
  {
   "cell_type": "code",
   "execution_count": 65,
   "metadata": {
    "collapsed": false,
    "ExecuteTime": {
     "end_time": "2024-01-15T13:54:57.169984Z",
     "start_time": "2024-01-15T13:54:56.216228Z"
    }
   },
   "outputs": [
    {
     "data": {
      "text/plain": "             word count    tf_idf\nact                   1  4.459778\ncontrol               1  4.721765\ndemocratic            1  4.102672\ngovernments           1  5.167571\nin                    1  1.000965\nlaw                   1  3.453823\npopular               1  3.764479\nresponse              1  5.261462\nto                    1  1.046945",
      "text/html": "<div>\n<style scoped>\n    .dataframe tbody tr th:only-of-type {\n        vertical-align: middle;\n    }\n\n    .dataframe tbody tr th {\n        vertical-align: top;\n    }\n\n    .dataframe thead th {\n        text-align: right;\n    }\n</style>\n<table border=\"1\" class=\"dataframe\">\n  <thead>\n    <tr style=\"text-align: right;\">\n      <th></th>\n      <th>word count</th>\n      <th>tf_idf</th>\n    </tr>\n  </thead>\n  <tbody>\n    <tr>\n      <th>act</th>\n      <td>1</td>\n      <td>4.459778</td>\n    </tr>\n    <tr>\n      <th>control</th>\n      <td>1</td>\n      <td>4.721765</td>\n    </tr>\n    <tr>\n      <th>democratic</th>\n      <td>1</td>\n      <td>4.102672</td>\n    </tr>\n    <tr>\n      <th>governments</th>\n      <td>1</td>\n      <td>5.167571</td>\n    </tr>\n    <tr>\n      <th>in</th>\n      <td>1</td>\n      <td>1.000965</td>\n    </tr>\n    <tr>\n      <th>law</th>\n      <td>1</td>\n      <td>3.453823</td>\n    </tr>\n    <tr>\n      <th>popular</th>\n      <td>1</td>\n      <td>3.764479</td>\n    </tr>\n    <tr>\n      <th>response</th>\n      <td>1</td>\n      <td>5.261462</td>\n    </tr>\n    <tr>\n      <th>to</th>\n      <td>1</td>\n      <td>1.046945</td>\n    </tr>\n  </tbody>\n</table>\n</div>"
     },
     "execution_count": 65,
     "metadata": {},
     "output_type": "execute_result"
    }
   ],
   "source": [
    "df = pd.DataFrame({'text': ['democratic governments control law in response to popular act']})\n",
    "\n",
    "WCmatrix=second_vectorizer.transform(df['text'])\n",
    "tweet_TFIDFmatrix = tfidf.transform(WCmatrix)\n",
    "\n",
    "tf_idf_index = tweet_TFIDFmatrix.toarray()\n",
    "word_count_index = WCmatrix.toarray()\n",
    "word_count = [word_count_index[0][i] for i in range(548465)]\n",
    "tf_idf_count = [tf_idf_index[0][i] for i in range(548465)]\n",
    "d = {'word count': word_count, 'tf_idf': tf_idf_count}\n",
    "df = pd.DataFrame(data=d, index=second_vectorizer.get_feature_names_out())\n",
    "df = df[df['word count'] != 0]\n",
    "df"
   ]
  },
  {
   "cell_type": "markdown",
   "metadata": {},
   "source": [
    "Let's compare this tweet's TF-IDF vectors  to Barack Obama's Wikipedia entry."
   ]
  },
  {
   "cell_type": "code",
   "execution_count": 66,
   "metadata": {
    "collapsed": false,
    "ExecuteTime": {
     "end_time": "2024-01-15T13:54:57.185998Z",
     "start_time": "2024-01-15T13:54:57.176285Z"
    }
   },
   "outputs": [
    {
     "data": {
      "text/plain": "          tf-idf\nobama  52.295653\nthe    40.004063\nact    35.678223\nin     30.028962\niraq   21.747379\n...          ...\nis      2.055233\nnew     1.887235\nwhich   1.767431\nthat    1.661407\nby      1.374553\n\n[273 rows x 1 columns]",
      "text/html": "<div>\n<style scoped>\n    .dataframe tbody tr th:only-of-type {\n        vertical-align: middle;\n    }\n\n    .dataframe tbody tr th {\n        vertical-align: top;\n    }\n\n    .dataframe thead th {\n        text-align: right;\n    }\n</style>\n<table border=\"1\" class=\"dataframe\">\n  <thead>\n    <tr style=\"text-align: right;\">\n      <th></th>\n      <th>tf-idf</th>\n    </tr>\n  </thead>\n  <tbody>\n    <tr>\n      <th>obama</th>\n      <td>52.295653</td>\n    </tr>\n    <tr>\n      <th>the</th>\n      <td>40.004063</td>\n    </tr>\n    <tr>\n      <th>act</th>\n      <td>35.678223</td>\n    </tr>\n    <tr>\n      <th>in</th>\n      <td>30.028962</td>\n    </tr>\n    <tr>\n      <th>iraq</th>\n      <td>21.747379</td>\n    </tr>\n    <tr>\n      <th>...</th>\n      <td>...</td>\n    </tr>\n    <tr>\n      <th>is</th>\n      <td>2.055233</td>\n    </tr>\n    <tr>\n      <th>new</th>\n      <td>1.887235</td>\n    </tr>\n    <tr>\n      <th>which</th>\n      <td>1.767431</td>\n    </tr>\n    <tr>\n      <th>that</th>\n      <td>1.661407</td>\n    </tr>\n    <tr>\n      <th>by</th>\n      <td>1.374553</td>\n    </tr>\n  </tbody>\n</table>\n<p>273 rows × 1 columns</p>\n</div>"
     },
     "execution_count": 66,
     "metadata": {},
     "output_type": "execute_result"
    }
   ],
   "source": [
    "obama_tf_idf"
   ]
  },
  {
   "cell_type": "markdown",
   "metadata": {},
   "source": [
    "**b)** Now, compute the cosine distance between the Barack Obama article and this tweet:"
   ]
  },
  {
   "cell_type": "code",
   "execution_count": 67,
   "metadata": {
    "collapsed": false,
    "ExecuteTime": {
     "end_time": "2024-01-15T13:54:57.188315Z",
     "start_time": "2024-01-15T13:54:57.182137Z"
    }
   },
   "outputs": [
    {
     "name": "stderr",
     "output_type": "stream",
     "text": [
      "/var/folders/kk/sxg6zhbs2t7gwnsh7xr9ygq00000gn/T/ipykernel_14839/3699025502.py:7: DeprecationWarning: Conversion of an array with ndim > 0 to a scalar is deprecated, and will error in future. Ensure you extract a single element from your array before performing this operation. (Deprecated NumPy 1.25.)\n",
      "  float(cosine_distances(TFIDFmatrix[obama_index], Y=tweet_TFIDFmatrix))\n"
     ]
    },
    {
     "data": {
      "text/plain": "0.6986645349790674"
     },
     "execution_count": 67,
     "metadata": {},
     "output_type": "execute_result"
    }
   ],
   "source": [
    "from sklearn.metrics.pairwise import cosine_distances # for one pair of samples we can just use this function\n",
    "\n",
    "common_matrix = obama_tf_idf.join(df, lsuffix='_Obama', rsuffix='_tweet', how='left').fillna(0)\n",
    "obama = np.array(common_matrix['tf-idf']).reshape(1, -1)\n",
    "tweet = np.array(common_matrix['tf_idf']).reshape(1, -1)\n",
    "\n",
    "float(cosine_distances(TFIDFmatrix[obama_index], Y=tweet_TFIDFmatrix))"
   ]
  },
  {
   "cell_type": "markdown",
   "metadata": {},
   "source": [
    "Let's compare this distance to the distance between the Barack Obama article and all of its Wikipedia nearest neighbors:"
   ]
  },
  {
   "cell_type": "code",
   "execution_count": 68,
   "metadata": {
    "collapsed": false,
    "ExecuteTime": {
     "end_time": "2024-01-15T13:54:57.236411Z",
     "start_time": "2024-01-15T13:54:57.189424Z"
    }
   },
   "outputs": [
    {
     "data": {
      "text/plain": "                              name  length  BO-cos-TF-IDF\n35817                 Barack Obama     540       0.000000\n24478                    Joe Biden     414       0.572725\n57108       Hillary Rodham Clinton     580       0.616149\n38376               Samantha Power     310       0.625797\n38714      Eric Stern (politician)     255       0.651475\n28447               George W. Bush     505       0.659478\n39357                  John McCain     410       0.661645\n48693                  Artur Davis     371       0.666690\n18827                 Henry Waxman     279       0.671226\n37199      Barry Sullivan (lawyer)     893       0.673300\n46811                Jeff Sessions     230       0.673581\n36452                 Bill Clinton     524       0.675260\n6796                   Eric Holder     232       0.677451\n24848              John C. Eastman     366       0.679724\n36425         Edward B. Montgomery     331       0.681387\n14754                  Mitt Romney     502       0.681761\n35357             Lawrence Summers     413       0.687272\n47303                   John Kerry     410       0.692701\n34344  Mary Dawson (civil servant)     434       0.696581\n55181                     Ron Paul     427       0.696642\n4565           Robinson O. Everett     764       0.698133\n46140                 Robert Gibbs     257       0.698549\n52859                    Ann Lewis     634       0.698799",
      "text/html": "<div>\n<style scoped>\n    .dataframe tbody tr th:only-of-type {\n        vertical-align: middle;\n    }\n\n    .dataframe tbody tr th {\n        vertical-align: top;\n    }\n\n    .dataframe thead th {\n        text-align: right;\n    }\n</style>\n<table border=\"1\" class=\"dataframe\">\n  <thead>\n    <tr style=\"text-align: right;\">\n      <th></th>\n      <th>name</th>\n      <th>length</th>\n      <th>BO-cos-TF-IDF</th>\n    </tr>\n  </thead>\n  <tbody>\n    <tr>\n      <th>35817</th>\n      <td>Barack Obama</td>\n      <td>540</td>\n      <td>0.000000</td>\n    </tr>\n    <tr>\n      <th>24478</th>\n      <td>Joe Biden</td>\n      <td>414</td>\n      <td>0.572725</td>\n    </tr>\n    <tr>\n      <th>57108</th>\n      <td>Hillary Rodham Clinton</td>\n      <td>580</td>\n      <td>0.616149</td>\n    </tr>\n    <tr>\n      <th>38376</th>\n      <td>Samantha Power</td>\n      <td>310</td>\n      <td>0.625797</td>\n    </tr>\n    <tr>\n      <th>38714</th>\n      <td>Eric Stern (politician)</td>\n      <td>255</td>\n      <td>0.651475</td>\n    </tr>\n    <tr>\n      <th>28447</th>\n      <td>George W. Bush</td>\n      <td>505</td>\n      <td>0.659478</td>\n    </tr>\n    <tr>\n      <th>39357</th>\n      <td>John McCain</td>\n      <td>410</td>\n      <td>0.661645</td>\n    </tr>\n    <tr>\n      <th>48693</th>\n      <td>Artur Davis</td>\n      <td>371</td>\n      <td>0.666690</td>\n    </tr>\n    <tr>\n      <th>18827</th>\n      <td>Henry Waxman</td>\n      <td>279</td>\n      <td>0.671226</td>\n    </tr>\n    <tr>\n      <th>37199</th>\n      <td>Barry Sullivan (lawyer)</td>\n      <td>893</td>\n      <td>0.673300</td>\n    </tr>\n    <tr>\n      <th>46811</th>\n      <td>Jeff Sessions</td>\n      <td>230</td>\n      <td>0.673581</td>\n    </tr>\n    <tr>\n      <th>36452</th>\n      <td>Bill Clinton</td>\n      <td>524</td>\n      <td>0.675260</td>\n    </tr>\n    <tr>\n      <th>6796</th>\n      <td>Eric Holder</td>\n      <td>232</td>\n      <td>0.677451</td>\n    </tr>\n    <tr>\n      <th>24848</th>\n      <td>John C. Eastman</td>\n      <td>366</td>\n      <td>0.679724</td>\n    </tr>\n    <tr>\n      <th>36425</th>\n      <td>Edward B. Montgomery</td>\n      <td>331</td>\n      <td>0.681387</td>\n    </tr>\n    <tr>\n      <th>14754</th>\n      <td>Mitt Romney</td>\n      <td>502</td>\n      <td>0.681761</td>\n    </tr>\n    <tr>\n      <th>35357</th>\n      <td>Lawrence Summers</td>\n      <td>413</td>\n      <td>0.687272</td>\n    </tr>\n    <tr>\n      <th>47303</th>\n      <td>John Kerry</td>\n      <td>410</td>\n      <td>0.692701</td>\n    </tr>\n    <tr>\n      <th>34344</th>\n      <td>Mary Dawson (civil servant)</td>\n      <td>434</td>\n      <td>0.696581</td>\n    </tr>\n    <tr>\n      <th>55181</th>\n      <td>Ron Paul</td>\n      <td>427</td>\n      <td>0.696642</td>\n    </tr>\n    <tr>\n      <th>4565</th>\n      <td>Robinson O. Everett</td>\n      <td>764</td>\n      <td>0.698133</td>\n    </tr>\n    <tr>\n      <th>46140</th>\n      <td>Robert Gibbs</td>\n      <td>257</td>\n      <td>0.698549</td>\n    </tr>\n    <tr>\n      <th>52859</th>\n      <td>Ann Lewis</td>\n      <td>634</td>\n      <td>0.698799</td>\n    </tr>\n  </tbody>\n</table>\n</div>"
     },
     "execution_count": 68,
     "metadata": {},
     "output_type": "execute_result"
    }
   ],
   "source": [
    "nearest_neighbors_cosine[0:23]"
   ]
  },
  {
   "cell_type": "markdown",
   "metadata": {},
   "source": [
    "With cosine distances, the tweet is \"nearer\" to Barack Obama than most people! If someone is reading the Barack Obama Wikipedia page, would you want to recommend they read this tweet?\n",
    "In practice, it is common to enforce maximum or minimum document lengths. After all, when someone is reading a long article from _The Atlantic_, you wouldn't recommend him/her a tweet."
   ]
  },
  {
   "cell_type": "code",
   "execution_count": 68,
   "outputs": [],
   "source": [],
   "metadata": {
    "collapsed": false,
    "ExecuteTime": {
     "end_time": "2024-01-15T13:54:57.236564Z",
     "start_time": "2024-01-15T13:54:57.191014Z"
    }
   }
  }
 ],
 "metadata": {
  "anaconda-cloud": {},
  "kernelspec": {
   "name": "python3",
   "language": "python",
   "display_name": "Python 3 (ipykernel)"
  },
  "language_info": {
   "codemirror_mode": {
    "name": "ipython",
    "version": 2
   },
   "file_extension": ".py",
   "mimetype": "text/x-python",
   "name": "python",
   "nbconvert_exporter": "python",
   "pygments_lexer": "ipython2",
   "version": "2.7.12"
  }
 },
 "nbformat": 4,
 "nbformat_minor": 4
}
