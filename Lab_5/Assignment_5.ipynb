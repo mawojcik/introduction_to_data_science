{
 "cells": [
  {
   "cell_type": "markdown",
   "metadata": {},
   "source": [
    "When exploring a large set of documents -- such as Wikipedia, news articles, StackOverflow, etc. -- it can be useful to get a list of related material. To find relevant documents you typically\n",
    "* Decide on a notion of similarity\n",
    "* Find the documents that are most similar \n",
    "\n",
    "In the assignment you will\n",
    "* Gain intuition for different notions of similarity and practice finding similar documents. \n",
    "* Explore the tradeoffs with representing documents using raw word counts and TF-IDF\n",
    "* Explore the behavior of different distance metrics by looking at the Wikipedia pages most similar to President Obama’s page."
   ]
  },
  {
   "cell_type": "code",
   "execution_count": 4,
   "metadata": {
    "collapsed": false,
    "ExecuteTime": {
     "end_time": "2023-12-20T13:18:34.193864Z",
     "start_time": "2023-12-20T13:18:33.918539Z"
    }
   },
   "outputs": [],
   "source": [
    "import matplotlib.pyplot as plt\n",
    "import numpy as np\n",
    "import pandas as pd\n",
    "%matplotlib inline"
   ]
  },
  {
   "cell_type": "markdown",
   "metadata": {},
   "source": [
    "## Load Wikipedia dataset"
   ]
  },
  {
   "cell_type": "markdown",
   "metadata": {},
   "source": [
    "We will be using the dataset of abridged Wikipedia pages. Each element of the dataset consists of a link to the wikipedia article, the name of the person, and the text of the article (in lowercase).  "
   ]
  },
  {
   "cell_type": "code",
   "execution_count": 5,
   "metadata": {
    "collapsed": false,
    "ExecuteTime": {
     "end_time": "2023-12-20T13:18:35.655548Z",
     "start_time": "2023-12-20T13:18:33.935885Z"
    }
   },
   "outputs": [
    {
     "data": {
      "text/plain": "                                                 URI                 name  \\\n0        <http://dbpedia.org/resource/Digby_Morrell>        Digby Morrell   \n1       <http://dbpedia.org/resource/Alfred_J._Lewy>       Alfred J. Lewy   \n2        <http://dbpedia.org/resource/Harpdog_Brown>        Harpdog Brown   \n3  <http://dbpedia.org/resource/Franz_Rottensteiner>  Franz Rottensteiner   \n4               <http://dbpedia.org/resource/G-Enka>               G-Enka   \n\n                                                text  \n0  digby morrell born 10 october 1979 is a former...  \n1  alfred j lewy aka sandy lewy graduated from un...  \n2  harpdog brown is a singer and harmonica player...  \n3  franz rottensteiner born in waidmannsfeld lowe...  \n4  henry krvits born 30 december 1974 in tallinn ...  ",
      "text/html": "<div>\n<style scoped>\n    .dataframe tbody tr th:only-of-type {\n        vertical-align: middle;\n    }\n\n    .dataframe tbody tr th {\n        vertical-align: top;\n    }\n\n    .dataframe thead th {\n        text-align: right;\n    }\n</style>\n<table border=\"1\" class=\"dataframe\">\n  <thead>\n    <tr style=\"text-align: right;\">\n      <th></th>\n      <th>URI</th>\n      <th>name</th>\n      <th>text</th>\n    </tr>\n  </thead>\n  <tbody>\n    <tr>\n      <th>0</th>\n      <td>&lt;http://dbpedia.org/resource/Digby_Morrell&gt;</td>\n      <td>Digby Morrell</td>\n      <td>digby morrell born 10 october 1979 is a former...</td>\n    </tr>\n    <tr>\n      <th>1</th>\n      <td>&lt;http://dbpedia.org/resource/Alfred_J._Lewy&gt;</td>\n      <td>Alfred J. Lewy</td>\n      <td>alfred j lewy aka sandy lewy graduated from un...</td>\n    </tr>\n    <tr>\n      <th>2</th>\n      <td>&lt;http://dbpedia.org/resource/Harpdog_Brown&gt;</td>\n      <td>Harpdog Brown</td>\n      <td>harpdog brown is a singer and harmonica player...</td>\n    </tr>\n    <tr>\n      <th>3</th>\n      <td>&lt;http://dbpedia.org/resource/Franz_Rottensteiner&gt;</td>\n      <td>Franz Rottensteiner</td>\n      <td>franz rottensteiner born in waidmannsfeld lowe...</td>\n    </tr>\n    <tr>\n      <th>4</th>\n      <td>&lt;http://dbpedia.org/resource/G-Enka&gt;</td>\n      <td>G-Enka</td>\n      <td>henry krvits born 30 december 1974 in tallinn ...</td>\n    </tr>\n  </tbody>\n</table>\n</div>"
     },
     "execution_count": 5,
     "metadata": {},
     "output_type": "execute_result"
    }
   ],
   "source": [
    "wiki = pd.read_csv('people_wiki.csv')\n",
    "wiki.head()"
   ]
  },
  {
   "cell_type": "markdown",
   "metadata": {},
   "source": [
    "If you want to check whether the text on the webpage agrees with the one here, you can display it with the following code:"
   ]
  },
  {
   "cell_type": "code",
   "execution_count": 6,
   "metadata": {
    "collapsed": true,
    "ExecuteTime": {
     "end_time": "2023-12-20T13:18:35.659423Z",
     "start_time": "2023-12-20T13:18:35.651564Z"
    }
   },
   "outputs": [],
   "source": [
    "# from IPython.display import HTML\n",
    "# print(wiki['text'][0])\n",
    "# HTML(url=wiki['URI'][0])"
   ]
  },
  {
   "cell_type": "markdown",
   "metadata": {},
   "source": [
    "## Ex. 1: Extract word count vectors"
   ]
  },
  {
   "cell_type": "markdown",
   "metadata": {},
   "source": [
    "As we have seen in Assignment 4, we can extract word count vectors using `CountVectorizer` function.\n",
    "- make sure you include words of unit length by using the parameter: `token_pattern=r\"(?u)\\b\\w+\\b\"`\n",
    "- do not use any stopwords\n",
    "- take 10000 most frequent words in the corpus\n",
    "- explicitly take all the words independent of in how many documents they occur\n",
    "- obtain the matrix of word counts"
   ]
  },
  {
   "cell_type": "code",
   "execution_count": 14,
   "metadata": {
    "collapsed": true,
    "ExecuteTime": {
     "end_time": "2023-12-20T13:23:35.679548Z",
     "start_time": "2023-12-20T13:23:14.943948Z"
    }
   },
   "outputs": [
    {
     "name": "stdout",
     "output_type": "stream",
     "text": [
      "  (0, 3)\t1\n",
      "  (0, 117)\t1\n",
      "  (0, 161)\t1\n",
      "  (0, 168)\t1\n",
      "  (0, 172)\t1\n",
      "  (0, 176)\t1\n",
      "  (0, 185)\t1\n",
      "  (0, 190)\t1\n",
      "  (0, 195)\t1\n",
      "  (0, 200)\t1\n",
      "  (0, 205)\t1\n",
      "  (0, 216)\t1\n",
      "  (0, 226)\t1\n",
      "  (0, 229)\t1\n",
      "  (0, 234)\t1\n",
      "  (0, 265)\t1\n",
      "  (0, 372)\t4\n",
      "  (0, 454)\t1\n",
      "  (0, 544)\t1\n",
      "  (0, 556)\t2\n",
      "  (0, 557)\t1\n",
      "  (0, 664)\t1\n",
      "  (0, 670)\t1\n",
      "  (0, 722)\t4\n",
      "  (0, 903)\t2\n",
      "  :\t:\n",
      "  (59070, 8555)\t1\n",
      "  (59070, 8625)\t1\n",
      "  (59070, 8628)\t1\n",
      "  (59070, 8629)\t2\n",
      "  (59070, 8642)\t1\n",
      "  (59070, 8656)\t1\n",
      "  (59070, 8666)\t1\n",
      "  (59070, 8823)\t1\n",
      "  (59070, 8963)\t1\n",
      "  (59070, 8978)\t1\n",
      "  (59070, 9038)\t1\n",
      "  (59070, 9060)\t2\n",
      "  (59070, 9063)\t14\n",
      "  (59070, 9111)\t1\n",
      "  (59070, 9120)\t2\n",
      "  (59070, 9142)\t1\n",
      "  (59070, 9162)\t6\n",
      "  (59070, 9441)\t2\n",
      "  (59070, 9449)\t1\n",
      "  (59070, 9579)\t2\n",
      "  (59070, 9704)\t8\n",
      "  (59070, 9751)\t1\n",
      "  (59070, 9774)\t3\n",
      "  (59070, 9788)\t1\n",
      "  (59070, 9860)\t1\n"
     ]
    }
   ],
   "source": [
    "from sklearn.feature_extraction.text import CountVectorizer\n",
    "\n",
    "vectorizer = CountVectorizer(\n",
    "    token_pattern=r\"(?u)\\b\\w+\\b\",\n",
    "    max_features=10000,\n",
    ")\n",
    "vectorizer.fit_transform(wiki[\"text\"])\n",
    "WCmatrix = vectorizer.transform(wiki[\"text\"])\n",
    "print(WCmatrix)"
   ]
  },
  {
   "cell_type": "markdown",
   "metadata": {},
   "source": [
    "\n",
    "## Ex. 2: Find nearest neighbors"
   ]
  },
  {
   "cell_type": "markdown",
   "metadata": {},
   "source": [
    "**a)** Start by finding the nearest neighbors of the Barack Obama page using the above word count matrix to represent the articles and **Euclidean** distance to measure distance.\n",
    "Save the distances in `wiki['BO-eucl']` and look at the top 10 nearest neighbors."
   ]
  },
  {
   "cell_type": "code",
   "execution_count": 24,
   "metadata": {
    "collapsed": true,
    "ExecuteTime": {
     "end_time": "2023-12-20T13:33:13.127879Z",
     "start_time": "2023-12-20T13:33:13.008241Z"
    }
   },
   "outputs": [
    {
     "data": {
      "text/plain": "array([[46.292548  ],\n       [59.53150426],\n       [54.64430437],\n       [43.76071297],\n       [57.84461946],\n       [51.73973328],\n       [51.33225107],\n       [44.29446918],\n       [55.38050198],\n       [55.09083408]])"
     },
     "execution_count": 24,
     "metadata": {},
     "output_type": "execute_result"
    }
   ],
   "source": [
    "# One can use the following:\n",
    "    # from sklearn.neighbors import NearestNeighbors\n",
    "    # nbrs = NearestNeighbors(n_neighbors=3, algorithm='brute',metric='euclidean').fit(X.toarray())\n",
    "    # distances, indices = nbrs.kneighbors(X.toarray())\n",
    "# but here let's use:\n",
    "from sklearn.metrics import pairwise_distances\n",
    "\n",
    "dist = pairwise_distances(WCmatrix, WCmatrix[wiki[\"name\"] == 'Barack Obama'], metric='euclidean', n_jobs=-1)\n",
    "# Your code goes here\n"
   ]
  },
  {
   "cell_type": "code",
   "execution_count": 40,
   "metadata": {
    "collapsed": false,
    "ExecuteTime": {
     "end_time": "2023-12-20T13:39:44.137514Z",
     "start_time": "2023-12-20T13:39:44.115280Z"
    }
   },
   "outputs": [
    {
     "data": {
      "text/plain": "                                                     URI  \\\n42487       <http://dbpedia.org/resource/Lee_Shin_Cheng>   \n44136   <http://dbpedia.org/resource/Mario_Marcel_Salas>   \n21645     <http://dbpedia.org/resource/Bj%C3%B6rn_Skifs>   \n28937       <http://dbpedia.org/resource/Michael_Briere>   \n59016       <http://dbpedia.org/resource/Roman_Polanski>   \n5145   <http://dbpedia.org/resource/Peter_Ellis_(chil...   \n50988        <http://dbpedia.org/resource/Louis_Karchin>   \n40793       <http://dbpedia.org/resource/Rubina_Gillani>   \n17579     <http://dbpedia.org/resource/Nathaniel_Kramer>   \n8879        <http://dbpedia.org/resource/Anelia_Pavlova>   \n\n                                 name  \\\n42487                  Lee Shin Cheng   \n44136              Mario Marcel Salas   \n21645                Bj%C3%B6rn Skifs   \n28937                  Michael Briere   \n59016                  Roman Polanski   \n5145   Peter Ellis (childcare worker)   \n50988                   Louis Karchin   \n40793                  Rubina Gillani   \n17579                Nathaniel Kramer   \n8879                   Anelia Pavlova   \n\n                                                    text    BO-eucl  \n42487  tan sri dato lee shin cheng born 3 june 1939 i...   0.000000  \n44136  mario marcel salas born july 30 1949 in san an...  31.336879  \n21645  bjrn nils olof skifs born 20 april 1947 in van...  33.645208  \n28937  michael briere is a canadian convicted of rape...  33.734256  \n59016  roman polanski born rajmund roman thierry pola...  34.351128  \n5145   peter hugh mcgregor ellis born 30 march 1958 i...  34.423829  \n50988  louis karchin born september 8 1951 is an amer...  34.597688  \n40793  rubina gillani is a pakistani medical doctor a...  34.669872  \n17579  nathaniel kramer is a film director director o...  35.383612  \n8879   anelia pavlova also known as annael is a bulga...  35.440090  ",
      "text/html": "<div>\n<style scoped>\n    .dataframe tbody tr th:only-of-type {\n        vertical-align: middle;\n    }\n\n    .dataframe tbody tr th {\n        vertical-align: top;\n    }\n\n    .dataframe thead th {\n        text-align: right;\n    }\n</style>\n<table border=\"1\" class=\"dataframe\">\n  <thead>\n    <tr style=\"text-align: right;\">\n      <th></th>\n      <th>URI</th>\n      <th>name</th>\n      <th>text</th>\n      <th>BO-eucl</th>\n    </tr>\n  </thead>\n  <tbody>\n    <tr>\n      <th>42487</th>\n      <td>&lt;http://dbpedia.org/resource/Lee_Shin_Cheng&gt;</td>\n      <td>Lee Shin Cheng</td>\n      <td>tan sri dato lee shin cheng born 3 june 1939 i...</td>\n      <td>0.000000</td>\n    </tr>\n    <tr>\n      <th>44136</th>\n      <td>&lt;http://dbpedia.org/resource/Mario_Marcel_Salas&gt;</td>\n      <td>Mario Marcel Salas</td>\n      <td>mario marcel salas born july 30 1949 in san an...</td>\n      <td>31.336879</td>\n    </tr>\n    <tr>\n      <th>21645</th>\n      <td>&lt;http://dbpedia.org/resource/Bj%C3%B6rn_Skifs&gt;</td>\n      <td>Bj%C3%B6rn Skifs</td>\n      <td>bjrn nils olof skifs born 20 april 1947 in van...</td>\n      <td>33.645208</td>\n    </tr>\n    <tr>\n      <th>28937</th>\n      <td>&lt;http://dbpedia.org/resource/Michael_Briere&gt;</td>\n      <td>Michael Briere</td>\n      <td>michael briere is a canadian convicted of rape...</td>\n      <td>33.734256</td>\n    </tr>\n    <tr>\n      <th>59016</th>\n      <td>&lt;http://dbpedia.org/resource/Roman_Polanski&gt;</td>\n      <td>Roman Polanski</td>\n      <td>roman polanski born rajmund roman thierry pola...</td>\n      <td>34.351128</td>\n    </tr>\n    <tr>\n      <th>5145</th>\n      <td>&lt;http://dbpedia.org/resource/Peter_Ellis_(chil...</td>\n      <td>Peter Ellis (childcare worker)</td>\n      <td>peter hugh mcgregor ellis born 30 march 1958 i...</td>\n      <td>34.423829</td>\n    </tr>\n    <tr>\n      <th>50988</th>\n      <td>&lt;http://dbpedia.org/resource/Louis_Karchin&gt;</td>\n      <td>Louis Karchin</td>\n      <td>louis karchin born september 8 1951 is an amer...</td>\n      <td>34.597688</td>\n    </tr>\n    <tr>\n      <th>40793</th>\n      <td>&lt;http://dbpedia.org/resource/Rubina_Gillani&gt;</td>\n      <td>Rubina Gillani</td>\n      <td>rubina gillani is a pakistani medical doctor a...</td>\n      <td>34.669872</td>\n    </tr>\n    <tr>\n      <th>17579</th>\n      <td>&lt;http://dbpedia.org/resource/Nathaniel_Kramer&gt;</td>\n      <td>Nathaniel Kramer</td>\n      <td>nathaniel kramer is a film director director o...</td>\n      <td>35.383612</td>\n    </tr>\n    <tr>\n      <th>8879</th>\n      <td>&lt;http://dbpedia.org/resource/Anelia_Pavlova&gt;</td>\n      <td>Anelia Pavlova</td>\n      <td>anelia pavlova also known as annael is a bulga...</td>\n      <td>35.440090</td>\n    </tr>\n  </tbody>\n</table>\n</div>"
     },
     "execution_count": 40,
     "metadata": {},
     "output_type": "execute_result"
    }
   ],
   "source": [
    "#saving the distances in wiki[\"BO-eucl\"] and printing top 10 nearest neighbours\n",
    "\n",
    "wiki[\"BO-eucl\"] = dist\n",
    "wiki = wiki.sort_values(by='BO-eucl')\n",
    "wiki.head(10)"
   ]
  },
  {
   "cell_type": "markdown",
   "metadata": {},
   "source": [
    "**b)** Measure the pairwise distance between the Wikipedia pages of Barack Obama, George W. Bush, and Joe Biden. Which of the three pairs has the smallest distance?"
   ]
  },
  {
   "cell_type": "code",
   "execution_count": null,
   "metadata": {
    "collapsed": false,
    "ExecuteTime": {
     "start_time": "2023-12-20T13:18:47.934603Z"
    }
   },
   "outputs": [],
   "source": [
    "# Your code goes here"
   ]
  },
  {
   "cell_type": "markdown",
   "metadata": {},
   "source": [
    "All of the 10 people from **a)** are politicians, but about half of them have rather tenuous connections with Obama, other than the fact that they are politicians, e.g.,\n",
    "\n",
    "* Francisco Barrio is a Mexican politician, and a former governor of Chihuahua.\n",
    "* Walter Mondale and Don Bonker are Democrats who made their career in late 1970s.\n",
    "\n",
    "Nearest neighbors with raw word counts got some things right, showing all politicians in the query result, but missed finer and important details."
   ]
  },
  {
   "cell_type": "markdown",
   "metadata": {},
   "source": [
    "**c)** Let's find out why Francisco Barrio was considered a close neighbor of Obama.\n",
    "To do this, look at the most frequently used words in each of Barack Obama and Francisco Barrio's pages."
   ]
  },
  {
   "cell_type": "code",
   "execution_count": null,
   "metadata": {
    "collapsed": true,
    "ExecuteTime": {
     "start_time": "2023-12-20T13:18:47.937025Z"
    }
   },
   "outputs": [],
   "source": [
    "def top_words(name):\n",
    "    \"\"\"\n",
    "    Get a table of the most frequent words in the given person's wikipedia page.\n",
    "    \"\"\"\n",
    "    # Your code goes here\n",
    "    \n",
    "    return df.sort_values(by='count',ascending=False)"
   ]
  },
  {
   "cell_type": "code",
   "execution_count": null,
   "metadata": {
    "collapsed": false,
    "ExecuteTime": {
     "end_time": "2023-12-20T13:18:47.946193Z",
     "start_time": "2023-12-20T13:18:47.938781Z"
    }
   },
   "outputs": [],
   "source": [
    "obama_words = top_words('Barack Obama')\n",
    "obama_words"
   ]
  },
  {
   "cell_type": "code",
   "execution_count": null,
   "metadata": {
    "collapsed": false,
    "ExecuteTime": {
     "start_time": "2023-12-20T13:18:47.940863Z"
    }
   },
   "outputs": [],
   "source": [
    "barrio_words = top_words('Francisco Barrio')\n",
    "barrio_words"
   ]
  },
  {
   "cell_type": "markdown",
   "metadata": {},
   "source": [
    "**d)** Extract the list of most frequent **common** words that appear in both Obama's and Barrio's documents and display the five words that appear most often in Barrio's article.\n",
    "\n",
    "Use a dataframe operation known as **join**. The **join** operation is very useful when it comes to playing around with data: it lets you combine the content of two tables using a shared column (in this case, the index column of words). See [the documentation](https://pandas.pydata.org/pandas-docs/stable/reference/api/pandas.DataFrame.join.html) for more details."
   ]
  },
  {
   "cell_type": "code",
   "execution_count": null,
   "metadata": {
    "collapsed": false,
    "ExecuteTime": {
     "start_time": "2023-12-20T13:18:47.943492Z"
    }
   },
   "outputs": [],
   "source": [
    "# Modify the code to avoid error.\n",
    "\n",
    "common_words = obama_words.join(barrio_words)\n",
    "common_words.sort_values(by='count_Barrio', ascending=False).head(5)"
   ]
  },
  {
   "cell_type": "markdown",
   "metadata": {},
   "source": [
    "Collect all words that appear both in Barack Obama and George W. Bush pages.  Out of those words, find the 10 words that show up most often in Obama's page. "
   ]
  },
  {
   "cell_type": "code",
   "execution_count": null,
   "metadata": {
    "collapsed": false,
    "ExecuteTime": {
     "end_time": "2023-12-20T13:18:47.949491Z",
     "start_time": "2023-12-20T13:18:47.946969Z"
    }
   },
   "outputs": [],
   "source": [
    "bush_words = top_words('George W. Bush')\n",
    "# Modify the code to avoid error.\n",
    "obama_words.join(bush_words).head(10)"
   ]
  },
  {
   "cell_type": "markdown",
   "metadata": {},
   "source": [
    "**Note.** Even though common words are swamping out important subtle differences, commonalities in rarer political words still matter on the margin. This is why politicians are being listed in the query result instead of musicians, for example. In the next subsection, we will introduce a different metric that will place greater emphasis on those rarer words."
   ]
  },
  {
   "cell_type": "markdown",
   "metadata": {},
   "source": [
    "**e)** Among the words that appear in both Barack Obama and Francisco Barrio, take the 15 that appear most frequently in Obama. How many of the articles in the Wikipedia dataset contain all of those 15 words? Which are they?"
   ]
  },
  {
   "cell_type": "code",
   "execution_count": null,
   "metadata": {
    "collapsed": false,
    "ExecuteTime": {
     "start_time": "2023-12-20T13:18:47.949236Z"
    }
   },
   "outputs": [],
   "source": [
    "# It might be helpful to use:\n",
    "word_to_ind={v: i for i, v in enumerate(vectorizer.get_feature_names())} # a dictionary with words as keys and indices as values\n",
    "\n",
    "# Your code goes here\n",
    "\n",
    "articles.sum()"
   ]
  },
  {
   "cell_type": "code",
   "execution_count": null,
   "metadata": {
    "collapsed": false,
    "ExecuteTime": {
     "start_time": "2023-12-20T13:18:47.951533Z"
    }
   },
   "outputs": [],
   "source": [
    "wiki[articles]['name']"
   ]
  },
  {
   "cell_type": "markdown",
   "metadata": {},
   "source": [
    "## Ex. 3: TF-IDF to the rescue"
   ]
  },
  {
   "cell_type": "markdown",
   "metadata": {},
   "source": [
    "Much of the perceived commonalities between Obama and Barrio were due to occurrences of extremely frequent words, such as \"the\", \"and\", and \"his\". So nearest neighbors is recommending plausible results sometimes for the wrong reasons.\n",
    "\n",
    "To retrieve articles that are more relevant, we should focus more on rare words that don't happen in every article. **TF-IDF** (term frequency–inverse document frequency) is a feature representation that penalizes words that are too common."
   ]
  },
  {
   "cell_type": "markdown",
   "metadata": {},
   "source": [
    "**a)** Repeat the search for the 10 nearest neighbors of Barack Obama with Euclidean distance of TF-IDF. This time do not limit to only 10000 most frequent words, but take all of them."
   ]
  },
  {
   "cell_type": "code",
   "execution_count": null,
   "metadata": {
    "collapsed": true,
    "ExecuteTime": {
     "start_time": "2023-12-20T13:18:47.953773Z"
    }
   },
   "outputs": [],
   "source": [
    "# We could use:\n",
    "    # from sklearn.feature_extraction.text import TfidfVectorizer\n",
    "# but since we already know how to compute CountVectorizer, let's use:\n",
    "from sklearn.feature_extraction.text import TfidfTransformer\n",
    "\n",
    "vectorizer = CountVectorizer(# Your code goes here\n",
    "                            )\n",
    "WCmatrix=vectorizer.# Your code goes here\n",
    "\n",
    "tfidf=TfidfTransformer# Your code goes here; use smooth_idf=False, norm=None\n",
    "TFIDFmatrix = # Your code goes here"
   ]
  },
  {
   "cell_type": "code",
   "execution_count": null,
   "metadata": {
    "collapsed": false,
    "ExecuteTime": {
     "start_time": "2023-12-20T13:18:47.956257Z"
    }
   },
   "outputs": [],
   "source": [
    "# now recompute the distances as before but for TF-IDF\n",
    "dist = pairwise_distances(# Your code goes here\n",
    "                        )\n",
    "# add the distances as a column in the wiki dataframe\n",
    "wiki['BO-eucl-TF-IDF'] = # Your code goes here\n"
   ]
  },
  {
   "cell_type": "markdown",
   "metadata": {},
   "source": [
    "Let's determine whether this list makes sense.\n",
    "* With a notable exception of Nathan Cullen, the other 8 are all American politicians who are contemporaries of Barack Obama.\n",
    "* Phil Schiliro, Jesse Lee, Samantha Power, Eric Stern, Eric Holder worked for Obama.\n",
    "\n",
    "Clearly, the results are more plausible with the use of TF-IDF. Let's take a look at the word vector for Obama and Schilirio's pages. Notice that TF-IDF representation assigns a weight to each word. This weight captures relative importance of that word in the document."
   ]
  },
  {
   "cell_type": "markdown",
   "metadata": {},
   "source": [
    "**b)** Sort the words in Obama's article by their TF-IDF weights; do the same for Schiliro's article as well.\n",
    "Using the **join** operation we learned earlier, compute the common words shared by Obama's and Schiliro's articles.\n",
    "Sort the common words by their TF-IDF weights in Obama's document."
   ]
  },
  {
   "cell_type": "code",
   "execution_count": null,
   "metadata": {
    "collapsed": true,
    "ExecuteTime": {
     "start_time": "2023-12-20T13:18:47.958755Z"
    }
   },
   "outputs": [],
   "source": [
    "def top_words_tf_idf(name):\n",
    "    \"\"\"\n",
    "    Get a table of the largest tf-idf words in the given person's wikipedia page.\n",
    "    \"\"\"\n",
    "    # Your code goes here\n",
    "    \n",
    "    return df.sort_values(by='tf-idf',ascending=False)"
   ]
  },
  {
   "cell_type": "code",
   "execution_count": null,
   "metadata": {
    "collapsed": false,
    "ExecuteTime": {
     "end_time": "2023-12-20T13:18:48.031136Z",
     "start_time": "2023-12-20T13:18:47.961083Z"
    }
   },
   "outputs": [],
   "source": [
    "obama_tf_idf = top_words_tf_idf('Barack Obama')\n",
    "schiliro_tf_idf = top_words_tf_idf('Phil Schiliro')\n",
    "common_words = # Your code goes here"
   ]
  },
  {
   "cell_type": "markdown",
   "metadata": {},
   "source": [
    "**c)** Among the words that appear in both Barack Obama and Phil Schiliro, take the 15 that have largest weights in Obama. How many of the articles in the Wikipedia dataset contain all of those 15 words? Which are they?"
   ]
  },
  {
   "cell_type": "code",
   "execution_count": null,
   "metadata": {
    "collapsed": false,
    "ExecuteTime": {
     "start_time": "2023-12-20T13:18:47.963010Z"
    }
   },
   "outputs": [],
   "source": [
    "# It might be helpful to use:\n",
    "word_to_ind={v: i for i, v in enumerate(vectorizer.get_feature_names())} # a dictionary with words as keys and indices as values\n",
    "\n",
    "# Your code goes here\n",
    "\n",
    "articles.sum()"
   ]
  },
  {
   "cell_type": "code",
   "execution_count": null,
   "metadata": {
    "collapsed": false,
    "ExecuteTime": {
     "start_time": "2023-12-20T13:18:47.964736Z"
    }
   },
   "outputs": [],
   "source": [
    "wiki[articles]['name']"
   ]
  },
  {
   "cell_type": "markdown",
   "metadata": {},
   "source": [
    "Notice the huge difference in this calculation using TF-IDF scores instead  of raw word counts. We've eliminated noise arising from extremely common words."
   ]
  },
  {
   "cell_type": "markdown",
   "metadata": {},
   "source": [
    "## Ex. 4: Choosing metrics"
   ]
  },
  {
   "cell_type": "markdown",
   "metadata": {},
   "source": [
    "**a)** Compute the Euclidean distance between TF-IDF features of Obama and Biden."
   ]
  },
  {
   "cell_type": "code",
   "execution_count": null,
   "metadata": {
    "collapsed": false,
    "ExecuteTime": {
     "start_time": "2023-12-20T13:18:47.966174Z"
    }
   },
   "outputs": [],
   "source": [
    "dist = # Your code goes here"
   ]
  },
  {
   "cell_type": "markdown",
   "metadata": {},
   "source": [
    "The distance is larger than the distances we found for the 10 nearest neighbors, which we repeat here for readability:"
   ]
  },
  {
   "cell_type": "code",
   "execution_count": null,
   "metadata": {
    "collapsed": false,
    "ExecuteTime": {
     "start_time": "2023-12-20T13:18:47.967482Z"
    }
   },
   "outputs": [],
   "source": [
    "wiki.sort_values(by='BO-eucl-TF-IDF',ascending=True)[['name','BO-eucl-TF-IDF']][0:10]"
   ]
  },
  {
   "cell_type": "markdown",
   "metadata": {},
   "source": [
    "But one may wonder, is Biden's article that different from Obama's, more so than, say, Schiliro's? It turns out that, when we compute nearest neighbors using the Euclidean distances, we unwittingly favor short articles over long ones."
   ]
  },
  {
   "cell_type": "markdown",
   "metadata": {},
   "source": [
    "**b)** Let us compute the length of each Wikipedia document, and examine the document lengths for the 100 nearest neighbors to Obama's page. To compute text length use the same splitting rules you used in `vectorizer`."
   ]
  },
  {
   "cell_type": "code",
   "execution_count": null,
   "metadata": {
    "collapsed": false,
    "ExecuteTime": {
     "start_time": "2023-12-20T13:18:47.968714Z"
    }
   },
   "outputs": [],
   "source": [
    "tokenizer = # Your code goes here\n",
    "\n",
    "def compute_length(row):\n",
    "# Here we could use simply:\n",
    "#     return len(row['text'].split(' '))\n",
    "    return len(tokenizer(row['text']))\n",
    "\n",
    "wiki['length'] = # Your code goes here"
   ]
  },
  {
   "cell_type": "code",
   "execution_count": null,
   "metadata": {
    "collapsed": false,
    "ExecuteTime": {
     "start_time": "2023-12-20T13:18:47.969950Z"
    }
   },
   "outputs": [],
   "source": [
    "nearest_neighbors_euclidean = # Your code goes here"
   ]
  },
  {
   "cell_type": "markdown",
   "metadata": {},
   "source": [
    "**c)** To see how these document lengths compare to the lengths of other documents in the corpus, make a histogram of the document lengths of Obama's 100 nearest neighbors and compare to a histogram of document lengths for all documents."
   ]
  },
  {
   "cell_type": "code",
   "execution_count": null,
   "metadata": {
    "collapsed": false,
    "ExecuteTime": {
     "start_time": "2023-12-20T13:18:47.971425Z"
    }
   },
   "outputs": [],
   "source": [
    "plt.figure(figsize=(10.5,4.5))\n",
    "plt.hist(# Your code goes here\n",
    "        )\n",
    "plt.axvline(# Your code goes here\n",
    "        )\n",
    "\n",
    "# Your code goes here\n",
    "\n",
    "plt.tight_layout()"
   ]
  },
  {
   "cell_type": "markdown",
   "metadata": {},
   "source": [
    "Relative to the rest of Wikipedia, nearest neighbors of Obama are overwhemingly short, most of them being shorter than 300 words. The bias towards short articles is not appropriate in this application as there is really no reason to  favor short articles over long articles (they are all Wikipedia articles, after all). Many of the Wikipedia articles are 300 words or more, and both Obama and Biden are over 300 words long.\n",
    "\n",
    "**Note**: For the interest of computation time, the dataset given here contains _excerpts_ of the articles rather than full text. For instance, the actual Wikipedia article about Obama is around 25000 words. Do not be surprised by the low numbers shown in the histogram."
   ]
  },
  {
   "cell_type": "markdown",
   "metadata": {},
   "source": [
    "**Note:** Both word-count features and TF-IDF are proportional to word frequencies. While TF-IDF penalizes very common words, longer articles tend to have longer TF-IDF vectors simply because they have more words in them."
   ]
  },
  {
   "cell_type": "markdown",
   "metadata": {},
   "source": [
    "To remove this bias, we turn to **cosine distances**:\n",
    "$$\n",
    "d(\\mathbf{x},\\mathbf{y}) = 1 - \\frac{\\mathbf{x}^T\\mathbf{y}}{\\|\\mathbf{x}\\| \\|\\mathbf{y}\\|}\n",
    "$$\n",
    "Cosine distances let us compare word distributions of two articles of varying lengths."
   ]
  },
  {
   "cell_type": "markdown",
   "metadata": {},
   "source": [
    "**d)** Train a new nearest neighbor model, this time with cosine distances.  Then repeat the search for Obama's 100 nearest neighbors and make a plot to better visualize the effect of having used cosine distance in place of Euclidean on our TF-IDF vectors."
   ]
  },
  {
   "cell_type": "code",
   "execution_count": null,
   "metadata": {
    "collapsed": false,
    "ExecuteTime": {
     "start_time": "2023-12-20T13:18:47.972628Z"
    }
   },
   "outputs": [],
   "source": [
    "# Your code goes here\n",
    "nearest_neighbors_cosine"
   ]
  },
  {
   "cell_type": "markdown",
   "metadata": {},
   "source": [
    "From a glance at the above table, things look better.  For example, we now see Joe Biden as Barack Obama's nearest neighbor!  We also see Hillary Clinton on the list.  This list looks even more plausible as nearest neighbors of Barack Obama."
   ]
  },
  {
   "cell_type": "code",
   "execution_count": null,
   "metadata": {
    "collapsed": false,
    "ExecuteTime": {
     "start_time": "2023-12-20T13:18:47.973973Z"
    }
   },
   "outputs": [],
   "source": [
    "plt.figure(figsize=(10.5,4.5))\n",
    "plt.hist(# Your code goes here\n",
    "        )\n",
    "plt.axvline(# Your code goes here\n",
    "        )\n",
    "\n",
    "# Your code goes here\n",
    "\n",
    "plt.tight_layout()"
   ]
  },
  {
   "cell_type": "markdown",
   "metadata": {},
   "source": [
    "Indeed, the 100 nearest neighbors using cosine distance provide a sampling across the range of document lengths, rather than just short articles like Euclidean distance provided."
   ]
  },
  {
   "cell_type": "markdown",
   "metadata": {},
   "source": [
    "**Moral of the story**: In deciding the features and distance measures, check if they produce results that make sense for your particular application."
   ]
  },
  {
   "cell_type": "markdown",
   "metadata": {},
   "source": [
    "## Ex. 5: Problem with cosine distances: tweets vs. long articles"
   ]
  },
  {
   "cell_type": "markdown",
   "metadata": {},
   "source": [
    "Happily ever after? Not so fast. Cosine distances ignore all document lengths, which may be great in certain situations but not in others. For instance, consider the following (admittedly contrived) example."
   ]
  },
  {
   "cell_type": "markdown",
   "metadata": {},
   "source": [
    "```\n",
    "+--------------------------------------------------------+\n",
    "|                                             +--------+ |\n",
    "|  One that shall not be named                | Follow | |\n",
    "|  @username                                  +--------+ |\n",
    "|                                                        |\n",
    "|  Democratic governments control law in response to     |\n",
    "|  popular act.                                          |\n",
    "|                                                        |\n",
    "|  8:05 AM - 16 May 2016                                 |\n",
    "|                                                        |\n",
    "|  Reply   Retweet (1,332)   Like (300)                  |\n",
    "|                                                        |\n",
    "+--------------------------------------------------------+\n",
    "```"
   ]
  },
  {
   "cell_type": "markdown",
   "metadata": {},
   "source": [
    "**a)** Transform the tweet into TF-IDF features, using the fit to the Wikipedia dataset. (That is, let's treat this tweet as an article in our Wikipedia dataset and see what happens.) How similar is this tweet to Barack Obama's Wikipedia article? "
   ]
  },
  {
   "cell_type": "code",
   "execution_count": null,
   "metadata": {
    "collapsed": false,
    "ExecuteTime": {
     "start_time": "2023-12-20T13:18:47.975293Z"
    }
   },
   "outputs": [],
   "source": [
    "df = pd.DataFrame({'text': ['democratic governments control law in response to popular act']})\n",
    "\n",
    "# Your code goes here"
   ]
  },
  {
   "cell_type": "markdown",
   "metadata": {},
   "source": [
    "Let's compare this tweet's TF-IDF vectors  to Barack Obama's Wikipedia entry."
   ]
  },
  {
   "cell_type": "code",
   "execution_count": null,
   "metadata": {
    "collapsed": false,
    "ExecuteTime": {
     "start_time": "2023-12-20T13:18:47.976619Z"
    }
   },
   "outputs": [],
   "source": [
    "obama_tf_idf"
   ]
  },
  {
   "cell_type": "markdown",
   "metadata": {},
   "source": [
    "**b)** Now, compute the cosine distance between the Barack Obama article and this tweet:"
   ]
  },
  {
   "cell_type": "code",
   "execution_count": null,
   "metadata": {
    "collapsed": false,
    "ExecuteTime": {
     "start_time": "2023-12-20T13:18:47.977845Z"
    }
   },
   "outputs": [],
   "source": [
    "from sklearn.metrics.pairwise import cosine_distances # for one pair of samples we can just use this function\n",
    "\n",
    "# Your code goes here"
   ]
  },
  {
   "cell_type": "markdown",
   "metadata": {},
   "source": [
    "Let's compare this distance to the distance between the Barack Obama article and all of its Wikipedia nearest neighbors:"
   ]
  },
  {
   "cell_type": "code",
   "execution_count": null,
   "metadata": {
    "collapsed": false,
    "ExecuteTime": {
     "start_time": "2023-12-20T13:18:47.979004Z"
    }
   },
   "outputs": [],
   "source": [
    "nearest_neighbors_cosine[0:23]"
   ]
  },
  {
   "cell_type": "markdown",
   "metadata": {},
   "source": [
    "With cosine distances, the tweet is \"nearer\" to Barack Obama than most people! If someone is reading the Barack Obama Wikipedia page, would you want to recommend they read this tweet?\n",
    "In practice, it is common to enforce maximum or minimum document lengths. After all, when someone is reading a long article from _The Atlantic_, you wouldn't recommend him/her a tweet."
   ]
  }
 ],
 "metadata": {
  "anaconda-cloud": {},
  "kernelspec": {
   "name": "python3",
   "language": "python",
   "display_name": "Python 3 (ipykernel)"
  },
  "language_info": {
   "codemirror_mode": {
    "name": "ipython",
    "version": 2
   },
   "file_extension": ".py",
   "mimetype": "text/x-python",
   "name": "python",
   "nbconvert_exporter": "python",
   "pygments_lexer": "ipython2",
   "version": "2.7.12"
  }
 },
 "nbformat": 4,
 "nbformat_minor": 4
}
